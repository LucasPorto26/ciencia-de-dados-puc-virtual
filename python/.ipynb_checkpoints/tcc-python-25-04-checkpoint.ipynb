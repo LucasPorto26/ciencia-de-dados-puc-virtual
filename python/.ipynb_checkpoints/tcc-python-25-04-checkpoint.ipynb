{
 "cells": [
  {
   "cell_type": "code",
   "execution_count": 10,
   "metadata": {},
   "outputs": [
    {
     "data": {
      "text/html": [
       "        <script type=\"text/javascript\">\n",
       "        window.PlotlyConfig = {MathJaxConfig: 'local'};\n",
       "        if (window.MathJax) {MathJax.Hub.Config({SVG: {font: \"STIX-Web\"}});}\n",
       "        if (typeof require !== 'undefined') {\n",
       "        require.undef(\"plotly\");\n",
       "        requirejs.config({\n",
       "            paths: {\n",
       "                'plotly': ['https://cdn.plot.ly/plotly-latest.min']\n",
       "            }\n",
       "        });\n",
       "        require(['plotly'], function(Plotly) {\n",
       "            window._Plotly = Plotly;\n",
       "        });\n",
       "        }\n",
       "        </script>\n",
       "        "
      ]
     },
     "metadata": {},
     "output_type": "display_data"
    },
    {
     "name": "stdout",
     "output_type": "stream",
     "text": [
      "oi\n",
      "1303\n",
      "1303\n",
      "oi\n",
      "1275\n",
      "1275\n",
      "              Open         High          Low        Close    Adj Close  \\\n",
      "count  1021.000000  1021.000000  1021.000000  1021.000000  1021.000000   \n",
      "mean     17.821401    18.084251    17.522870    17.790548    16.938085   \n",
      "std       7.164016     7.207320     7.100975     7.152208     7.132328   \n",
      "min       4.200000     4.270000     4.120000     4.230000     3.924259   \n",
      "25%      12.960000    13.050000    12.700000    12.870000    11.939769   \n",
      "50%      16.250000    16.549999    16.020000    16.190001    15.353781   \n",
      "75%      25.049999    25.420000    24.660000    24.990000    23.848036   \n",
      "max      30.889999    31.240000    30.500000    30.969999    30.698339   \n",
      "\n",
      "             Volume      clClose  \n",
      "count  1.021000e+03  1021.000000  \n",
      "mean   5.669655e+07    52.669461  \n",
      "std    3.087118e+07    10.045782  \n",
      "min    0.000000e+00    26.209999  \n",
      "25%    3.733110e+07    45.939999  \n",
      "50%    4.992090e+07    51.500000  \n",
      "75%    6.750720e+07    59.980000  \n",
      "max    2.548138e+08    76.410004  \n"
     ]
    },
    {
     "data": {
      "application/vnd.plotly.v1+json": {
       "config": {
        "linkText": "Export to plot.ly",
        "plotlyServerURL": "https://plot.ly",
        "showLink": false
       },
       "data": [
        {
         "close": [
          11.78,
          11.99,
          10.79,
          10.73,
          10.36,
          10.12,
          10.03,
          10.02,
          10.7,
          10.42,
          10.49,
          10.03,
          10.01,
          10.34,
          9.69,
          9.99,
          9.98,
          9.5,
          9.3,
          9.15,
          8.99,
          8.74,
          8.3,
          7.89,
          7.85,
          8.13,
          8.92,
          9.19,
          8.59,
          8.82,
          8.76,
          8.64,
          8.39,
          7.97,
          7.66,
          7.72,
          8.14,
          7.86,
          7.6,
          7.3,
          6.97,
          6.96,
          6.82,
          6.44,
          6.59,
          7.24,
          7.77,
          7.82,
          8.19,
          8.47,
          8.75,
          8.13,
          7.96,
          8,
          7.95,
          7.95,
          7.75,
          8.02,
          7.99,
          7.85,
          7.6,
          7.61,
          7.71,
          8.48,
          8.08,
          8.11,
          7.91,
          7.61,
          7.72,
          7.58,
          7.27,
          7.76,
          7.82,
          7.84,
          8.08,
          8.5,
          7.92,
          7.6,
          7.67,
          7.49,
          7.52,
          7.52,
          7.19,
          7.13,
          7.65,
          7.25,
          7.21,
          7.42,
          7.29,
          7.2,
          6.64,
          6.79,
          6.93,
          6.7,
          6.69,
          6.87,
          6.68,
          6.4,
          6.26,
          6.27,
          5.53,
          5.27,
          5.69,
          5.17,
          4.66,
          4.43,
          4.5,
          4.41,
          4.57,
          4.6,
          4.84,
          4.72,
          4.3,
          4.73,
          4.54,
          4.31,
          4.23,
          4.45,
          4.68,
          4.59,
          4.46,
          5.04,
          4.87,
          4.89,
          4.87,
          5.14,
          5.31,
          6.57,
          7.22,
          7.37,
          7.47,
          7.6,
          8.09,
          7.4,
          6.61,
          7.23,
          8.1,
          8.11,
          7.78,
          7.81,
          8.44,
          8.44,
          8.31,
          8.36,
          7.54,
          7.8,
          7.7,
          8.26,
          8.39,
          9.04,
          9.49,
          9.69,
          9.24,
          9.61,
          9.48,
          9.75,
          9.67,
          10.25,
          10.23,
          10.23,
          10.17,
          9.92,
          9.81,
          10.08,
          9.48,
          10.25,
          9.79,
          9.46,
          9.75,
          9.5,
          8.96,
          8.9,
          8.5,
          8.53,
          8.67,
          8.38,
          8.04,
          8.18,
          8.32,
          8.57
         ],
         "high": [
          12.06,
          11.99,
          11.54,
          11.24,
          10.72,
          10.56,
          10.23,
          10.22,
          10.77,
          10.93,
          10.7,
          10.41,
          10.55,
          10.39,
          10.55,
          10.03,
          9.98,
          9.97,
          9.68,
          9.36,
          9.2,
          9.05,
          8.64,
          8.17,
          8.23,
          8.13,
          8.93,
          9.29,
          9.09,
          8.84,
          9.21,
          8.79,
          8.9,
          8.15,
          7.99,
          7.82,
          8.24,
          8.11,
          7.76,
          7.68,
          7.24,
          7.14,
          7.22,
          6.75,
          6.79,
          7.26,
          7.83,
          8.14,
          8.34,
          8.9,
          8.84,
          8.47,
          8.23,
          8.07,
          8.08,
          7.96,
          8.06,
          8.11,
          8.28,
          8.13,
          7.86,
          7.93,
          7.78,
          8.48,
          8.65,
          8.17,
          7.93,
          7.69,
          7.83,
          7.74,
          7.56,
          7.86,
          8.03,
          7.98,
          8.1,
          8.5,
          8.04,
          7.86,
          7.84,
          7.76,
          7.59,
          7.97,
          7.61,
          7.2,
          7.82,
          7.53,
          7.23,
          7.47,
          7.36,
          7.52,
          7.09,
          6.82,
          7.04,
          6.9,
          6.87,
          7.03,
          7,
          6.54,
          6.43,
          6.45,
          6.12,
          5.74,
          5.69,
          5.44,
          5.05,
          4.5,
          4.67,
          4.77,
          4.64,
          5.13,
          4.86,
          4.86,
          4.65,
          4.94,
          4.78,
          4.41,
          4.27,
          4.51,
          4.82,
          4.87,
          4.57,
          5.04,
          4.93,
          5.08,
          5.1,
          5.23,
          5.37,
          6.57,
          7.9,
          7.53,
          7.84,
          7.78,
          8.22,
          8.2,
          6.96,
          7.23,
          8.19,
          8.18,
          7.96,
          8,
          8.48,
          9,
          8.31,
          8.36,
          7.54,
          7.8,
          7.7,
          8.34,
          8.39,
          9.04,
          9.49,
          9.83,
          9.72,
          9.61,
          9.64,
          9.93,
          9.74,
          10.3,
          10.54,
          10.54,
          10.36,
          10.15,
          10.3,
          10.13,
          10.05,
          10.5,
          10.47,
          10.06,
          9.85,
          9.88,
          9.25,
          9.46,
          8.67,
          8.85,
          8.94,
          8.62,
          8.57,
          8.25,
          8.41,
          8.67
         ],
         "low": [
          11.72,
          11.82,
          10.75,
          10.6,
          10.33,
          10.12,
          9.76,
          9.61,
          9.91,
          10.24,
          10.32,
          9.95,
          10.01,
          9.74,
          9.68,
          9.57,
          9.47,
          9.5,
          9.3,
          9.12,
          8.82,
          8.63,
          8.29,
          7.53,
          7.85,
          7.85,
          8.23,
          8.52,
          8.54,
          8.33,
          8.54,
          8.58,
          8.36,
          7.81,
          7.59,
          7.46,
          7.74,
          7.86,
          7.5,
          7.3,
          6.81,
          6.6,
          6.77,
          6.44,
          6.5,
          6.97,
          6.9,
          7.75,
          7.84,
          8.27,
          8.28,
          8.07,
          7.89,
          7.67,
          7.81,
          7.76,
          7.71,
          7.81,
          7.94,
          7.8,
          7.55,
          7.57,
          7.54,
          7.77,
          8.02,
          7.87,
          7.59,
          7.51,
          7.64,
          7.53,
          7.23,
          7.64,
          7.79,
          7.62,
          7.85,
          7.95,
          7.82,
          7.57,
          7.42,
          7.45,
          7.35,
          7.42,
          7.15,
          6.95,
          7.27,
          7.21,
          7.07,
          7.3,
          7.09,
          7.19,
          6.62,
          6.62,
          6.87,
          6.65,
          6.68,
          6.55,
          6.62,
          6.4,
          6.08,
          6.13,
          5.51,
          5.25,
          5.13,
          5.16,
          4.64,
          4.26,
          4.36,
          4.4,
          4.16,
          4.35,
          4.52,
          4.66,
          4.3,
          4.36,
          4.53,
          4.28,
          4.12,
          4.3,
          4.51,
          4.55,
          4.4,
          4.63,
          4.65,
          4.79,
          4.83,
          4.98,
          5.1,
          6.57,
          6.57,
          6.95,
          7.08,
          7.36,
          7.67,
          7.4,
          6.56,
          6.41,
          7.71,
          7.73,
          7.66,
          7.32,
          7.91,
          8.28,
          8.31,
          8.36,
          7.54,
          7.8,
          7.7,
          8.04,
          8.39,
          9.04,
          9.49,
          9.07,
          8.89,
          9.61,
          9.34,
          9.29,
          9.34,
          9.77,
          10.08,
          10.01,
          9.93,
          9.85,
          9.6,
          9.58,
          8.84,
          9.99,
          9.79,
          9.39,
          9.52,
          9.46,
          8.65,
          8.9,
          8.42,
          8.45,
          8.59,
          8.06,
          8.04,
          7.86,
          8.03,
          8.45
         ],
         "open": [
          11.96,
          11.89,
          11.46,
          10.91,
          10.61,
          10.22,
          10.17,
          9.69,
          10.01,
          10.83,
          10.48,
          10.36,
          10.41,
          9.86,
          10.25,
          9.81,
          9.79,
          9.91,
          9.61,
          9.2,
          9.06,
          8.95,
          8.6,
          7.76,
          8.1,
          8.07,
          8.25,
          8.71,
          8.75,
          8.75,
          8.93,
          8.7,
          8.81,
          7.9,
          7.94,
          7.7,
          7.77,
          8.05,
          7.75,
          7.66,
          7.24,
          6.61,
          7.12,
          6.74,
          6.54,
          7.25,
          6.99,
          7.9,
          7.86,
          8.51,
          8.46,
          8.36,
          8.07,
          8,
          7.99,
          7.9,
          7.95,
          7.82,
          8.26,
          8.05,
          7.86,
          7.57,
          7.6,
          7.84,
          8.58,
          8.08,
          7.83,
          7.6,
          7.71,
          7.72,
          7.5,
          7.8,
          7.81,
          7.96,
          7.9,
          8.05,
          7.95,
          7.81,
          7.54,
          7.67,
          7.54,
          7.97,
          7.6,
          7.2,
          7.34,
          7.26,
          7.15,
          7.34,
          7.28,
          7.35,
          7.06,
          6.76,
          6.91,
          6.9,
          6.81,
          6.57,
          6.92,
          6.53,
          6.19,
          6.38,
          6.12,
          5.7,
          5.31,
          5.35,
          5.03,
          4.5,
          4.37,
          4.73,
          4.22,
          4.67,
          4.7,
          4.74,
          4.56,
          4.56,
          4.73,
          4.3,
          4.2,
          4.37,
          4.54,
          4.69,
          4.5,
          4.67,
          4.77,
          4.81,
          5.02,
          5.08,
          5.31,
          6.57,
          6.57,
          7.25,
          7.37,
          7.7,
          7.94,
          8.13,
          6.83,
          6.51,
          8.15,
          7.85,
          7.88,
          7.53,
          8.15,
          8.7,
          8.31,
          8.36,
          7.54,
          7.8,
          7.7,
          8.13,
          8.39,
          9.04,
          9.49,
          9.25,
          9.65,
          9.61,
          9.4,
          9.32,
          9.48,
          9.85,
          10.23,
          10.23,
          10.25,
          9.85,
          10.28,
          9.63,
          10.01,
          10.39,
          10.4,
          9.93,
          9.55,
          9.83,
          9.25,
          9.2,
          8.55,
          8.69,
          8.68,
          8.18,
          8.36,
          8.09,
          8.19,
          8.51
         ],
         "type": "candlestick",
         "x": [
          "2015-07-15",
          "2015-07-16",
          "2015-07-20",
          "2015-07-21",
          "2015-07-22",
          "2015-07-23",
          "2015-07-24",
          "2015-07-28",
          "2015-07-29",
          "2015-07-30",
          "2015-07-31",
          "2015-08-03",
          "2015-08-05",
          "2015-08-06",
          "2015-08-07",
          "2015-08-10",
          "2015-08-11",
          "2015-08-13",
          "2015-08-14",
          "2015-08-17",
          "2015-08-18",
          "2015-08-19",
          "2015-08-21",
          "2015-08-24",
          "2015-08-25",
          "2015-08-26",
          "2015-08-27",
          "2015-08-31",
          "2015-09-01",
          "2015-09-02",
          "2015-09-03",
          "2015-09-08",
          "2015-09-09",
          "2015-09-10",
          "2015-09-11",
          "2015-09-14",
          "2015-09-16",
          "2015-09-17",
          "2015-09-18",
          "2015-09-21",
          "2015-09-22",
          "2015-09-24",
          "2015-09-25",
          "2015-09-28",
          "2015-09-29",
          "2015-09-30",
          "2015-10-02",
          "2015-10-05",
          "2015-10-06",
          "2015-10-07",
          "2015-10-08",
          "2015-10-13",
          "2015-10-14",
          "2015-10-15",
          "2015-10-16",
          "2015-10-19",
          "2015-10-21",
          "2015-10-22",
          "2015-10-23",
          "2015-10-26",
          "2015-10-27",
          "2015-10-29",
          "2015-10-30",
          "2015-11-03",
          "2015-11-04",
          "2015-11-05",
          "2015-11-09",
          "2015-11-10",
          "2015-11-11",
          "2015-11-12",
          "2015-11-13",
          "2015-11-17",
          "2015-11-18",
          "2015-11-19",
          "2015-11-23",
          "2015-11-24",
          "2015-11-26",
          "2015-11-27",
          "2015-11-30",
          "2015-12-01",
          "2015-12-02",
          "2015-12-04",
          "2015-12-07",
          "2015-12-08",
          "2015-12-09",
          "2015-12-11",
          "2015-12-14",
          "2015-12-15",
          "2015-12-16",
          "2015-12-17",
          "2015-12-21",
          "2015-12-22",
          "2015-12-23",
          "2015-12-28",
          "2015-12-29",
          "2016-01-04",
          "2016-01-05",
          "2016-01-06",
          "2016-01-07",
          "2016-01-08",
          "2016-01-12",
          "2016-01-13",
          "2016-01-14",
          "2016-01-15",
          "2016-01-19",
          "2016-01-20",
          "2016-01-21",
          "2016-01-22",
          "2016-01-27",
          "2016-01-28",
          "2016-01-29",
          "2016-02-01",
          "2016-02-02",
          "2016-02-04",
          "2016-02-05",
          "2016-02-10",
          "2016-02-11",
          "2016-02-12",
          "2016-02-17",
          "2016-02-18",
          "2016-02-19",
          "2016-02-22",
          "2016-02-24",
          "2016-02-25",
          "2016-02-26",
          "2016-02-29",
          "2016-03-01",
          "2016-03-03",
          "2016-03-04",
          "2016-03-07",
          "2016-03-08",
          "2016-03-09",
          "2016-03-11",
          "2016-03-14",
          "2016-03-15",
          "2016-03-16",
          "2016-03-17",
          "2016-03-22",
          "2016-03-23",
          "2016-03-24",
          "2016-03-28",
          "2016-03-30",
          "2016-03-31",
          "2016-04-01",
          "2016-04-04",
          "2016-04-05",
          "2016-04-07",
          "2016-04-08",
          "2016-04-11",
          "2016-04-12",
          "2016-04-13",
          "2016-04-15",
          "2016-04-18",
          "2016-04-19",
          "2016-04-20",
          "2016-04-22",
          "2016-04-26",
          "2016-04-27",
          "2016-04-28",
          "2016-04-29",
          "2016-05-02",
          "2016-05-04",
          "2016-05-05",
          "2016-05-06",
          "2016-05-09",
          "2016-05-11",
          "2016-05-12",
          "2016-05-13",
          "2016-05-16",
          "2016-05-17",
          "2016-05-19",
          "2016-05-20",
          "2016-05-23",
          "2016-05-24",
          "2016-05-25",
          "2016-05-30",
          "2016-05-31",
          "2016-06-01",
          "2016-06-02",
          "2016-06-03"
         ]
        }
       ],
       "layout": {
        "autosize": true,
        "template": {
         "data": {
          "bar": [
           {
            "error_x": {
             "color": "#2a3f5f"
            },
            "error_y": {
             "color": "#2a3f5f"
            },
            "marker": {
             "line": {
              "color": "#E5ECF6",
              "width": 0.5
             }
            },
            "type": "bar"
           }
          ],
          "barpolar": [
           {
            "marker": {
             "line": {
              "color": "#E5ECF6",
              "width": 0.5
             }
            },
            "type": "barpolar"
           }
          ],
          "carpet": [
           {
            "aaxis": {
             "endlinecolor": "#2a3f5f",
             "gridcolor": "white",
             "linecolor": "white",
             "minorgridcolor": "white",
             "startlinecolor": "#2a3f5f"
            },
            "baxis": {
             "endlinecolor": "#2a3f5f",
             "gridcolor": "white",
             "linecolor": "white",
             "minorgridcolor": "white",
             "startlinecolor": "#2a3f5f"
            },
            "type": "carpet"
           }
          ],
          "choropleth": [
           {
            "colorbar": {
             "outlinewidth": 0,
             "ticks": ""
            },
            "type": "choropleth"
           }
          ],
          "contour": [
           {
            "colorbar": {
             "outlinewidth": 0,
             "ticks": ""
            },
            "colorscale": [
             [
              0,
              "#0d0887"
             ],
             [
              0.1111111111111111,
              "#46039f"
             ],
             [
              0.2222222222222222,
              "#7201a8"
             ],
             [
              0.3333333333333333,
              "#9c179e"
             ],
             [
              0.4444444444444444,
              "#bd3786"
             ],
             [
              0.5555555555555556,
              "#d8576b"
             ],
             [
              0.6666666666666666,
              "#ed7953"
             ],
             [
              0.7777777777777778,
              "#fb9f3a"
             ],
             [
              0.8888888888888888,
              "#fdca26"
             ],
             [
              1,
              "#f0f921"
             ]
            ],
            "type": "contour"
           }
          ],
          "contourcarpet": [
           {
            "colorbar": {
             "outlinewidth": 0,
             "ticks": ""
            },
            "type": "contourcarpet"
           }
          ],
          "heatmap": [
           {
            "colorbar": {
             "outlinewidth": 0,
             "ticks": ""
            },
            "colorscale": [
             [
              0,
              "#0d0887"
             ],
             [
              0.1111111111111111,
              "#46039f"
             ],
             [
              0.2222222222222222,
              "#7201a8"
             ],
             [
              0.3333333333333333,
              "#9c179e"
             ],
             [
              0.4444444444444444,
              "#bd3786"
             ],
             [
              0.5555555555555556,
              "#d8576b"
             ],
             [
              0.6666666666666666,
              "#ed7953"
             ],
             [
              0.7777777777777778,
              "#fb9f3a"
             ],
             [
              0.8888888888888888,
              "#fdca26"
             ],
             [
              1,
              "#f0f921"
             ]
            ],
            "type": "heatmap"
           }
          ],
          "heatmapgl": [
           {
            "colorbar": {
             "outlinewidth": 0,
             "ticks": ""
            },
            "colorscale": [
             [
              0,
              "#0d0887"
             ],
             [
              0.1111111111111111,
              "#46039f"
             ],
             [
              0.2222222222222222,
              "#7201a8"
             ],
             [
              0.3333333333333333,
              "#9c179e"
             ],
             [
              0.4444444444444444,
              "#bd3786"
             ],
             [
              0.5555555555555556,
              "#d8576b"
             ],
             [
              0.6666666666666666,
              "#ed7953"
             ],
             [
              0.7777777777777778,
              "#fb9f3a"
             ],
             [
              0.8888888888888888,
              "#fdca26"
             ],
             [
              1,
              "#f0f921"
             ]
            ],
            "type": "heatmapgl"
           }
          ],
          "histogram": [
           {
            "marker": {
             "colorbar": {
              "outlinewidth": 0,
              "ticks": ""
             }
            },
            "type": "histogram"
           }
          ],
          "histogram2d": [
           {
            "colorbar": {
             "outlinewidth": 0,
             "ticks": ""
            },
            "colorscale": [
             [
              0,
              "#0d0887"
             ],
             [
              0.1111111111111111,
              "#46039f"
             ],
             [
              0.2222222222222222,
              "#7201a8"
             ],
             [
              0.3333333333333333,
              "#9c179e"
             ],
             [
              0.4444444444444444,
              "#bd3786"
             ],
             [
              0.5555555555555556,
              "#d8576b"
             ],
             [
              0.6666666666666666,
              "#ed7953"
             ],
             [
              0.7777777777777778,
              "#fb9f3a"
             ],
             [
              0.8888888888888888,
              "#fdca26"
             ],
             [
              1,
              "#f0f921"
             ]
            ],
            "type": "histogram2d"
           }
          ],
          "histogram2dcontour": [
           {
            "colorbar": {
             "outlinewidth": 0,
             "ticks": ""
            },
            "colorscale": [
             [
              0,
              "#0d0887"
             ],
             [
              0.1111111111111111,
              "#46039f"
             ],
             [
              0.2222222222222222,
              "#7201a8"
             ],
             [
              0.3333333333333333,
              "#9c179e"
             ],
             [
              0.4444444444444444,
              "#bd3786"
             ],
             [
              0.5555555555555556,
              "#d8576b"
             ],
             [
              0.6666666666666666,
              "#ed7953"
             ],
             [
              0.7777777777777778,
              "#fb9f3a"
             ],
             [
              0.8888888888888888,
              "#fdca26"
             ],
             [
              1,
              "#f0f921"
             ]
            ],
            "type": "histogram2dcontour"
           }
          ],
          "mesh3d": [
           {
            "colorbar": {
             "outlinewidth": 0,
             "ticks": ""
            },
            "type": "mesh3d"
           }
          ],
          "parcoords": [
           {
            "line": {
             "colorbar": {
              "outlinewidth": 0,
              "ticks": ""
             }
            },
            "type": "parcoords"
           }
          ],
          "pie": [
           {
            "automargin": true,
            "type": "pie"
           }
          ],
          "scatter": [
           {
            "marker": {
             "colorbar": {
              "outlinewidth": 0,
              "ticks": ""
             }
            },
            "type": "scatter"
           }
          ],
          "scatter3d": [
           {
            "line": {
             "colorbar": {
              "outlinewidth": 0,
              "ticks": ""
             }
            },
            "marker": {
             "colorbar": {
              "outlinewidth": 0,
              "ticks": ""
             }
            },
            "type": "scatter3d"
           }
          ],
          "scattercarpet": [
           {
            "marker": {
             "colorbar": {
              "outlinewidth": 0,
              "ticks": ""
             }
            },
            "type": "scattercarpet"
           }
          ],
          "scattergeo": [
           {
            "marker": {
             "colorbar": {
              "outlinewidth": 0,
              "ticks": ""
             }
            },
            "type": "scattergeo"
           }
          ],
          "scattergl": [
           {
            "marker": {
             "colorbar": {
              "outlinewidth": 0,
              "ticks": ""
             }
            },
            "type": "scattergl"
           }
          ],
          "scattermapbox": [
           {
            "marker": {
             "colorbar": {
              "outlinewidth": 0,
              "ticks": ""
             }
            },
            "type": "scattermapbox"
           }
          ],
          "scatterpolar": [
           {
            "marker": {
             "colorbar": {
              "outlinewidth": 0,
              "ticks": ""
             }
            },
            "type": "scatterpolar"
           }
          ],
          "scatterpolargl": [
           {
            "marker": {
             "colorbar": {
              "outlinewidth": 0,
              "ticks": ""
             }
            },
            "type": "scatterpolargl"
           }
          ],
          "scatterternary": [
           {
            "marker": {
             "colorbar": {
              "outlinewidth": 0,
              "ticks": ""
             }
            },
            "type": "scatterternary"
           }
          ],
          "surface": [
           {
            "colorbar": {
             "outlinewidth": 0,
             "ticks": ""
            },
            "colorscale": [
             [
              0,
              "#0d0887"
             ],
             [
              0.1111111111111111,
              "#46039f"
             ],
             [
              0.2222222222222222,
              "#7201a8"
             ],
             [
              0.3333333333333333,
              "#9c179e"
             ],
             [
              0.4444444444444444,
              "#bd3786"
             ],
             [
              0.5555555555555556,
              "#d8576b"
             ],
             [
              0.6666666666666666,
              "#ed7953"
             ],
             [
              0.7777777777777778,
              "#fb9f3a"
             ],
             [
              0.8888888888888888,
              "#fdca26"
             ],
             [
              1,
              "#f0f921"
             ]
            ],
            "type": "surface"
           }
          ],
          "table": [
           {
            "cells": {
             "fill": {
              "color": "#EBF0F8"
             },
             "line": {
              "color": "white"
             }
            },
            "header": {
             "fill": {
              "color": "#C8D4E3"
             },
             "line": {
              "color": "white"
             }
            },
            "type": "table"
           }
          ]
         },
         "layout": {
          "annotationdefaults": {
           "arrowcolor": "#2a3f5f",
           "arrowhead": 0,
           "arrowwidth": 1
          },
          "autotypenumbers": "strict",
          "coloraxis": {
           "colorbar": {
            "outlinewidth": 0,
            "ticks": ""
           }
          },
          "colorscale": {
           "diverging": [
            [
             0,
             "#8e0152"
            ],
            [
             0.1,
             "#c51b7d"
            ],
            [
             0.2,
             "#de77ae"
            ],
            [
             0.3,
             "#f1b6da"
            ],
            [
             0.4,
             "#fde0ef"
            ],
            [
             0.5,
             "#f7f7f7"
            ],
            [
             0.6,
             "#e6f5d0"
            ],
            [
             0.7,
             "#b8e186"
            ],
            [
             0.8,
             "#7fbc41"
            ],
            [
             0.9,
             "#4d9221"
            ],
            [
             1,
             "#276419"
            ]
           ],
           "sequential": [
            [
             0,
             "#0d0887"
            ],
            [
             0.1111111111111111,
             "#46039f"
            ],
            [
             0.2222222222222222,
             "#7201a8"
            ],
            [
             0.3333333333333333,
             "#9c179e"
            ],
            [
             0.4444444444444444,
             "#bd3786"
            ],
            [
             0.5555555555555556,
             "#d8576b"
            ],
            [
             0.6666666666666666,
             "#ed7953"
            ],
            [
             0.7777777777777778,
             "#fb9f3a"
            ],
            [
             0.8888888888888888,
             "#fdca26"
            ],
            [
             1,
             "#f0f921"
            ]
           ],
           "sequentialminus": [
            [
             0,
             "#0d0887"
            ],
            [
             0.1111111111111111,
             "#46039f"
            ],
            [
             0.2222222222222222,
             "#7201a8"
            ],
            [
             0.3333333333333333,
             "#9c179e"
            ],
            [
             0.4444444444444444,
             "#bd3786"
            ],
            [
             0.5555555555555556,
             "#d8576b"
            ],
            [
             0.6666666666666666,
             "#ed7953"
            ],
            [
             0.7777777777777778,
             "#fb9f3a"
            ],
            [
             0.8888888888888888,
             "#fdca26"
            ],
            [
             1,
             "#f0f921"
            ]
           ]
          },
          "colorway": [
           "#636efa",
           "#EF553B",
           "#00cc96",
           "#ab63fa",
           "#FFA15A",
           "#19d3f3",
           "#FF6692",
           "#B6E880",
           "#FF97FF",
           "#FECB52"
          ],
          "font": {
           "color": "#2a3f5f"
          },
          "geo": {
           "bgcolor": "white",
           "lakecolor": "white",
           "landcolor": "#E5ECF6",
           "showlakes": true,
           "showland": true,
           "subunitcolor": "white"
          },
          "hoverlabel": {
           "align": "left"
          },
          "hovermode": "closest",
          "mapbox": {
           "style": "light"
          },
          "paper_bgcolor": "white",
          "plot_bgcolor": "#E5ECF6",
          "polar": {
           "angularaxis": {
            "gridcolor": "white",
            "linecolor": "white",
            "ticks": ""
           },
           "bgcolor": "#E5ECF6",
           "radialaxis": {
            "gridcolor": "white",
            "linecolor": "white",
            "ticks": ""
           }
          },
          "scene": {
           "xaxis": {
            "backgroundcolor": "#E5ECF6",
            "gridcolor": "white",
            "gridwidth": 2,
            "linecolor": "white",
            "showbackground": true,
            "ticks": "",
            "zerolinecolor": "white"
           },
           "yaxis": {
            "backgroundcolor": "#E5ECF6",
            "gridcolor": "white",
            "gridwidth": 2,
            "linecolor": "white",
            "showbackground": true,
            "ticks": "",
            "zerolinecolor": "white"
           },
           "zaxis": {
            "backgroundcolor": "#E5ECF6",
            "gridcolor": "white",
            "gridwidth": 2,
            "linecolor": "white",
            "showbackground": true,
            "ticks": "",
            "zerolinecolor": "white"
           }
          },
          "shapedefaults": {
           "line": {
            "color": "#2a3f5f"
           }
          },
          "ternary": {
           "aaxis": {
            "gridcolor": "white",
            "linecolor": "white",
            "ticks": ""
           },
           "baxis": {
            "gridcolor": "white",
            "linecolor": "white",
            "ticks": ""
           },
           "bgcolor": "#E5ECF6",
           "caxis": {
            "gridcolor": "white",
            "linecolor": "white",
            "ticks": ""
           }
          },
          "title": {
           "x": 0.05
          },
          "xaxis": {
           "automargin": true,
           "gridcolor": "white",
           "linecolor": "white",
           "ticks": "",
           "title": {
            "standoff": 15
           },
           "zerolinecolor": "white",
           "zerolinewidth": 2
          },
          "yaxis": {
           "automargin": true,
           "gridcolor": "white",
           "linecolor": "white",
           "ticks": "",
           "title": {
            "standoff": 15
           },
           "zerolinecolor": "white",
           "zerolinewidth": 2
          }
         }
        },
        "xaxis": {
         "autorange": true,
         "range": [
          "2015-07-14 12:00",
          "2016-06-03 12:00"
         ],
         "rangeslider": {
          "autorange": true,
          "range": [
           "2015-07-14 12:00",
           "2016-06-03 12:00"
          ],
          "yaxis": {
           "_template": null,
           "rangemode": "match"
          }
         },
         "type": "date"
        },
        "yaxis": {
         "autorange": true,
         "range": [
          3.678888888888889,
          12.501111111111111
         ]
        }
       }
      },
      "image/png": "[encoded data removed]",
      "text/html": [
       "<div>                            <div id=\"8f339b9d-e36e-48d7-a4dc-04575eb5c8b1\" class=\"plotly-graph-div\" style=\"height:525px; width:100%;\"></div>            <script type=\"text/javascript\">                require([\"plotly\"], function(Plotly) {                    window.PLOTLYENV=window.PLOTLYENV || {};                                    if (document.getElementById(\"8f339b9d-e36e-48d7-a4dc-04575eb5c8b1\")) {                    Plotly.newPlot(                        \"8f339b9d-e36e-48d7-a4dc-04575eb5c8b1\",                        [{\"close\": [11.78, 11.99, 10.79, 10.73, 10.36, 10.12, 10.03, 10.02, 10.7, 10.42, 10.49, 10.03, 10.01, 10.34, 9.69, 9.99, 9.98, 9.5, 9.3, 9.15, 8.99, 8.74, 8.3, 7.89, 7.85, 8.13, 8.92, 9.19, 8.59, 8.82, 8.76, 8.64, 8.39, 7.97, 7.66, 7.72, 8.14, 7.86, 7.6, 7.3, 6.97, 6.96, 6.82, 6.44, 6.59, 7.24, 7.77, 7.82, 8.19, 8.47, 8.75, 8.13, 7.96, 8.0, 7.95, 7.95, 7.75, 8.02, 7.99, 7.85, 7.6, 7.61, 7.71, 8.48, 8.08, 8.11, 7.91, 7.61, 7.72, 7.58, 7.27, 7.76, 7.82, 7.84, 8.08, 8.5, 7.92, 7.6, 7.67, 7.49, 7.52, 7.52, 7.19, 7.13, 7.65, 7.25, 7.21, 7.42, 7.29, 7.2, 6.64, 6.79, 6.93, 6.7, 6.69, 6.87, 6.68, 6.4, 6.26, 6.27, 5.53, 5.27, 5.69, 5.17, 4.66, 4.43, 4.5, 4.41, 4.57, 4.6, 4.84, 4.72, 4.3, 4.73, 4.54, 4.31, 4.23, 4.45, 4.68, 4.59, 4.46, 5.04, 4.87, 4.89, 4.87, 5.14, 5.31, 6.57, 7.22, 7.37, 7.47, 7.6, 8.09, 7.4, 6.61, 7.23, 8.1, 8.11, 7.78, 7.81, 8.44, 8.44, 8.31, 8.36, 7.54, 7.8, 7.7, 8.26, 8.39, 9.04, 9.49, 9.69, 9.24, 9.61, 9.48, 9.75, 9.67, 10.25, 10.23, 10.23, 10.17, 9.92, 9.81, 10.08, 9.48, 10.25, 9.79, 9.46, 9.75, 9.5, 8.96, 8.9, 8.5, 8.53, 8.67, 8.38, 8.04, 8.18, 8.32, 8.57], \"high\": [12.06, 11.99, 11.54, 11.24, 10.72, 10.56, 10.23, 10.22, 10.77, 10.93, 10.7, 10.41, 10.55, 10.39, 10.55, 10.03, 9.98, 9.97, 9.68, 9.36, 9.2, 9.05, 8.64, 8.17, 8.23, 8.13, 8.93, 9.29, 9.09, 8.84, 9.21, 8.79, 8.9, 8.15, 7.99, 7.82, 8.24, 8.11, 7.76, 7.68, 7.24, 7.14, 7.22, 6.75, 6.79, 7.26, 7.83, 8.14, 8.34, 8.9, 8.84, 8.47, 8.23, 8.07, 8.08, 7.96, 8.06, 8.11, 8.28, 8.13, 7.86, 7.93, 7.78, 8.48, 8.65, 8.17, 7.93, 7.69, 7.83, 7.74, 7.56, 7.86, 8.03, 7.98, 8.1, 8.5, 8.04, 7.86, 7.84, 7.76, 7.59, 7.97, 7.61, 7.2, 7.82, 7.53, 7.23, 7.47, 7.36, 7.52, 7.09, 6.82, 7.04, 6.9, 6.87, 7.03, 7.0, 6.54, 6.43, 6.45, 6.12, 5.74, 5.69, 5.44, 5.05, 4.5, 4.67, 4.77, 4.64, 5.13, 4.86, 4.86, 4.65, 4.94, 4.78, 4.41, 4.27, 4.51, 4.82, 4.87, 4.57, 5.04, 4.93, 5.08, 5.1, 5.23, 5.37, 6.57, 7.9, 7.53, 7.84, 7.78, 8.22, 8.2, 6.96, 7.23, 8.19, 8.18, 7.96, 8.0, 8.48, 9.0, 8.31, 8.36, 7.54, 7.8, 7.7, 8.34, 8.39, 9.04, 9.49, 9.83, 9.72, 9.61, 9.64, 9.93, 9.74, 10.3, 10.54, 10.54, 10.36, 10.15, 10.3, 10.13, 10.05, 10.5, 10.47, 10.06, 9.85, 9.88, 9.25, 9.46, 8.67, 8.85, 8.94, 8.62, 8.57, 8.25, 8.41, 8.67], \"low\": [11.72, 11.82, 10.75, 10.6, 10.33, 10.12, 9.76, 9.61, 9.91, 10.24, 10.32, 9.95, 10.01, 9.74, 9.68, 9.57, 9.47, 9.5, 9.3, 9.12, 8.82, 8.63, 8.29, 7.53, 7.85, 7.85, 8.23, 8.52, 8.54, 8.33, 8.54, 8.58, 8.36, 7.81, 7.59, 7.46, 7.74, 7.86, 7.5, 7.3, 6.81, 6.6, 6.77, 6.44, 6.5, 6.97, 6.9, 7.75, 7.84, 8.27, 8.28, 8.07, 7.89, 7.67, 7.81, 7.76, 7.71, 7.81, 7.94, 7.8, 7.55, 7.57, 7.54, 7.77, 8.02, 7.87, 7.59, 7.51, 7.64, 7.53, 7.23, 7.64, 7.79, 7.62, 7.85, 7.95, 7.82, 7.57, 7.42, 7.45, 7.35, 7.42, 7.15, 6.95, 7.27, 7.21, 7.07, 7.3, 7.09, 7.19, 6.62, 6.62, 6.87, 6.65, 6.68, 6.55, 6.62, 6.4, 6.08, 6.13, 5.51, 5.25, 5.13, 5.16, 4.64, 4.26, 4.36, 4.4, 4.16, 4.35, 4.52, 4.66, 4.3, 4.36, 4.53, 4.28, 4.12, 4.3, 4.51, 4.55, 4.4, 4.63, 4.65, 4.79, 4.83, 4.98, 5.1, 6.57, 6.57, 6.95, 7.08, 7.36, 7.67, 7.4, 6.56, 6.41, 7.71, 7.73, 7.66, 7.32, 7.91, 8.28, 8.31, 8.36, 7.54, 7.8, 7.7, 8.04, 8.39, 9.04, 9.49, 9.07, 8.89, 9.61, 9.34, 9.29, 9.34, 9.77, 10.08, 10.01, 9.93, 9.85, 9.6, 9.58, 8.84, 9.99, 9.79, 9.39, 9.52, 9.46, 8.65, 8.9, 8.42, 8.45, 8.59, 8.06, 8.04, 7.86, 8.03, 8.45], \"open\": [11.96, 11.89, 11.46, 10.91, 10.61, 10.22, 10.17, 9.69, 10.01, 10.83, 10.48, 10.36, 10.41, 9.86, 10.25, 9.81, 9.79, 9.91, 9.61, 9.2, 9.06, 8.95, 8.6, 7.76, 8.1, 8.07, 8.25, 8.71, 8.75, 8.75, 8.93, 8.7, 8.81, 7.9, 7.94, 7.7, 7.77, 8.05, 7.75, 7.66, 7.24, 6.61, 7.12, 6.74, 6.54, 7.25, 6.99, 7.9, 7.86, 8.51, 8.46, 8.36, 8.07, 8.0, 7.99, 7.9, 7.95, 7.82, 8.26, 8.05, 7.86, 7.57, 7.6, 7.84, 8.58, 8.08, 7.83, 7.6, 7.71, 7.72, 7.5, 7.8, 7.81, 7.96, 7.9, 8.05, 7.95, 7.81, 7.54, 7.67, 7.54, 7.97, 7.6, 7.2, 7.34, 7.26, 7.15, 7.34, 7.28, 7.35, 7.06, 6.76, 6.91, 6.9, 6.81, 6.57, 6.92, 6.53, 6.19, 6.38, 6.12, 5.7, 5.31, 5.35, 5.03, 4.5, 4.37, 4.73, 4.22, 4.67, 4.7, 4.74, 4.56, 4.56, 4.73, 4.3, 4.2, 4.37, 4.54, 4.69, 4.5, 4.67, 4.77, 4.81, 5.02, 5.08, 5.31, 6.57, 6.57, 7.25, 7.37, 7.7, 7.94, 8.13, 6.83, 6.51, 8.15, 7.85, 7.88, 7.53, 8.15, 8.7, 8.31, 8.36, 7.54, 7.8, 7.7, 8.13, 8.39, 9.04, 9.49, 9.25, 9.65, 9.61, 9.4, 9.32, 9.48, 9.85, 10.23, 10.23, 10.25, 9.85, 10.28, 9.63, 10.01, 10.39, 10.4, 9.93, 9.55, 9.83, 9.25, 9.2, 8.55, 8.69, 8.68, 8.18, 8.36, 8.09, 8.19, 8.51], \"type\": \"candlestick\", \"x\": [\"2015-07-15\", \"2015-07-16\", \"2015-07-20\", \"2015-07-21\", \"2015-07-22\", \"2015-07-23\", \"2015-07-24\", \"2015-07-28\", \"2015-07-29\", \"2015-07-30\", \"2015-07-31\", \"2015-08-03\", \"2015-08-05\", \"2015-08-06\", \"2015-08-07\", \"2015-08-10\", \"2015-08-11\", \"2015-08-13\", \"2015-08-14\", \"2015-08-17\", \"2015-08-18\", \"2015-08-19\", \"2015-08-21\", \"2015-08-24\", \"2015-08-25\", \"2015-08-26\", \"2015-08-27\", \"2015-08-31\", \"2015-09-01\", \"2015-09-02\", \"2015-09-03\", \"2015-09-08\", \"2015-09-09\", \"2015-09-10\", \"2015-09-11\", \"2015-09-14\", \"2015-09-16\", \"2015-09-17\", \"2015-09-18\", \"2015-09-21\", \"2015-09-22\", \"2015-09-24\", \"2015-09-25\", \"2015-09-28\", \"2015-09-29\", \"2015-09-30\", \"2015-10-02\", \"2015-10-05\", \"2015-10-06\", \"2015-10-07\", \"2015-10-08\", \"2015-10-13\", \"2015-10-14\", \"2015-10-15\", \"2015-10-16\", \"2015-10-19\", \"2015-10-21\", \"2015-10-22\", \"2015-10-23\", \"2015-10-26\", \"2015-10-27\", \"2015-10-29\", \"2015-10-30\", \"2015-11-03\", \"2015-11-04\", \"2015-11-05\", \"2015-11-09\", \"2015-11-10\", \"2015-11-11\", \"2015-11-12\", \"2015-11-13\", \"2015-11-17\", \"2015-11-18\", \"2015-11-19\", \"2015-11-23\", \"2015-11-24\", \"2015-11-26\", \"2015-11-27\", \"2015-11-30\", \"2015-12-01\", \"2015-12-02\", \"2015-12-04\", \"2015-12-07\", \"2015-12-08\", \"2015-12-09\", \"2015-12-11\", \"2015-12-14\", \"2015-12-15\", \"2015-12-16\", \"2015-12-17\", \"2015-12-21\", \"2015-12-22\", \"2015-12-23\", \"2015-12-28\", \"2015-12-29\", \"2016-01-04\", \"2016-01-05\", \"2016-01-06\", \"2016-01-07\", \"2016-01-08\", \"2016-01-12\", \"2016-01-13\", \"2016-01-14\", \"2016-01-15\", \"2016-01-19\", \"2016-01-20\", \"2016-01-21\", \"2016-01-22\", \"2016-01-27\", \"2016-01-28\", \"2016-01-29\", \"2016-02-01\", \"2016-02-02\", \"2016-02-04\", \"2016-02-05\", \"2016-02-10\", \"2016-02-11\", \"2016-02-12\", \"2016-02-17\", \"2016-02-18\", \"2016-02-19\", \"2016-02-22\", \"2016-02-24\", \"2016-02-25\", \"2016-02-26\", \"2016-02-29\", \"2016-03-01\", \"2016-03-03\", \"2016-03-04\", \"2016-03-07\", \"2016-03-08\", \"2016-03-09\", \"2016-03-11\", \"2016-03-14\", \"2016-03-15\", \"2016-03-16\", \"2016-03-17\", \"2016-03-22\", \"2016-03-23\", \"2016-03-24\", \"2016-03-28\", \"2016-03-30\", \"2016-03-31\", \"2016-04-01\", \"2016-04-04\", \"2016-04-05\", \"2016-04-07\", \"2016-04-08\", \"2016-04-11\", \"2016-04-12\", \"2016-04-13\", \"2016-04-15\", \"2016-04-18\", \"2016-04-19\", \"2016-04-20\", \"2016-04-22\", \"2016-04-26\", \"2016-04-27\", \"2016-04-28\", \"2016-04-29\", \"2016-05-02\", \"2016-05-04\", \"2016-05-05\", \"2016-05-06\", \"2016-05-09\", \"2016-05-11\", \"2016-05-12\", \"2016-05-13\", \"2016-05-16\", \"2016-05-17\", \"2016-05-19\", \"2016-05-20\", \"2016-05-23\", \"2016-05-24\", \"2016-05-25\", \"2016-05-30\", \"2016-05-31\", \"2016-06-01\", \"2016-06-02\", \"2016-06-03\"]}],                        {\"template\": {\"data\": {\"bar\": [{\"error_x\": {\"color\": \"#2a3f5f\"}, \"error_y\": {\"color\": \"#2a3f5f\"}, \"marker\": {\"line\": {\"color\": \"#E5ECF6\", \"width\": 0.5}}, \"type\": \"bar\"}], \"barpolar\": [{\"marker\": {\"line\": {\"color\": \"#E5ECF6\", \"width\": 0.5}}, \"type\": \"barpolar\"}], \"carpet\": [{\"aaxis\": {\"endlinecolor\": \"#2a3f5f\", \"gridcolor\": \"white\", \"linecolor\": \"white\", \"minorgridcolor\": \"white\", \"startlinecolor\": \"#2a3f5f\"}, \"baxis\": {\"endlinecolor\": \"#2a3f5f\", \"gridcolor\": \"white\", \"linecolor\": \"white\", \"minorgridcolor\": \"white\", \"startlinecolor\": \"#2a3f5f\"}, \"type\": \"carpet\"}], \"choropleth\": [{\"colorbar\": {\"outlinewidth\": 0, \"ticks\": \"\"}, \"type\": \"choropleth\"}], \"contour\": [{\"colorbar\": {\"outlinewidth\": 0, \"ticks\": \"\"}, \"colorscale\": [[0.0, \"#0d0887\"], [0.1111111111111111, \"#46039f\"], [0.2222222222222222, \"#7201a8\"], [0.3333333333333333, \"#9c179e\"], [0.4444444444444444, \"#bd3786\"], [0.5555555555555556, \"#d8576b\"], [0.6666666666666666, \"#ed7953\"], [0.7777777777777778, \"#fb9f3a\"], [0.8888888888888888, \"#fdca26\"], [1.0, \"#f0f921\"]], \"type\": \"contour\"}], \"contourcarpet\": [{\"colorbar\": {\"outlinewidth\": 0, \"ticks\": \"\"}, \"type\": \"contourcarpet\"}], \"heatmap\": [{\"colorbar\": {\"outlinewidth\": 0, \"ticks\": \"\"}, \"colorscale\": [[0.0, \"#0d0887\"], [0.1111111111111111, \"#46039f\"], [0.2222222222222222, \"#7201a8\"], [0.3333333333333333, \"#9c179e\"], [0.4444444444444444, \"#bd3786\"], [0.5555555555555556, \"#d8576b\"], [0.6666666666666666, \"#ed7953\"], [0.7777777777777778, \"#fb9f3a\"], [0.8888888888888888, \"#fdca26\"], [1.0, \"#f0f921\"]], \"type\": \"heatmap\"}], \"heatmapgl\": [{\"colorbar\": {\"outlinewidth\": 0, \"ticks\": \"\"}, \"colorscale\": [[0.0, \"#0d0887\"], [0.1111111111111111, \"#46039f\"], [0.2222222222222222, \"#7201a8\"], [0.3333333333333333, \"#9c179e\"], [0.4444444444444444, \"#bd3786\"], [0.5555555555555556, \"#d8576b\"], [0.6666666666666666, \"#ed7953\"], [0.7777777777777778, \"#fb9f3a\"], [0.8888888888888888, \"#fdca26\"], [1.0, \"#f0f921\"]], \"type\": \"heatmapgl\"}], \"histogram\": [{\"marker\": {\"colorbar\": {\"outlinewidth\": 0, \"ticks\": \"\"}}, \"type\": \"histogram\"}], \"histogram2d\": [{\"colorbar\": {\"outlinewidth\": 0, \"ticks\": \"\"}, \"colorscale\": [[0.0, \"#0d0887\"], [0.1111111111111111, \"#46039f\"], [0.2222222222222222, \"#7201a8\"], [0.3333333333333333, \"#9c179e\"], [0.4444444444444444, \"#bd3786\"], [0.5555555555555556, \"#d8576b\"], [0.6666666666666666, \"#ed7953\"], [0.7777777777777778, \"#fb9f3a\"], [0.8888888888888888, \"#fdca26\"], [1.0, \"#f0f921\"]], \"type\": \"histogram2d\"}], \"histogram2dcontour\": [{\"colorbar\": {\"outlinewidth\": 0, \"ticks\": \"\"}, \"colorscale\": [[0.0, \"#0d0887\"], [0.1111111111111111, \"#46039f\"], [0.2222222222222222, \"#7201a8\"], [0.3333333333333333, \"#9c179e\"], [0.4444444444444444, \"#bd3786\"], [0.5555555555555556, \"#d8576b\"], [0.6666666666666666, \"#ed7953\"], [0.7777777777777778, \"#fb9f3a\"], [0.8888888888888888, \"#fdca26\"], [1.0, \"#f0f921\"]], \"type\": \"histogram2dcontour\"}], \"mesh3d\": [{\"colorbar\": {\"outlinewidth\": 0, \"ticks\": \"\"}, \"type\": \"mesh3d\"}], \"parcoords\": [{\"line\": {\"colorbar\": {\"outlinewidth\": 0, \"ticks\": \"\"}}, \"type\": \"parcoords\"}], \"pie\": [{\"automargin\": true, \"type\": \"pie\"}], \"scatter\": [{\"marker\": {\"colorbar\": {\"outlinewidth\": 0, \"ticks\": \"\"}}, \"type\": \"scatter\"}], \"scatter3d\": [{\"line\": {\"colorbar\": {\"outlinewidth\": 0, \"ticks\": \"\"}}, \"marker\": {\"colorbar\": {\"outlinewidth\": 0, \"ticks\": \"\"}}, \"type\": \"scatter3d\"}], \"scattercarpet\": [{\"marker\": {\"colorbar\": {\"outlinewidth\": 0, \"ticks\": \"\"}}, \"type\": \"scattercarpet\"}], \"scattergeo\": [{\"marker\": {\"colorbar\": {\"outlinewidth\": 0, \"ticks\": \"\"}}, \"type\": \"scattergeo\"}], \"scattergl\": [{\"marker\": {\"colorbar\": {\"outlinewidth\": 0, \"ticks\": \"\"}}, \"type\": \"scattergl\"}], \"scattermapbox\": [{\"marker\": {\"colorbar\": {\"outlinewidth\": 0, \"ticks\": \"\"}}, \"type\": \"scattermapbox\"}], \"scatterpolar\": [{\"marker\": {\"colorbar\": {\"outlinewidth\": 0, \"ticks\": \"\"}}, \"type\": \"scatterpolar\"}], \"scatterpolargl\": [{\"marker\": {\"colorbar\": {\"outlinewidth\": 0, \"ticks\": \"\"}}, \"type\": \"scatterpolargl\"}], \"scatterternary\": [{\"marker\": {\"colorbar\": {\"outlinewidth\": 0, \"ticks\": \"\"}}, \"type\": \"scatterternary\"}], \"surface\": [{\"colorbar\": {\"outlinewidth\": 0, \"ticks\": \"\"}, \"colorscale\": [[0.0, \"#0d0887\"], [0.1111111111111111, \"#46039f\"], [0.2222222222222222, \"#7201a8\"], [0.3333333333333333, \"#9c179e\"], [0.4444444444444444, \"#bd3786\"], [0.5555555555555556, \"#d8576b\"], [0.6666666666666666, \"#ed7953\"], [0.7777777777777778, \"#fb9f3a\"], [0.8888888888888888, \"#fdca26\"], [1.0, \"#f0f921\"]], \"type\": \"surface\"}], \"table\": [{\"cells\": {\"fill\": {\"color\": \"#EBF0F8\"}, \"line\": {\"color\": \"white\"}}, \"header\": {\"fill\": {\"color\": \"#C8D4E3\"}, \"line\": {\"color\": \"white\"}}, \"type\": \"table\"}]}, \"layout\": {\"annotationdefaults\": {\"arrowcolor\": \"#2a3f5f\", \"arrowhead\": 0, \"arrowwidth\": 1}, \"autotypenumbers\": \"strict\", \"coloraxis\": {\"colorbar\": {\"outlinewidth\": 0, \"ticks\": \"\"}}, \"colorscale\": {\"diverging\": [[0, \"#8e0152\"], [0.1, \"#c51b7d\"], [0.2, \"#de77ae\"], [0.3, \"#f1b6da\"], [0.4, \"#fde0ef\"], [0.5, \"#f7f7f7\"], [0.6, \"#e6f5d0\"], [0.7, \"#b8e186\"], [0.8, \"#7fbc41\"], [0.9, \"#4d9221\"], [1, \"#276419\"]], \"sequential\": [[0.0, \"#0d0887\"], [0.1111111111111111, \"#46039f\"], [0.2222222222222222, \"#7201a8\"], [0.3333333333333333, \"#9c179e\"], [0.4444444444444444, \"#bd3786\"], [0.5555555555555556, \"#d8576b\"], [0.6666666666666666, \"#ed7953\"], [0.7777777777777778, \"#fb9f3a\"], [0.8888888888888888, \"#fdca26\"], [1.0, \"#f0f921\"]], \"sequentialminus\": [[0.0, \"#0d0887\"], [0.1111111111111111, \"#46039f\"], [0.2222222222222222, \"#7201a8\"], [0.3333333333333333, \"#9c179e\"], [0.4444444444444444, \"#bd3786\"], [0.5555555555555556, \"#d8576b\"], [0.6666666666666666, \"#ed7953\"], [0.7777777777777778, \"#fb9f3a\"], [0.8888888888888888, \"#fdca26\"], [1.0, \"#f0f921\"]]}, \"colorway\": [\"#636efa\", \"#EF553B\", \"#00cc96\", \"#ab63fa\", \"#FFA15A\", \"#19d3f3\", \"#FF6692\", \"#B6E880\", \"#FF97FF\", \"#FECB52\"], \"font\": {\"color\": \"#2a3f5f\"}, \"geo\": {\"bgcolor\": \"white\", \"lakecolor\": \"white\", \"landcolor\": \"#E5ECF6\", \"showlakes\": true, \"showland\": true, \"subunitcolor\": \"white\"}, \"hoverlabel\": {\"align\": \"left\"}, \"hovermode\": \"closest\", \"mapbox\": {\"style\": \"light\"}, \"paper_bgcolor\": \"white\", \"plot_bgcolor\": \"#E5ECF6\", \"polar\": {\"angularaxis\": {\"gridcolor\": \"white\", \"linecolor\": \"white\", \"ticks\": \"\"}, \"bgcolor\": \"#E5ECF6\", \"radialaxis\": {\"gridcolor\": \"white\", \"linecolor\": \"white\", \"ticks\": \"\"}}, \"scene\": {\"xaxis\": {\"backgroundcolor\": \"#E5ECF6\", \"gridcolor\": \"white\", \"gridwidth\": 2, \"linecolor\": \"white\", \"showbackground\": true, \"ticks\": \"\", \"zerolinecolor\": \"white\"}, \"yaxis\": {\"backgroundcolor\": \"#E5ECF6\", \"gridcolor\": \"white\", \"gridwidth\": 2, \"linecolor\": \"white\", \"showbackground\": true, \"ticks\": \"\", \"zerolinecolor\": \"white\"}, \"zaxis\": {\"backgroundcolor\": \"#E5ECF6\", \"gridcolor\": \"white\", \"gridwidth\": 2, \"linecolor\": \"white\", \"showbackground\": true, \"ticks\": \"\", \"zerolinecolor\": \"white\"}}, \"shapedefaults\": {\"line\": {\"color\": \"#2a3f5f\"}}, \"ternary\": {\"aaxis\": {\"gridcolor\": \"white\", \"linecolor\": \"white\", \"ticks\": \"\"}, \"baxis\": {\"gridcolor\": \"white\", \"linecolor\": \"white\", \"ticks\": \"\"}, \"bgcolor\": \"#E5ECF6\", \"caxis\": {\"gridcolor\": \"white\", \"linecolor\": \"white\", \"ticks\": \"\"}}, \"title\": {\"x\": 0.05}, \"xaxis\": {\"automargin\": true, \"gridcolor\": \"white\", \"linecolor\": \"white\", \"ticks\": \"\", \"title\": {\"standoff\": 15}, \"zerolinecolor\": \"white\", \"zerolinewidth\": 2}, \"yaxis\": {\"automargin\": true, \"gridcolor\": \"white\", \"linecolor\": \"white\", \"ticks\": \"\", \"title\": {\"standoff\": 15}, \"zerolinecolor\": \"white\", \"zerolinewidth\": 2}}}},                        {\"responsive\": true}                    ).then(function(){\n",
       "                            \n",
       "var gd = document.getElementById('8f339b9d-e36e-48d7-a4dc-04575eb5c8b1');\n",
       "var x = new MutationObserver(function (mutations, observer) {{\n",
       "        var display = window.getComputedStyle(gd).display;\n",
       "        if (!display || display === 'none') {{\n",
       "            console.log([gd, 'removed!']);\n",
       "            Plotly.purge(gd);\n",
       "            observer.disconnect();\n",
       "        }}\n",
       "}});\n",
       "\n",
       "// Listen for the removal of the full notebook cells\n",
       "var notebookContainer = gd.closest('#notebook-container');\n",
       "if (notebookContainer) {{\n",
       "    x.observe(notebookContainer, {childList: true});\n",
       "}}\n",
       "\n",
       "// Listen for the clearing of the current output cell\n",
       "var outputEl = gd.closest('.output');\n",
       "if (outputEl) {{\n",
       "    x.observe(outputEl, {childList: true});\n",
       "}}\n",
       "\n",
       "                        })                };                });            </script>        </div>"
      ]
     },
     "metadata": {},
     "output_type": "display_data"
    },
    {
     "data": {
      "application/vnd.plotly.v1+json": {
       "config": {
        "linkText": "Export to plot.ly",
        "plotlyServerURL": "https://plot.ly",
        "showLink": false
       },
       "data": [
        {
         "close": [
          48.52,
          47.119999,
          45.169998,
          45.740002000000004,
          45.150002,
          44.66,
          43.869999,
          44.959998999999996,
          43.080002,
          43.299999,
          42.23,
          42.5,
          41.869999,
          42.619999,
          40.799999,
          41.139998999999996,
          40.450001,
          38.240002000000004,
          39.310001,
          38.599998,
          42.560001,
          45.220001,
          49.200001,
          45.41,
          46.25,
          46.75,
          46.049999,
          45.939999,
          44.150002,
          45.919998,
          44.630001,
          44,
          44.59,
          47.150002,
          46.900002,
          44.68,
          46.68,
          45.830002,
          44.48,
          44.91,
          45.700001,
          44.43,
          45.23,
          45.09,
          44.740002000000004,
          45.540001000000004,
          46.259997999999996,
          48.529999,
          47.810001,
          49.43,
          49.630001,
          47.099998,
          46.66,
          46.639998999999996,
          46.380001,
          47.259997999999996,
          45.889998999999996,
          45.549999,
          45.200001,
          45.380001,
          44.599998,
          43.98,
          43.200001,
          45.939999,
          46.060001,
          46.59,
          46.139998999999996,
          47.900002,
          46.32,
          45.200001,
          44.290001000000004,
          43.869999,
          44.209998999999996,
          42.93,
          41.75,
          40.740002000000004,
          41.740002000000004,
          40.669998,
          40.75,
          40.540001000000004,
          40.389998999999996,
          41.75,
          42.869999,
          43.040001000000004,
          41.709998999999996,
          41.650002,
          41.849998,
          39.939999,
          41.080002,
          39.970001,
          37.650002,
          37.509997999999996,
          37.16,
          36.759997999999996,
          35.619999,
          36.310001,
          37.349998,
          35.52,
          34.950001,
          34.73,
          34.740002000000004,
          36.139998999999996,
          37.5,
          38.099998,
          36.810001,
          37.869999,
          36.599998,
          37.040001000000004,
          36.759997999999996,
          35.970001,
          33.970001,
          33.27,
          33.16,
          31.41,
          30.440001000000002,
          30.48,
          31.200001,
          29.42,
          28.459999,
          26.549999,
          29.530001000000002,
          32.189999,
          30.34,
          31.450001,
          32.299999,
          33.220001,
          33.619999,
          31.620001000000002,
          29.879998999999998,
          32.279999,
          31.719998999999998,
          30.889999,
          29.690001000000002,
          27.940001000000002,
          27.450001,
          26.209999,
          29.440001000000002,
          29.040001,
          30.66,
          30.77,
          29.639999,
          31.48,
          31.870001000000002,
          32.150002,
          33.07,
          32.779999,
          33.75,
          34.400002,
          34.66,
          34.57,
          35.919998,
          37.900002,
          36.5,
          38.290001000000004,
          37.84,
          38.5,
          37.18,
          36.34,
          38.459998999999996,
          40.200001,
          39.439999,
          39.91,
          41.450001,
          39.790001000000004,
          39.459998999999996,
          39.389998999999996,
          38.279999,
          38.32,
          38.34,
          36.790001000000004,
          35.700001,
          35.889998999999996,
          37.75,
          37.259997999999996,
          39.720001,
          40.360001000000004,
          42.169998,
          41.759997999999996,
          41.5,
          40.360001000000004
         ],
         "high": [
          49.360001000000004,
          48.619999,
          46.939999,
          46.23,
          46.700001,
          45.27,
          45.16,
          45.009997999999996,
          45.34,
          43.869999,
          43.720001,
          42.959998999999996,
          42.689999,
          42.900002,
          42.68,
          41.48,
          41.400002,
          40.470001,
          39.889998999999996,
          39.860001000000004,
          42.860001000000004,
          45.900002,
          49.330002,
          48.869999,
          46.77,
          48.419998,
          47.23,
          46.41,
          46.259997999999996,
          46.040001000000004,
          45.880001,
          44.970001,
          45.25,
          47.349998,
          47.709998999999996,
          47.029999,
          46.740002000000004,
          46.48,
          47.150002,
          45.18,
          46.380001,
          45.5,
          45.700001,
          45.849998,
          47.099998,
          45.810001,
          46.939999,
          49.080002,
          49.709998999999996,
          50.07,
          50.919998,
          50.130001,
          48.43,
          46.959998999999996,
          47.02,
          47.5,
          47.490002000000004,
          46.52,
          46.080002,
          46.099998,
          45.75,
          44.939999,
          43.91,
          46.220001,
          46.790001000000004,
          47.029999,
          46.73,
          48.360001000000004,
          48.279999,
          46.650002,
          45.639998999999996,
          45.119999,
          44.759997999999996,
          44.110001000000004,
          43.330002,
          42.84,
          42.25,
          42.029999,
          41.549999,
          41.049999,
          40.990002000000004,
          42.75,
          43.459998999999996,
          43.25,
          43.299999,
          42.610001000000004,
          42.23,
          41.970001,
          41.779999,
          42,
          40.150002,
          38.580002,
          38.990002000000004,
          37.540001000000004,
          36.84,
          36.700001,
          37.880001,
          37.349998,
          35.84,
          35.57,
          34.860001000000004,
          36.540001000000004,
          37.950001,
          38.279999,
          38.09,
          37.939999,
          37.400002,
          37.790001000000004,
          38.389998999999996,
          37.099998,
          36.389998999999996,
          34.259997999999996,
          34.34,
          33.200001,
          32.209998999999996,
          31.709999,
          31.77,
          31.18,
          30.209999,
          28.58,
          30.25,
          32.349998,
          32.740002000000004,
          32.41,
          32.84,
          34.82,
          34.400002,
          34.18,
          31.530001000000002,
          32.75,
          33.599998,
          32.450001,
          31.379998999999998,
          30.610001,
          29.219998999999998,
          27.48,
          29.66,
          31.530001000000002,
          31.49,
          31.98,
          30.73,
          32.049999,
          33.529999,
          32.400002,
          33.490002000000004,
          34.689999,
          33.98,
          34.759997999999996,
          35.169998,
          35.32,
          36.34,
          38.110001000000004,
          38.389998999999996,
          38.509997999999996,
          38.48,
          39.02,
          38.77,
          37.400002,
          38.630001,
          40.360001000000004,
          41.200001,
          40.299999,
          41.900002,
          41.34,
          39.77,
          40.139998999999996,
          39.48,
          39.849998,
          39.040001000000004,
          38.560001,
          37.209998999999996,
          36.580002,
          37.900002,
          38.299999,
          39.84,
          40.75,
          42.25,
          42.419998,
          42.16,
          41.73
         ],
         "low": [
          48.34,
          46.700001,
          45.080002,
          45.290001000000004,
          44.830002,
          44.200001,
          43.700001,
          43.349998,
          42.689999,
          42.799999,
          41.91,
          41.349998,
          41.639998999999996,
          41.43,
          40.400002,
          40.209998999999996,
          39.860001000000004,
          37.75,
          38.16,
          38.52,
          38.950001,
          41.779999,
          43.599998,
          44.150002,
          43.209998999999996,
          45.650002,
          45.610001000000004,
          44.139998999999996,
          44.049999,
          43.360001000000004,
          44.16,
          43.59,
          43.919998,
          44.82,
          46.330002,
          44.240002000000004,
          44.689999,
          45.139998999999996,
          44.41,
          43.709998999999996,
          44.860001000000004,
          44.299999,
          44.299999,
          44.68,
          44.630001,
          43.970001,
          45.209998999999996,
          45.73,
          47.700001,
          47.759997999999996,
          49.169998,
          47.040001000000004,
          46.439999,
          45.939999,
          45.23,
          46.16,
          45.849998,
          45.23,
          44.860001000000004,
          44.900002,
          44.200001,
          43.639998999999996,
          42.580002,
          43.060001,
          45.16,
          45.48,
          45.560001,
          45.959998999999996,
          46.169998,
          45.119999,
          44.110001000000004,
          43.639998999999996,
          43.57,
          42.619999,
          41.540001000000004,
          40.220001,
          40.060001,
          40.580002,
          39.91,
          39.889998999999996,
          38.990002000000004,
          40.41,
          41.860001000000004,
          41.720001,
          41.669998,
          41.5,
          41.169998,
          39.84,
          40.07,
          39.599998,
          37.5,
          36.639998999999996,
          36.869999,
          36.380001,
          35.16,
          34.529999,
          36.029999,
          35.290001000000004,
          34.630001,
          34.290001000000004,
          33.98,
          35.66,
          36.279999,
          37.380001,
          36.599998,
          36.66,
          36.400002,
          36.220001,
          36.330002,
          35.740002000000004,
          33.77,
          32.099998,
          32.639998999999996,
          30.879998999999998,
          29.93,
          30.1,
          30.280001000000002,
          29.129998999999998,
          28.209999,
          26.190001000000002,
          27.870001000000002,
          29.530001000000002,
          29.68,
          29.25,
          30.139999,
          31.74,
          32.650002,
          31.290001,
          29.57,
          29.4,
          31.530001000000002,
          30.629998999999998,
          29.57,
          27.74,
          27.24,
          26.049999,
          26.950001,
          28.700001,
          28.73,
          30.27,
          29.049999,
          29.48,
          31.219998999999998,
          30.559998999999998,
          31.07,
          32.639998999999996,
          32.32,
          33.369999,
          33.549999,
          34.189999,
          34.400002,
          36.09,
          36.119999,
          36.240002000000004,
          37.209998999999996,
          37.919998,
          36.68,
          35.959998999999996,
          36.610001000000004,
          38.470001,
          39.150002,
          38.610001000000004,
          40.77,
          39.669998,
          38.330002,
          38.860001000000004,
          37.91,
          38.139998999999996,
          37.57,
          36.630001,
          35.459998999999996,
          35.240002000000004,
          36.43,
          36.689999,
          37.450001,
          39.25,
          40.09,
          41.240002000000004,
          40.84,
          39.98
         ],
         "open": [
          48.830002,
          48.470001,
          46.860001000000004,
          45.349998,
          45.959998999999996,
          45.16,
          44.82,
          43.580002,
          44.810001,
          43.27,
          43.34,
          42.23,
          42.18,
          41.880001,
          42.41,
          40.580002,
          41.029999,
          40.299999,
          38.18,
          39.689999,
          38.959998999999996,
          42.68,
          45,
          48.099998,
          44.259997999999996,
          46.110001000000004,
          46.68,
          45.82,
          45.790001000000004,
          44.16,
          45.709998999999996,
          44.779999,
          44.110001000000004,
          45.16,
          47.130001,
          46.889998999999996,
          44.970001,
          46.450001,
          46.540001000000004,
          44.619999,
          45.049999,
          45.380001,
          44.5,
          44.919998,
          45.380001,
          45.07,
          45.650002,
          46.200001,
          49,
          48.110001000000004,
          49.689999,
          49.509997999999996,
          47.459998999999996,
          46.689999,
          46.279999,
          46.869999,
          47.27,
          46.25,
          45.880001,
          45.27,
          45.439999,
          44.740002000000004,
          43.779999,
          43.439999,
          46.060001,
          45.740002000000004,
          46.43,
          46.110001000000004,
          47.740002000000004,
          46.57,
          45.41,
          44.52,
          44.099998,
          43.630001,
          43.049999,
          41.610001000000004,
          40.919998,
          41.959998999999996,
          41.110001000000004,
          40.720001,
          40.540001000000004,
          41.490002000000004,
          42.040001000000004,
          42.689999,
          43.25,
          41.77,
          41.73,
          41.689999,
          40.150002,
          41.310001,
          40.099998,
          37.68,
          37.860001000000004,
          37.27,
          36.630001,
          35.400002,
          36.32,
          36.790001000000004,
          35.799999,
          34.869999,
          34.580002,
          35.799999,
          36.470001,
          37.860001000000004,
          38,
          36.700001,
          37.360001000000004,
          36.810001,
          37.599998,
          36.900002,
          36.18,
          34.09,
          33.299999,
          32.939999,
          31.110001,
          30.540001,
          30.6,
          31.18,
          29.200001,
          28.33,
          28.35,
          29.84,
          32.049999,
          29.809998999999998,
          30.549999,
          32.189999,
          33.700001,
          33.830002,
          31.370001000000002,
          29.75,
          32.709998999999996,
          31.639999,
          30.969998999999998,
          30.17,
          28.360001,
          27.34,
          27.299999,
          29.08,
          29.139999,
          31.35,
          30.6,
          29.719998999999998,
          33.34,
          31.280001000000002,
          32.189999,
          33.040001000000004,
          32.720001,
          33.900002,
          33.889998999999996,
          34.73,
          34.66,
          36.200001,
          37.939999,
          36.360001000000004,
          38.169998,
          37.990002000000004,
          38.169998,
          37.369999,
          36.740002000000004,
          38.59,
          40.25,
          39.060001,
          41.59,
          41.189999,
          39.73,
          39.549999,
          39.32,
          38.52,
          38.299999,
          38.139998999999996,
          36.610001000000004,
          35.5,
          36.52,
          37.759997999999996,
          37.52,
          39.720001,
          40.349998,
          41.630001,
          41.540001000000004,
          41.43
         ],
         "type": "candlestick",
         "x": [
          "2015-07-30",
          "2015-07-31",
          "2015-08-03",
          "2015-08-04",
          "2015-08-05",
          "2015-08-06",
          "2015-08-07",
          "2015-08-10",
          "2015-08-11",
          "2015-08-12",
          "2015-08-13",
          "2015-08-14",
          "2015-08-17",
          "2015-08-18",
          "2015-08-19",
          "2015-08-20",
          "2015-08-21",
          "2015-08-24",
          "2015-08-25",
          "2015-08-26",
          "2015-08-27",
          "2015-08-28",
          "2015-08-31",
          "2015-09-01",
          "2015-09-02",
          "2015-09-03",
          "2015-09-04",
          "2015-09-08",
          "2015-09-09",
          "2015-09-10",
          "2015-09-11",
          "2015-09-14",
          "2015-09-15",
          "2015-09-16",
          "2015-09-17",
          "2015-09-18",
          "2015-09-21",
          "2015-09-22",
          "2015-09-23",
          "2015-09-24",
          "2015-09-25",
          "2015-09-28",
          "2015-09-29",
          "2015-09-30",
          "2015-10-01",
          "2015-10-02",
          "2015-10-05",
          "2015-10-06",
          "2015-10-07",
          "2015-10-08",
          "2015-10-09",
          "2015-10-12",
          "2015-10-13",
          "2015-10-14",
          "2015-10-15",
          "2015-10-16",
          "2015-10-19",
          "2015-10-20",
          "2015-10-21",
          "2015-10-22",
          "2015-10-23",
          "2015-10-26",
          "2015-10-27",
          "2015-10-28",
          "2015-10-29",
          "2015-10-30",
          "2015-11-02",
          "2015-11-03",
          "2015-11-04",
          "2015-11-05",
          "2015-11-06",
          "2015-11-09",
          "2015-11-10",
          "2015-11-11",
          "2015-11-12",
          "2015-11-13",
          "2015-11-16",
          "2015-11-17",
          "2015-11-18",
          "2015-11-19",
          "2015-11-20",
          "2015-11-23",
          "2015-11-24",
          "2015-11-25",
          "2015-11-27",
          "2015-11-30",
          "2015-12-01",
          "2015-12-02",
          "2015-12-03",
          "2015-12-04",
          "2015-12-07",
          "2015-12-08",
          "2015-12-09",
          "2015-12-10",
          "2015-12-11",
          "2015-12-14",
          "2015-12-15",
          "2015-12-16",
          "2015-12-17",
          "2015-12-18",
          "2015-12-21",
          "2015-12-22",
          "2015-12-23",
          "2015-12-24",
          "2015-12-28",
          "2015-12-29",
          "2015-12-30",
          "2015-12-31",
          "2016-01-04",
          "2016-01-05",
          "2016-01-06",
          "2016-01-07",
          "2016-01-08",
          "2016-01-11",
          "2016-01-12",
          "2016-01-13",
          "2016-01-14",
          "2016-01-15",
          "2016-01-19",
          "2016-01-20",
          "2016-01-21",
          "2016-01-22",
          "2016-01-25",
          "2016-01-26",
          "2016-01-27",
          "2016-01-28",
          "2016-01-29",
          "2016-02-01",
          "2016-02-02",
          "2016-02-03",
          "2016-02-04",
          "2016-02-05",
          "2016-02-08",
          "2016-02-09",
          "2016-02-10",
          "2016-02-11",
          "2016-02-12",
          "2016-02-16",
          "2016-02-17",
          "2016-02-18",
          "2016-02-19",
          "2016-02-22",
          "2016-02-23",
          "2016-02-24",
          "2016-02-25",
          "2016-02-26",
          "2016-02-29",
          "2016-03-01",
          "2016-03-02",
          "2016-03-03",
          "2016-03-04",
          "2016-03-07",
          "2016-03-08",
          "2016-03-09",
          "2016-03-10",
          "2016-03-11",
          "2016-03-14",
          "2016-03-15",
          "2016-03-16",
          "2016-03-17",
          "2016-03-18",
          "2016-03-21",
          "2016-03-22",
          "2016-03-23",
          "2016-03-24",
          "2016-03-28",
          "2016-03-29",
          "2016-03-30",
          "2016-03-31",
          "2016-04-01",
          "2016-04-04",
          "2016-04-05",
          "2016-04-06",
          "2016-04-07",
          "2016-04-08",
          "2016-04-11",
          "2016-04-12",
          "2016-04-13",
          "2016-04-14",
          "2016-04-15"
         ]
        }
       ],
       "layout": {
        "autosize": true,
        "template": {
         "data": {
          "bar": [
           {
            "error_x": {
             "color": "#2a3f5f"
            },
            "error_y": {
             "color": "#2a3f5f"
            },
            "marker": {
             "line": {
              "color": "#E5ECF6",
              "width": 0.5
             }
            },
            "type": "bar"
           }
          ],
          "barpolar": [
           {
            "marker": {
             "line": {
              "color": "#E5ECF6",
              "width": 0.5
             }
            },
            "type": "barpolar"
           }
          ],
          "carpet": [
           {
            "aaxis": {
             "endlinecolor": "#2a3f5f",
             "gridcolor": "white",
             "linecolor": "white",
             "minorgridcolor": "white",
             "startlinecolor": "#2a3f5f"
            },
            "baxis": {
             "endlinecolor": "#2a3f5f",
             "gridcolor": "white",
             "linecolor": "white",
             "minorgridcolor": "white",
             "startlinecolor": "#2a3f5f"
            },
            "type": "carpet"
           }
          ],
          "choropleth": [
           {
            "colorbar": {
             "outlinewidth": 0,
             "ticks": ""
            },
            "type": "choropleth"
           }
          ],
          "contour": [
           {
            "colorbar": {
             "outlinewidth": 0,
             "ticks": ""
            },
            "colorscale": [
             [
              0,
              "#0d0887"
             ],
             [
              0.1111111111111111,
              "#46039f"
             ],
             [
              0.2222222222222222,
              "#7201a8"
             ],
             [
              0.3333333333333333,
              "#9c179e"
             ],
             [
              0.4444444444444444,
              "#bd3786"
             ],
             [
              0.5555555555555556,
              "#d8576b"
             ],
             [
              0.6666666666666666,
              "#ed7953"
             ],
             [
              0.7777777777777778,
              "#fb9f3a"
             ],
             [
              0.8888888888888888,
              "#fdca26"
             ],
             [
              1,
              "#f0f921"
             ]
            ],
            "type": "contour"
           }
          ],
          "contourcarpet": [
           {
            "colorbar": {
             "outlinewidth": 0,
             "ticks": ""
            },
            "type": "contourcarpet"
           }
          ],
          "heatmap": [
           {
            "colorbar": {
             "outlinewidth": 0,
             "ticks": ""
            },
            "colorscale": [
             [
              0,
              "#0d0887"
             ],
             [
              0.1111111111111111,
              "#46039f"
             ],
             [
              0.2222222222222222,
              "#7201a8"
             ],
             [
              0.3333333333333333,
              "#9c179e"
             ],
             [
              0.4444444444444444,
              "#bd3786"
             ],
             [
              0.5555555555555556,
              "#d8576b"
             ],
             [
              0.6666666666666666,
              "#ed7953"
             ],
             [
              0.7777777777777778,
              "#fb9f3a"
             ],
             [
              0.8888888888888888,
              "#fdca26"
             ],
             [
              1,
              "#f0f921"
             ]
            ],
            "type": "heatmap"
           }
          ],
          "heatmapgl": [
           {
            "colorbar": {
             "outlinewidth": 0,
             "ticks": ""
            },
            "colorscale": [
             [
              0,
              "#0d0887"
             ],
             [
              0.1111111111111111,
              "#46039f"
             ],
             [
              0.2222222222222222,
              "#7201a8"
             ],
             [
              0.3333333333333333,
              "#9c179e"
             ],
             [
              0.4444444444444444,
              "#bd3786"
             ],
             [
              0.5555555555555556,
              "#d8576b"
             ],
             [
              0.6666666666666666,
              "#ed7953"
             ],
             [
              0.7777777777777778,
              "#fb9f3a"
             ],
             [
              0.8888888888888888,
              "#fdca26"
             ],
             [
              1,
              "#f0f921"
             ]
            ],
            "type": "heatmapgl"
           }
          ],
          "histogram": [
           {
            "marker": {
             "colorbar": {
              "outlinewidth": 0,
              "ticks": ""
             }
            },
            "type": "histogram"
           }
          ],
          "histogram2d": [
           {
            "colorbar": {
             "outlinewidth": 0,
             "ticks": ""
            },
            "colorscale": [
             [
              0,
              "#0d0887"
             ],
             [
              0.1111111111111111,
              "#46039f"
             ],
             [
              0.2222222222222222,
              "#7201a8"
             ],
             [
              0.3333333333333333,
              "#9c179e"
             ],
             [
              0.4444444444444444,
              "#bd3786"
             ],
             [
              0.5555555555555556,
              "#d8576b"
             ],
             [
              0.6666666666666666,
              "#ed7953"
             ],
             [
              0.7777777777777778,
              "#fb9f3a"
             ],
             [
              0.8888888888888888,
              "#fdca26"
             ],
             [
              1,
              "#f0f921"
             ]
            ],
            "type": "histogram2d"
           }
          ],
          "histogram2dcontour": [
           {
            "colorbar": {
             "outlinewidth": 0,
             "ticks": ""
            },
            "colorscale": [
             [
              0,
              "#0d0887"
             ],
             [
              0.1111111111111111,
              "#46039f"
             ],
             [
              0.2222222222222222,
              "#7201a8"
             ],
             [
              0.3333333333333333,
              "#9c179e"
             ],
             [
              0.4444444444444444,
              "#bd3786"
             ],
             [
              0.5555555555555556,
              "#d8576b"
             ],
             [
              0.6666666666666666,
              "#ed7953"
             ],
             [
              0.7777777777777778,
              "#fb9f3a"
             ],
             [
              0.8888888888888888,
              "#fdca26"
             ],
             [
              1,
              "#f0f921"
             ]
            ],
            "type": "histogram2dcontour"
           }
          ],
          "mesh3d": [
           {
            "colorbar": {
             "outlinewidth": 0,
             "ticks": ""
            },
            "type": "mesh3d"
           }
          ],
          "parcoords": [
           {
            "line": {
             "colorbar": {
              "outlinewidth": 0,
              "ticks": ""
             }
            },
            "type": "parcoords"
           }
          ],
          "pie": [
           {
            "automargin": true,
            "type": "pie"
           }
          ],
          "scatter": [
           {
            "marker": {
             "colorbar": {
              "outlinewidth": 0,
              "ticks": ""
             }
            },
            "type": "scatter"
           }
          ],
          "scatter3d": [
           {
            "line": {
             "colorbar": {
              "outlinewidth": 0,
              "ticks": ""
             }
            },
            "marker": {
             "colorbar": {
              "outlinewidth": 0,
              "ticks": ""
             }
            },
            "type": "scatter3d"
           }
          ],
          "scattercarpet": [
           {
            "marker": {
             "colorbar": {
              "outlinewidth": 0,
              "ticks": ""
             }
            },
            "type": "scattercarpet"
           }
          ],
          "scattergeo": [
           {
            "marker": {
             "colorbar": {
              "outlinewidth": 0,
              "ticks": ""
             }
            },
            "type": "scattergeo"
           }
          ],
          "scattergl": [
           {
            "marker": {
             "colorbar": {
              "outlinewidth": 0,
              "ticks": ""
             }
            },
            "type": "scattergl"
           }
          ],
          "scattermapbox": [
           {
            "marker": {
             "colorbar": {
              "outlinewidth": 0,
              "ticks": ""
             }
            },
            "type": "scattermapbox"
           }
          ],
          "scatterpolar": [
           {
            "marker": {
             "colorbar": {
              "outlinewidth": 0,
              "ticks": ""
             }
            },
            "type": "scatterpolar"
           }
          ],
          "scatterpolargl": [
           {
            "marker": {
             "colorbar": {
              "outlinewidth": 0,
              "ticks": ""
             }
            },
            "type": "scatterpolargl"
           }
          ],
          "scatterternary": [
           {
            "marker": {
             "colorbar": {
              "outlinewidth": 0,
              "ticks": ""
             }
            },
            "type": "scatterternary"
           }
          ],
          "surface": [
           {
            "colorbar": {
             "outlinewidth": 0,
             "ticks": ""
            },
            "colorscale": [
             [
              0,
              "#0d0887"
             ],
             [
              0.1111111111111111,
              "#46039f"
             ],
             [
              0.2222222222222222,
              "#7201a8"
             ],
             [
              0.3333333333333333,
              "#9c179e"
             ],
             [
              0.4444444444444444,
              "#bd3786"
             ],
             [
              0.5555555555555556,
              "#d8576b"
             ],
             [
              0.6666666666666666,
              "#ed7953"
             ],
             [
              0.7777777777777778,
              "#fb9f3a"
             ],
             [
              0.8888888888888888,
              "#fdca26"
             ],
             [
              1,
              "#f0f921"
             ]
            ],
            "type": "surface"
           }
          ],
          "table": [
           {
            "cells": {
             "fill": {
              "color": "#EBF0F8"
             },
             "line": {
              "color": "white"
             }
            },
            "header": {
             "fill": {
              "color": "#C8D4E3"
             },
             "line": {
              "color": "white"
             }
            },
            "type": "table"
           }
          ]
         },
         "layout": {
          "annotationdefaults": {
           "arrowcolor": "#2a3f5f",
           "arrowhead": 0,
           "arrowwidth": 1
          },
          "autotypenumbers": "strict",
          "coloraxis": {
           "colorbar": {
            "outlinewidth": 0,
            "ticks": ""
           }
          },
          "colorscale": {
           "diverging": [
            [
             0,
             "#8e0152"
            ],
            [
             0.1,
             "#c51b7d"
            ],
            [
             0.2,
             "#de77ae"
            ],
            [
             0.3,
             "#f1b6da"
            ],
            [
             0.4,
             "#fde0ef"
            ],
            [
             0.5,
             "#f7f7f7"
            ],
            [
             0.6,
             "#e6f5d0"
            ],
            [
             0.7,
             "#b8e186"
            ],
            [
             0.8,
             "#7fbc41"
            ],
            [
             0.9,
             "#4d9221"
            ],
            [
             1,
             "#276419"
            ]
           ],
           "sequential": [
            [
             0,
             "#0d0887"
            ],
            [
             0.1111111111111111,
             "#46039f"
            ],
            [
             0.2222222222222222,
             "#7201a8"
            ],
            [
             0.3333333333333333,
             "#9c179e"
            ],
            [
             0.4444444444444444,
             "#bd3786"
            ],
            [
             0.5555555555555556,
             "#d8576b"
            ],
            [
             0.6666666666666666,
             "#ed7953"
            ],
            [
             0.7777777777777778,
             "#fb9f3a"
            ],
            [
             0.8888888888888888,
             "#fdca26"
            ],
            [
             1,
             "#f0f921"
            ]
           ],
           "sequentialminus": [
            [
             0,
             "#0d0887"
            ],
            [
             0.1111111111111111,
             "#46039f"
            ],
            [
             0.2222222222222222,
             "#7201a8"
            ],
            [
             0.3333333333333333,
             "#9c179e"
            ],
            [
             0.4444444444444444,
             "#bd3786"
            ],
            [
             0.5555555555555556,
             "#d8576b"
            ],
            [
             0.6666666666666666,
             "#ed7953"
            ],
            [
             0.7777777777777778,
             "#fb9f3a"
            ],
            [
             0.8888888888888888,
             "#fdca26"
            ],
            [
             1,
             "#f0f921"
            ]
           ]
          },
          "colorway": [
           "#636efa",
           "#EF553B",
           "#00cc96",
           "#ab63fa",
           "#FFA15A",
           "#19d3f3",
           "#FF6692",
           "#B6E880",
           "#FF97FF",
           "#FECB52"
          ],
          "font": {
           "color": "#2a3f5f"
          },
          "geo": {
           "bgcolor": "white",
           "lakecolor": "white",
           "landcolor": "#E5ECF6",
           "showlakes": true,
           "showland": true,
           "subunitcolor": "white"
          },
          "hoverlabel": {
           "align": "left"
          },
          "hovermode": "closest",
          "mapbox": {
           "style": "light"
          },
          "paper_bgcolor": "white",
          "plot_bgcolor": "#E5ECF6",
          "polar": {
           "angularaxis": {
            "gridcolor": "white",
            "linecolor": "white",
            "ticks": ""
           },
           "bgcolor": "#E5ECF6",
           "radialaxis": {
            "gridcolor": "white",
            "linecolor": "white",
            "ticks": ""
           }
          },
          "scene": {
           "xaxis": {
            "backgroundcolor": "#E5ECF6",
            "gridcolor": "white",
            "gridwidth": 2,
            "linecolor": "white",
            "showbackground": true,
            "ticks": "",
            "zerolinecolor": "white"
           },
           "yaxis": {
            "backgroundcolor": "#E5ECF6",
            "gridcolor": "white",
            "gridwidth": 2,
            "linecolor": "white",
            "showbackground": true,
            "ticks": "",
            "zerolinecolor": "white"
           },
           "zaxis": {
            "backgroundcolor": "#E5ECF6",
            "gridcolor": "white",
            "gridwidth": 2,
            "linecolor": "white",
            "showbackground": true,
            "ticks": "",
            "zerolinecolor": "white"
           }
          },
          "shapedefaults": {
           "line": {
            "color": "#2a3f5f"
           }
          },
          "ternary": {
           "aaxis": {
            "gridcolor": "white",
            "linecolor": "white",
            "ticks": ""
           },
           "baxis": {
            "gridcolor": "white",
            "linecolor": "white",
            "ticks": ""
           },
           "bgcolor": "#E5ECF6",
           "caxis": {
            "gridcolor": "white",
            "linecolor": "white",
            "ticks": ""
           }
          },
          "title": {
           "x": 0.05
          },
          "xaxis": {
           "automargin": true,
           "gridcolor": "white",
           "linecolor": "white",
           "ticks": "",
           "title": {
            "standoff": 15
           },
           "zerolinecolor": "white",
           "zerolinewidth": 2
          },
          "yaxis": {
           "automargin": true,
           "gridcolor": "white",
           "linecolor": "white",
           "ticks": "",
           "title": {
            "standoff": 15
           },
           "zerolinecolor": "white",
           "zerolinewidth": 2
          }
         }
        },
        "xaxis": {
         "autorange": true,
         "range": [
          "2015-07-29 12:00",
          "2016-04-15 12:00"
         ],
         "rangeslider": {
          "autorange": true,
          "range": [
           "2015-07-29 12:00",
           "2016-04-15 12:00"
          ],
          "yaxis": {
           "_template": null,
           "rangemode": "match"
          }
         },
         "type": "date"
        },
        "yaxis": {
         "autorange": true,
         "range": [
          24.66833238888889,
          52.30166461111111
         ]
        }
       }
      },
      "image/png": "[encoded data removed]",
      "text/html": [
       "<div>                            <div id=\"c971b4eb-ca94-434f-9206-9d864865f085\" class=\"plotly-graph-div\" style=\"height:525px; width:100%;\"></div>            <script type=\"text/javascript\">                require([\"plotly\"], function(Plotly) {                    window.PLOTLYENV=window.PLOTLYENV || {};                                    if (document.getElementById(\"c971b4eb-ca94-434f-9206-9d864865f085\")) {                    Plotly.newPlot(                        \"c971b4eb-ca94-434f-9206-9d864865f085\",                        [{\"close\": [48.52, 47.119999, 45.169998, 45.740002000000004, 45.150002, 44.66, 43.869999, 44.959998999999996, 43.080002, 43.299999, 42.23, 42.5, 41.869999, 42.619999, 40.799999, 41.139998999999996, 40.450001, 38.240002000000004, 39.310001, 38.599998, 42.560001, 45.220001, 49.200001, 45.41, 46.25, 46.75, 46.049999, 45.939999, 44.150002, 45.919998, 44.630001, 44.0, 44.59, 47.150002, 46.900002, 44.68, 46.68, 45.830002, 44.48, 44.91, 45.700001, 44.43, 45.23, 45.09, 44.740002000000004, 45.540001000000004, 46.259997999999996, 48.529999, 47.810001, 49.43, 49.630001, 47.099998, 46.66, 46.639998999999996, 46.380001, 47.259997999999996, 45.889998999999996, 45.549999, 45.200001, 45.380001, 44.599998, 43.98, 43.200001, 45.939999, 46.060001, 46.59, 46.139998999999996, 47.900002, 46.32, 45.200001, 44.290001000000004, 43.869999, 44.209998999999996, 42.93, 41.75, 40.740002000000004, 41.740002000000004, 40.669998, 40.75, 40.540001000000004, 40.389998999999996, 41.75, 42.869999, 43.040001000000004, 41.709998999999996, 41.650002, 41.849998, 39.939999, 41.080002, 39.970001, 37.650002, 37.509997999999996, 37.16, 36.759997999999996, 35.619999, 36.310001, 37.349998, 35.52, 34.950001, 34.73, 34.740002000000004, 36.139998999999996, 37.5, 38.099998, 36.810001, 37.869999, 36.599998, 37.040001000000004, 36.759997999999996, 35.970001, 33.970001, 33.27, 33.16, 31.41, 30.440001000000002, 30.48, 31.200001, 29.42, 28.459999, 26.549999, 29.530001000000002, 32.189999, 30.34, 31.450001, 32.299999, 33.220001, 33.619999, 31.620001000000002, 29.879998999999998, 32.279999, 31.719998999999998, 30.889999, 29.690001000000002, 27.940001000000002, 27.450001, 26.209999, 29.440001000000002, 29.040001, 30.66, 30.77, 29.639999, 31.48, 31.870001000000002, 32.150002, 33.07, 32.779999, 33.75, 34.400002, 34.66, 34.57, 35.919998, 37.900002, 36.5, 38.290001000000004, 37.84, 38.5, 37.18, 36.34, 38.459998999999996, 40.200001, 39.439999, 39.91, 41.450001, 39.790001000000004, 39.459998999999996, 39.389998999999996, 38.279999, 38.32, 38.34, 36.790001000000004, 35.700001, 35.889998999999996, 37.75, 37.259997999999996, 39.720001, 40.360001000000004, 42.169998, 41.759997999999996, 41.5, 40.360001000000004], \"high\": [49.360001000000004, 48.619999, 46.939999, 46.23, 46.700001, 45.27, 45.16, 45.009997999999996, 45.34, 43.869999, 43.720001, 42.959998999999996, 42.689999, 42.900002, 42.68, 41.48, 41.400002, 40.470001, 39.889998999999996, 39.860001000000004, 42.860001000000004, 45.900002, 49.330002, 48.869999, 46.77, 48.419998, 47.23, 46.41, 46.259997999999996, 46.040001000000004, 45.880001, 44.970001, 45.25, 47.349998, 47.709998999999996, 47.029999, 46.740002000000004, 46.48, 47.150002, 45.18, 46.380001, 45.5, 45.700001, 45.849998, 47.099998, 45.810001, 46.939999, 49.080002, 49.709998999999996, 50.07, 50.919998, 50.130001, 48.43, 46.959998999999996, 47.02, 47.5, 47.490002000000004, 46.52, 46.080002, 46.099998, 45.75, 44.939999, 43.91, 46.220001, 46.790001000000004, 47.029999, 46.73, 48.360001000000004, 48.279999, 46.650002, 45.639998999999996, 45.119999, 44.759997999999996, 44.110001000000004, 43.330002, 42.84, 42.25, 42.029999, 41.549999, 41.049999, 40.990002000000004, 42.75, 43.459998999999996, 43.25, 43.299999, 42.610001000000004, 42.23, 41.970001, 41.779999, 42.0, 40.150002, 38.580002, 38.990002000000004, 37.540001000000004, 36.84, 36.700001, 37.880001, 37.349998, 35.84, 35.57, 34.860001000000004, 36.540001000000004, 37.950001, 38.279999, 38.09, 37.939999, 37.400002, 37.790001000000004, 38.389998999999996, 37.099998, 36.389998999999996, 34.259997999999996, 34.34, 33.200001, 32.209998999999996, 31.709999, 31.77, 31.18, 30.209999, 28.58, 30.25, 32.349998, 32.740002000000004, 32.41, 32.84, 34.82, 34.400002, 34.18, 31.530001000000002, 32.75, 33.599998, 32.450001, 31.379998999999998, 30.610001, 29.219998999999998, 27.48, 29.66, 31.530001000000002, 31.49, 31.98, 30.73, 32.049999, 33.529999, 32.400002, 33.490002000000004, 34.689999, 33.98, 34.759997999999996, 35.169998, 35.32, 36.34, 38.110001000000004, 38.389998999999996, 38.509997999999996, 38.48, 39.02, 38.77, 37.400002, 38.630001, 40.360001000000004, 41.200001, 40.299999, 41.900002, 41.34, 39.77, 40.139998999999996, 39.48, 39.849998, 39.040001000000004, 38.560001, 37.209998999999996, 36.580002, 37.900002, 38.299999, 39.84, 40.75, 42.25, 42.419998, 42.16, 41.73], \"low\": [48.34, 46.700001, 45.080002, 45.290001000000004, 44.830002, 44.200001, 43.700001, 43.349998, 42.689999, 42.799999, 41.91, 41.349998, 41.639998999999996, 41.43, 40.400002, 40.209998999999996, 39.860001000000004, 37.75, 38.16, 38.52, 38.950001, 41.779999, 43.599998, 44.150002, 43.209998999999996, 45.650002, 45.610001000000004, 44.139998999999996, 44.049999, 43.360001000000004, 44.16, 43.59, 43.919998, 44.82, 46.330002, 44.240002000000004, 44.689999, 45.139998999999996, 44.41, 43.709998999999996, 44.860001000000004, 44.299999, 44.299999, 44.68, 44.630001, 43.970001, 45.209998999999996, 45.73, 47.700001, 47.759997999999996, 49.169998, 47.040001000000004, 46.439999, 45.939999, 45.23, 46.16, 45.849998, 45.23, 44.860001000000004, 44.900002, 44.200001, 43.639998999999996, 42.580002, 43.060001, 45.16, 45.48, 45.560001, 45.959998999999996, 46.169998, 45.119999, 44.110001000000004, 43.639998999999996, 43.57, 42.619999, 41.540001000000004, 40.220001, 40.060001, 40.580002, 39.91, 39.889998999999996, 38.990002000000004, 40.41, 41.860001000000004, 41.720001, 41.669998, 41.5, 41.169998, 39.84, 40.07, 39.599998, 37.5, 36.639998999999996, 36.869999, 36.380001, 35.16, 34.529999, 36.029999, 35.290001000000004, 34.630001, 34.290001000000004, 33.98, 35.66, 36.279999, 37.380001, 36.599998, 36.66, 36.400002, 36.220001, 36.330002, 35.740002000000004, 33.77, 32.099998, 32.639998999999996, 30.879998999999998, 29.93, 30.1, 30.280001000000002, 29.129998999999998, 28.209999, 26.190001000000002, 27.870001000000002, 29.530001000000002, 29.68, 29.25, 30.139999, 31.74, 32.650002, 31.290001, 29.57, 29.4, 31.530001000000002, 30.629998999999998, 29.57, 27.74, 27.24, 26.049999, 26.950001, 28.700001, 28.73, 30.27, 29.049999, 29.48, 31.219998999999998, 30.559998999999998, 31.07, 32.639998999999996, 32.32, 33.369999, 33.549999, 34.189999, 34.400002, 36.09, 36.119999, 36.240002000000004, 37.209998999999996, 37.919998, 36.68, 35.959998999999996, 36.610001000000004, 38.470001, 39.150002, 38.610001000000004, 40.77, 39.669998, 38.330002, 38.860001000000004, 37.91, 38.139998999999996, 37.57, 36.630001, 35.459998999999996, 35.240002000000004, 36.43, 36.689999, 37.450001, 39.25, 40.09, 41.240002000000004, 40.84, 39.98], \"open\": [48.830002, 48.470001, 46.860001000000004, 45.349998, 45.959998999999996, 45.16, 44.82, 43.580002, 44.810001, 43.27, 43.34, 42.23, 42.18, 41.880001, 42.41, 40.580002, 41.029999, 40.299999, 38.18, 39.689999, 38.959998999999996, 42.68, 45.0, 48.099998, 44.259997999999996, 46.110001000000004, 46.68, 45.82, 45.790001000000004, 44.16, 45.709998999999996, 44.779999, 44.110001000000004, 45.16, 47.130001, 46.889998999999996, 44.970001, 46.450001, 46.540001000000004, 44.619999, 45.049999, 45.380001, 44.5, 44.919998, 45.380001, 45.07, 45.650002, 46.200001, 49.0, 48.110001000000004, 49.689999, 49.509997999999996, 47.459998999999996, 46.689999, 46.279999, 46.869999, 47.27, 46.25, 45.880001, 45.27, 45.439999, 44.740002000000004, 43.779999, 43.439999, 46.060001, 45.740002000000004, 46.43, 46.110001000000004, 47.740002000000004, 46.57, 45.41, 44.52, 44.099998, 43.630001, 43.049999, 41.610001000000004, 40.919998, 41.959998999999996, 41.110001000000004, 40.720001, 40.540001000000004, 41.490002000000004, 42.040001000000004, 42.689999, 43.25, 41.77, 41.73, 41.689999, 40.150002, 41.310001, 40.099998, 37.68, 37.860001000000004, 37.27, 36.630001, 35.400002, 36.32, 36.790001000000004, 35.799999, 34.869999, 34.580002, 35.799999, 36.470001, 37.860001000000004, 38.0, 36.700001, 37.360001000000004, 36.810001, 37.599998, 36.900002, 36.18, 34.09, 33.299999, 32.939999, 31.110001, 30.540001, 30.6, 31.18, 29.200001, 28.33, 28.35, 29.84, 32.049999, 29.809998999999998, 30.549999, 32.189999, 33.700001, 33.830002, 31.370001000000002, 29.75, 32.709998999999996, 31.639999, 30.969998999999998, 30.17, 28.360001, 27.34, 27.299999, 29.08, 29.139999, 31.35, 30.6, 29.719998999999998, 33.34, 31.280001000000002, 32.189999, 33.040001000000004, 32.720001, 33.900002, 33.889998999999996, 34.73, 34.66, 36.200001, 37.939999, 36.360001000000004, 38.169998, 37.990002000000004, 38.169998, 37.369999, 36.740002000000004, 38.59, 40.25, 39.060001, 41.59, 41.189999, 39.73, 39.549999, 39.32, 38.52, 38.299999, 38.139998999999996, 36.610001000000004, 35.5, 36.52, 37.759997999999996, 37.52, 39.720001, 40.349998, 41.630001, 41.540001000000004, 41.43], \"type\": \"candlestick\", \"x\": [\"2015-07-30\", \"2015-07-31\", \"2015-08-03\", \"2015-08-04\", \"2015-08-05\", \"2015-08-06\", \"2015-08-07\", \"2015-08-10\", \"2015-08-11\", \"2015-08-12\", \"2015-08-13\", \"2015-08-14\", \"2015-08-17\", \"2015-08-18\", \"2015-08-19\", \"2015-08-20\", \"2015-08-21\", \"2015-08-24\", \"2015-08-25\", \"2015-08-26\", \"2015-08-27\", \"2015-08-28\", \"2015-08-31\", \"2015-09-01\", \"2015-09-02\", \"2015-09-03\", \"2015-09-04\", \"2015-09-08\", \"2015-09-09\", \"2015-09-10\", \"2015-09-11\", \"2015-09-14\", \"2015-09-15\", \"2015-09-16\", \"2015-09-17\", \"2015-09-18\", \"2015-09-21\", \"2015-09-22\", \"2015-09-23\", \"2015-09-24\", \"2015-09-25\", \"2015-09-28\", \"2015-09-29\", \"2015-09-30\", \"2015-10-01\", \"2015-10-02\", \"2015-10-05\", \"2015-10-06\", \"2015-10-07\", \"2015-10-08\", \"2015-10-09\", \"2015-10-12\", \"2015-10-13\", \"2015-10-14\", \"2015-10-15\", \"2015-10-16\", \"2015-10-19\", \"2015-10-20\", \"2015-10-21\", \"2015-10-22\", \"2015-10-23\", \"2015-10-26\", \"2015-10-27\", \"2015-10-28\", \"2015-10-29\", \"2015-10-30\", \"2015-11-02\", \"2015-11-03\", \"2015-11-04\", \"2015-11-05\", \"2015-11-06\", \"2015-11-09\", \"2015-11-10\", \"2015-11-11\", \"2015-11-12\", \"2015-11-13\", \"2015-11-16\", \"2015-11-17\", \"2015-11-18\", \"2015-11-19\", \"2015-11-20\", \"2015-11-23\", \"2015-11-24\", \"2015-11-25\", \"2015-11-27\", \"2015-11-30\", \"2015-12-01\", \"2015-12-02\", \"2015-12-03\", \"2015-12-04\", \"2015-12-07\", \"2015-12-08\", \"2015-12-09\", \"2015-12-10\", \"2015-12-11\", \"2015-12-14\", \"2015-12-15\", \"2015-12-16\", \"2015-12-17\", \"2015-12-18\", \"2015-12-21\", \"2015-12-22\", \"2015-12-23\", \"2015-12-24\", \"2015-12-28\", \"2015-12-29\", \"2015-12-30\", \"2015-12-31\", \"2016-01-04\", \"2016-01-05\", \"2016-01-06\", \"2016-01-07\", \"2016-01-08\", \"2016-01-11\", \"2016-01-12\", \"2016-01-13\", \"2016-01-14\", \"2016-01-15\", \"2016-01-19\", \"2016-01-20\", \"2016-01-21\", \"2016-01-22\", \"2016-01-25\", \"2016-01-26\", \"2016-01-27\", \"2016-01-28\", \"2016-01-29\", \"2016-02-01\", \"2016-02-02\", \"2016-02-03\", \"2016-02-04\", \"2016-02-05\", \"2016-02-08\", \"2016-02-09\", \"2016-02-10\", \"2016-02-11\", \"2016-02-12\", \"2016-02-16\", \"2016-02-17\", \"2016-02-18\", \"2016-02-19\", \"2016-02-22\", \"2016-02-23\", \"2016-02-24\", \"2016-02-25\", \"2016-02-26\", \"2016-02-29\", \"2016-03-01\", \"2016-03-02\", \"2016-03-03\", \"2016-03-04\", \"2016-03-07\", \"2016-03-08\", \"2016-03-09\", \"2016-03-10\", \"2016-03-11\", \"2016-03-14\", \"2016-03-15\", \"2016-03-16\", \"2016-03-17\", \"2016-03-18\", \"2016-03-21\", \"2016-03-22\", \"2016-03-23\", \"2016-03-24\", \"2016-03-28\", \"2016-03-29\", \"2016-03-30\", \"2016-03-31\", \"2016-04-01\", \"2016-04-04\", \"2016-04-05\", \"2016-04-06\", \"2016-04-07\", \"2016-04-08\", \"2016-04-11\", \"2016-04-12\", \"2016-04-13\", \"2016-04-14\", \"2016-04-15\"]}],                        {\"template\": {\"data\": {\"bar\": [{\"error_x\": {\"color\": \"#2a3f5f\"}, \"error_y\": {\"color\": \"#2a3f5f\"}, \"marker\": {\"line\": {\"color\": \"#E5ECF6\", \"width\": 0.5}}, \"type\": \"bar\"}], \"barpolar\": [{\"marker\": {\"line\": {\"color\": \"#E5ECF6\", \"width\": 0.5}}, \"type\": \"barpolar\"}], \"carpet\": [{\"aaxis\": {\"endlinecolor\": \"#2a3f5f\", \"gridcolor\": \"white\", \"linecolor\": \"white\", \"minorgridcolor\": \"white\", \"startlinecolor\": \"#2a3f5f\"}, \"baxis\": {\"endlinecolor\": \"#2a3f5f\", \"gridcolor\": \"white\", \"linecolor\": \"white\", \"minorgridcolor\": \"white\", \"startlinecolor\": \"#2a3f5f\"}, \"type\": \"carpet\"}], \"choropleth\": [{\"colorbar\": {\"outlinewidth\": 0, \"ticks\": \"\"}, \"type\": \"choropleth\"}], \"contour\": [{\"colorbar\": {\"outlinewidth\": 0, \"ticks\": \"\"}, \"colorscale\": [[0.0, \"#0d0887\"], [0.1111111111111111, \"#46039f\"], [0.2222222222222222, \"#7201a8\"], [0.3333333333333333, \"#9c179e\"], [0.4444444444444444, \"#bd3786\"], [0.5555555555555556, \"#d8576b\"], [0.6666666666666666, \"#ed7953\"], [0.7777777777777778, \"#fb9f3a\"], [0.8888888888888888, \"#fdca26\"], [1.0, \"#f0f921\"]], \"type\": \"contour\"}], \"contourcarpet\": [{\"colorbar\": {\"outlinewidth\": 0, \"ticks\": \"\"}, \"type\": \"contourcarpet\"}], \"heatmap\": [{\"colorbar\": {\"outlinewidth\": 0, \"ticks\": \"\"}, \"colorscale\": [[0.0, \"#0d0887\"], [0.1111111111111111, \"#46039f\"], [0.2222222222222222, \"#7201a8\"], [0.3333333333333333, \"#9c179e\"], [0.4444444444444444, \"#bd3786\"], [0.5555555555555556, \"#d8576b\"], [0.6666666666666666, \"#ed7953\"], [0.7777777777777778, \"#fb9f3a\"], [0.8888888888888888, \"#fdca26\"], [1.0, \"#f0f921\"]], \"type\": \"heatmap\"}], \"heatmapgl\": [{\"colorbar\": {\"outlinewidth\": 0, \"ticks\": \"\"}, \"colorscale\": [[0.0, \"#0d0887\"], [0.1111111111111111, \"#46039f\"], [0.2222222222222222, \"#7201a8\"], [0.3333333333333333, \"#9c179e\"], [0.4444444444444444, \"#bd3786\"], [0.5555555555555556, \"#d8576b\"], [0.6666666666666666, \"#ed7953\"], [0.7777777777777778, \"#fb9f3a\"], [0.8888888888888888, \"#fdca26\"], [1.0, \"#f0f921\"]], \"type\": \"heatmapgl\"}], \"histogram\": [{\"marker\": {\"colorbar\": {\"outlinewidth\": 0, \"ticks\": \"\"}}, \"type\": \"histogram\"}], \"histogram2d\": [{\"colorbar\": {\"outlinewidth\": 0, \"ticks\": \"\"}, \"colorscale\": [[0.0, \"#0d0887\"], [0.1111111111111111, \"#46039f\"], [0.2222222222222222, \"#7201a8\"], [0.3333333333333333, \"#9c179e\"], [0.4444444444444444, \"#bd3786\"], [0.5555555555555556, \"#d8576b\"], [0.6666666666666666, \"#ed7953\"], [0.7777777777777778, \"#fb9f3a\"], [0.8888888888888888, \"#fdca26\"], [1.0, \"#f0f921\"]], \"type\": \"histogram2d\"}], \"histogram2dcontour\": [{\"colorbar\": {\"outlinewidth\": 0, \"ticks\": \"\"}, \"colorscale\": [[0.0, \"#0d0887\"], [0.1111111111111111, \"#46039f\"], [0.2222222222222222, \"#7201a8\"], [0.3333333333333333, \"#9c179e\"], [0.4444444444444444, \"#bd3786\"], [0.5555555555555556, \"#d8576b\"], [0.6666666666666666, \"#ed7953\"], [0.7777777777777778, \"#fb9f3a\"], [0.8888888888888888, \"#fdca26\"], [1.0, \"#f0f921\"]], \"type\": \"histogram2dcontour\"}], \"mesh3d\": [{\"colorbar\": {\"outlinewidth\": 0, \"ticks\": \"\"}, \"type\": \"mesh3d\"}], \"parcoords\": [{\"line\": {\"colorbar\": {\"outlinewidth\": 0, \"ticks\": \"\"}}, \"type\": \"parcoords\"}], \"pie\": [{\"automargin\": true, \"type\": \"pie\"}], \"scatter\": [{\"marker\": {\"colorbar\": {\"outlinewidth\": 0, \"ticks\": \"\"}}, \"type\": \"scatter\"}], \"scatter3d\": [{\"line\": {\"colorbar\": {\"outlinewidth\": 0, \"ticks\": \"\"}}, \"marker\": {\"colorbar\": {\"outlinewidth\": 0, \"ticks\": \"\"}}, \"type\": \"scatter3d\"}], \"scattercarpet\": [{\"marker\": {\"colorbar\": {\"outlinewidth\": 0, \"ticks\": \"\"}}, \"type\": \"scattercarpet\"}], \"scattergeo\": [{\"marker\": {\"colorbar\": {\"outlinewidth\": 0, \"ticks\": \"\"}}, \"type\": \"scattergeo\"}], \"scattergl\": [{\"marker\": {\"colorbar\": {\"outlinewidth\": 0, \"ticks\": \"\"}}, \"type\": \"scattergl\"}], \"scattermapbox\": [{\"marker\": {\"colorbar\": {\"outlinewidth\": 0, \"ticks\": \"\"}}, \"type\": \"scattermapbox\"}], \"scatterpolar\": [{\"marker\": {\"colorbar\": {\"outlinewidth\": 0, \"ticks\": \"\"}}, \"type\": \"scatterpolar\"}], \"scatterpolargl\": [{\"marker\": {\"colorbar\": {\"outlinewidth\": 0, \"ticks\": \"\"}}, \"type\": \"scatterpolargl\"}], \"scatterternary\": [{\"marker\": {\"colorbar\": {\"outlinewidth\": 0, \"ticks\": \"\"}}, \"type\": \"scatterternary\"}], \"surface\": [{\"colorbar\": {\"outlinewidth\": 0, \"ticks\": \"\"}, \"colorscale\": [[0.0, \"#0d0887\"], [0.1111111111111111, \"#46039f\"], [0.2222222222222222, \"#7201a8\"], [0.3333333333333333, \"#9c179e\"], [0.4444444444444444, \"#bd3786\"], [0.5555555555555556, \"#d8576b\"], [0.6666666666666666, \"#ed7953\"], [0.7777777777777778, \"#fb9f3a\"], [0.8888888888888888, \"#fdca26\"], [1.0, \"#f0f921\"]], \"type\": \"surface\"}], \"table\": [{\"cells\": {\"fill\": {\"color\": \"#EBF0F8\"}, \"line\": {\"color\": \"white\"}}, \"header\": {\"fill\": {\"color\": \"#C8D4E3\"}, \"line\": {\"color\": \"white\"}}, \"type\": \"table\"}]}, \"layout\": {\"annotationdefaults\": {\"arrowcolor\": \"#2a3f5f\", \"arrowhead\": 0, \"arrowwidth\": 1}, \"autotypenumbers\": \"strict\", \"coloraxis\": {\"colorbar\": {\"outlinewidth\": 0, \"ticks\": \"\"}}, \"colorscale\": {\"diverging\": [[0, \"#8e0152\"], [0.1, \"#c51b7d\"], [0.2, \"#de77ae\"], [0.3, \"#f1b6da\"], [0.4, \"#fde0ef\"], [0.5, \"#f7f7f7\"], [0.6, \"#e6f5d0\"], [0.7, \"#b8e186\"], [0.8, \"#7fbc41\"], [0.9, \"#4d9221\"], [1, \"#276419\"]], \"sequential\": [[0.0, \"#0d0887\"], [0.1111111111111111, \"#46039f\"], [0.2222222222222222, \"#7201a8\"], [0.3333333333333333, \"#9c179e\"], [0.4444444444444444, \"#bd3786\"], [0.5555555555555556, \"#d8576b\"], [0.6666666666666666, \"#ed7953\"], [0.7777777777777778, \"#fb9f3a\"], [0.8888888888888888, \"#fdca26\"], [1.0, \"#f0f921\"]], \"sequentialminus\": [[0.0, \"#0d0887\"], [0.1111111111111111, \"#46039f\"], [0.2222222222222222, \"#7201a8\"], [0.3333333333333333, \"#9c179e\"], [0.4444444444444444, \"#bd3786\"], [0.5555555555555556, \"#d8576b\"], [0.6666666666666666, \"#ed7953\"], [0.7777777777777778, \"#fb9f3a\"], [0.8888888888888888, \"#fdca26\"], [1.0, \"#f0f921\"]]}, \"colorway\": [\"#636efa\", \"#EF553B\", \"#00cc96\", \"#ab63fa\", \"#FFA15A\", \"#19d3f3\", \"#FF6692\", \"#B6E880\", \"#FF97FF\", \"#FECB52\"], \"font\": {\"color\": \"#2a3f5f\"}, \"geo\": {\"bgcolor\": \"white\", \"lakecolor\": \"white\", \"landcolor\": \"#E5ECF6\", \"showlakes\": true, \"showland\": true, \"subunitcolor\": \"white\"}, \"hoverlabel\": {\"align\": \"left\"}, \"hovermode\": \"closest\", \"mapbox\": {\"style\": \"light\"}, \"paper_bgcolor\": \"white\", \"plot_bgcolor\": \"#E5ECF6\", \"polar\": {\"angularaxis\": {\"gridcolor\": \"white\", \"linecolor\": \"white\", \"ticks\": \"\"}, \"bgcolor\": \"#E5ECF6\", \"radialaxis\": {\"gridcolor\": \"white\", \"linecolor\": \"white\", \"ticks\": \"\"}}, \"scene\": {\"xaxis\": {\"backgroundcolor\": \"#E5ECF6\", \"gridcolor\": \"white\", \"gridwidth\": 2, \"linecolor\": \"white\", \"showbackground\": true, \"ticks\": \"\", \"zerolinecolor\": \"white\"}, \"yaxis\": {\"backgroundcolor\": \"#E5ECF6\", \"gridcolor\": \"white\", \"gridwidth\": 2, \"linecolor\": \"white\", \"showbackground\": true, \"ticks\": \"\", \"zerolinecolor\": \"white\"}, \"zaxis\": {\"backgroundcolor\": \"#E5ECF6\", \"gridcolor\": \"white\", \"gridwidth\": 2, \"linecolor\": \"white\", \"showbackground\": true, \"ticks\": \"\", \"zerolinecolor\": \"white\"}}, \"shapedefaults\": {\"line\": {\"color\": \"#2a3f5f\"}}, \"ternary\": {\"aaxis\": {\"gridcolor\": \"white\", \"linecolor\": \"white\", \"ticks\": \"\"}, \"baxis\": {\"gridcolor\": \"white\", \"linecolor\": \"white\", \"ticks\": \"\"}, \"bgcolor\": \"#E5ECF6\", \"caxis\": {\"gridcolor\": \"white\", \"linecolor\": \"white\", \"ticks\": \"\"}}, \"title\": {\"x\": 0.05}, \"xaxis\": {\"automargin\": true, \"gridcolor\": \"white\", \"linecolor\": \"white\", \"ticks\": \"\", \"title\": {\"standoff\": 15}, \"zerolinecolor\": \"white\", \"zerolinewidth\": 2}, \"yaxis\": {\"automargin\": true, \"gridcolor\": \"white\", \"linecolor\": \"white\", \"ticks\": \"\", \"title\": {\"standoff\": 15}, \"zerolinecolor\": \"white\", \"zerolinewidth\": 2}}}},                        {\"responsive\": true}                    ).then(function(){\n",
       "                            \n",
       "var gd = document.getElementById('c971b4eb-ca94-434f-9206-9d864865f085');\n",
       "var x = new MutationObserver(function (mutations, observer) {{\n",
       "        var display = window.getComputedStyle(gd).display;\n",
       "        if (!display || display === 'none') {{\n",
       "            console.log([gd, 'removed!']);\n",
       "            Plotly.purge(gd);\n",
       "            observer.disconnect();\n",
       "        }}\n",
       "}});\n",
       "\n",
       "// Listen for the removal of the full notebook cells\n",
       "var notebookContainer = gd.closest('#notebook-container');\n",
       "if (notebookContainer) {{\n",
       "    x.observe(notebookContainer, {childList: true});\n",
       "}}\n",
       "\n",
       "// Listen for the clearing of the current output cell\n",
       "var outputEl = gd.closest('.output');\n",
       "if (outputEl) {{\n",
       "    x.observe(outputEl, {childList: true});\n",
       "}}\n",
       "\n",
       "                        })                };                });            </script>        </div>"
      ]
     },
     "metadata": {},
     "output_type": "display_data"
    },
    {
     "name": "stdout",
     "output_type": "stream",
     "text": [
      "--------------------------------------------------------------\n",
      "PETR4\n",
      "\n",
      "\n",
      "\n",
      "Low   :0.3365189659747937\n",
      "Open  :0.3354450637928436\n",
      "High  :0.33200617493841306\n",
      "Close :0.3364339519591608\n",
      "\n",
      "\n",
      "Dollar\n",
      "\n",
      "Open sec :0.3363419659619342\n",
      "High sec :0.34535140807072534\n",
      "\n",
      "\n",
      "\n",
      "\n",
      "--------------------------------------------------------------\n",
      "--------------------------------------------------------------\n",
      "PETR4\n",
      "\n",
      "\n",
      "\n",
      "Low   :0.7745236360592791\n",
      "Open  :0.7763908828600337\n",
      "High  :0.7811515869689389\n",
      "Close :0.7777678565854537\n",
      "\n",
      "\n",
      "CL=F\n",
      "\n",
      "Open sec :0.77900976363665\n",
      "High sec :0.7788310108366749\n",
      "\n",
      "\n",
      "\n",
      "\n",
      "--------------------------------------------------------------\n"
     ]
    },
    {
     "data": {
      "image/png": "[encoded data removed]",
      "text/plain": [
       "<Figure size 432x288 with 1 Axes>"
      ]
     },
     "metadata": {
      "needs_background": "light"
     },
     "output_type": "display_data"
    },
    {
     "name": "stdout",
     "output_type": "stream",
     "text": [
      "              Open          Low        Close    Adj Close        Volume  \\\n",
      "count  1021.000000  1021.000000  1021.000000  1021.000000  1.021000e+03   \n",
      "mean     17.821401    17.522870    17.790548    16.938085  5.669655e+07   \n",
      "std       7.164016     7.100975     7.152208     7.132328  3.087118e+07   \n",
      "min       4.200000     4.120000     4.230000     3.924259  0.000000e+00   \n",
      "25%      12.960000    12.700000    12.870000    11.939769  3.733110e+07   \n",
      "50%      16.250000    16.020000    16.190001    15.353781  4.992090e+07   \n",
      "75%      25.049999    24.660000    24.990000    23.848036  6.750720e+07   \n",
      "max      30.889999    30.500000    30.969999    30.698339  2.548138e+08   \n",
      "\n",
      "           clClose  \n",
      "count  1021.000000  \n",
      "mean     52.669461  \n",
      "std      10.045782  \n",
      "min      26.209999  \n",
      "25%      45.939999  \n",
      "50%      51.500000  \n",
      "75%      59.980000  \n",
      "max      76.410004  \n",
      " ---------------- Treino ------------------ \n",
      "           Open        Low      Close  Adj Close       Volume    clClose\n",
      "461   13.970000  13.630000  13.740000  12.746888   45030800.0  53.830002\n",
      "248   10.910000  10.820000  11.020000  10.223485   51223500.0  47.750000\n",
      "438   13.800000  13.630000  13.880000  12.876768   28227600.0  53.990002\n",
      "6     10.220000  10.120000  10.120000   9.388536   50696500.0  44.660000\n",
      "933   26.469999  25.570000  25.830000  24.998255  227307600.0  67.830002\n",
      "...         ...        ...        ...        ...          ...        ...\n",
      "1018  24.990000  24.139999  24.230000  23.740259   53894500.0  52.950001\n",
      "234    9.220000   8.780000   8.780000   8.145391   58818400.0  43.779999\n",
      "766   21.150000  20.980000  21.040001  19.558289   44528300.0  64.150002\n",
      "680   21.110001  20.660000  20.709999  19.213102   39245800.0  51.900002\n",
      "832   25.200001  24.680000  25.459999  23.726213   94206400.0  68.050003\n",
      "\n",
      "[816 rows x 6 columns]\n",
      "461     14.190000\n",
      "248     11.060000\n",
      "438     13.900000\n",
      "6       10.560000\n",
      "933     26.969999\n",
      "          ...    \n",
      "1018    25.000000\n",
      "234      9.340000\n",
      "766     21.469999\n",
      "680     21.190001\n",
      "832     25.719999\n",
      "Name: High, Length: 816, dtype: float64\n",
      "Teste\n",
      " ---------------- X_dataTest ------------------ \n",
      "1229    22.070000\n",
      "33       9.290000\n",
      "93       7.860000\n",
      "339     15.520000\n",
      "387     15.340000\n",
      "          ...    \n",
      "889     25.850000\n",
      "516     13.660000\n",
      "651     20.820000\n",
      "642     19.969999\n",
      "754     18.400000\n",
      "Name: High, Length: 205, dtype: float64\n",
      "           Open        Low      Close  Adj Close      Volume    clClose\n",
      "1229  21.219999  21.139999  21.650000  21.650000  78950900.0  54.470001\n",
      "33     8.710000   8.520000   9.190000   8.525757  76576400.0  45.939999\n",
      "93     7.810000   7.570000   7.600000   7.050679  38334200.0  40.669998\n",
      "339   15.250000  15.050000  15.300000  14.194132  47630600.0  45.500000\n",
      "387   14.920000  14.770000  15.340000  14.231242  40213400.0  44.660000\n",
      "...         ...        ...        ...        ...         ...        ...\n",
      "889   25.600000  24.660000  25.090000  24.282085  55614100.0  73.940002\n",
      "516   13.600000  13.150000  13.190000  12.236640  56194400.0  53.080002\n",
      "651   19.879999  19.820000  20.440001  18.962620  67418700.0  49.480000\n",
      "642   19.650000  19.040001  19.040001  17.663805  62268600.0  47.480000\n",
      "754   17.840000  17.740000  18.400000  17.104210  60404900.0  63.490002\n",
      "\n",
      "[205 rows x 6 columns]\n",
      "[ 6.20622769e-01 -1.13704891e-01  5.17674665e-01 -2.06272085e-02\n",
      "  3.38356689e-09  1.00193349e-03]\n",
      "Acertividade do modelo : 0.163318850593229\n"
     ]
    },
    {
     "data": {
      "application/vnd.plotly.v1+json": {
       "config": {
        "linkText": "Export to plot.ly",
        "plotlyServerURL": "https://plot.ly",
        "showLink": false
       },
       "data": [
        {
         "line": {
          "color": "#FF5733"
         },
         "name": "Valores Reais",
         "opacity": 0.8,
         "type": "scatter",
         "x": [
          "2015-07-15",
          "2015-07-16",
          "2015-07-20",
          "2015-07-21",
          "2015-07-22",
          "2015-07-23",
          "2015-07-24",
          "2015-07-28",
          "2015-07-29",
          "2015-07-30",
          "2015-07-31",
          "2015-08-03",
          "2015-08-05",
          "2015-08-06",
          "2015-08-07",
          "2015-08-10",
          "2015-08-11",
          "2015-08-13",
          "2015-08-14",
          "2015-08-17",
          "2015-08-18",
          "2015-08-19",
          "2015-08-21",
          "2015-08-24",
          "2015-08-25",
          "2015-08-26",
          "2015-08-27",
          "2015-08-31",
          "2015-09-01",
          "2015-09-02",
          "2015-09-03",
          "2015-09-08",
          "2015-09-09",
          "2015-09-10",
          "2015-09-11",
          "2015-09-14",
          "2015-09-16",
          "2015-09-17",
          "2015-09-18",
          "2015-09-21",
          "2015-09-22",
          "2015-09-24",
          "2015-09-25",
          "2015-09-28",
          "2015-09-29",
          "2015-09-30",
          "2015-10-02",
          "2015-10-05",
          "2015-10-06",
          "2015-10-07",
          "2015-10-08",
          "2015-10-13",
          "2015-10-14",
          "2015-10-15",
          "2015-10-16",
          "2015-10-19",
          "2015-10-21",
          "2015-10-22",
          "2015-10-23",
          "2015-10-26",
          "2015-10-27",
          "2015-10-29",
          "2015-10-30",
          "2015-11-03",
          "2015-11-04",
          "2015-11-05",
          "2015-11-09",
          "2015-11-10",
          "2015-11-11",
          "2015-11-12",
          "2015-11-13",
          "2015-11-17",
          "2015-11-18",
          "2015-11-19",
          "2015-11-23",
          "2015-11-24",
          "2015-11-26",
          "2015-11-27",
          "2015-11-30",
          "2015-12-01",
          "2015-12-02",
          "2015-12-04",
          "2015-12-07",
          "2015-12-08",
          "2015-12-09",
          "2015-12-11",
          "2015-12-14",
          "2015-12-15",
          "2015-12-16",
          "2015-12-17",
          "2015-12-21",
          "2015-12-22",
          "2015-12-23",
          "2015-12-28",
          "2015-12-29",
          "2016-01-04",
          "2016-01-05",
          "2016-01-06",
          "2016-01-07",
          "2016-01-08",
          "2016-01-12",
          "2016-01-13",
          "2016-01-14",
          "2016-01-15",
          "2016-01-19",
          "2016-01-20",
          "2016-01-21",
          "2016-01-22",
          "2016-01-27",
          "2016-01-28",
          "2016-01-29",
          "2016-02-01",
          "2016-02-02",
          "2016-02-04",
          "2016-02-05",
          "2016-02-10",
          "2016-02-11",
          "2016-02-12",
          "2016-02-17",
          "2016-02-18",
          "2016-02-19",
          "2016-02-22",
          "2016-02-24",
          "2016-02-25",
          "2016-02-26",
          "2016-02-29",
          "2016-03-01",
          "2016-03-03",
          "2016-03-04",
          "2016-03-07",
          "2016-03-08",
          "2016-03-09",
          "2016-03-11",
          "2016-03-14",
          "2016-03-15",
          "2016-03-16",
          "2016-03-17",
          "2016-03-22",
          "2016-03-23",
          "2016-03-24",
          "2016-03-28",
          "2016-03-30",
          "2016-03-31",
          "2016-04-01",
          "2016-04-04",
          "2016-04-05",
          "2016-04-07",
          "2016-04-08",
          "2016-04-11",
          "2016-04-12",
          "2016-04-13",
          "2016-04-15",
          "2016-04-18",
          "2016-04-19",
          "2016-04-20",
          "2016-04-22",
          "2016-04-26",
          "2016-04-27",
          "2016-04-28",
          "2016-04-29",
          "2016-05-02",
          "2016-05-04",
          "2016-05-05",
          "2016-05-06",
          "2016-05-09",
          "2016-05-11",
          "2016-05-12",
          "2016-05-13",
          "2016-05-16",
          "2016-05-17",
          "2016-05-19",
          "2016-05-20",
          "2016-05-23",
          "2016-05-24",
          "2016-05-25",
          "2016-05-30",
          "2016-05-31",
          "2016-06-01",
          "2016-06-02",
          "2016-06-03",
          "2016-06-07",
          "2016-06-08",
          "2016-06-09",
          "2016-06-10",
          "2016-06-13",
          "2016-06-15",
          "2016-06-16",
          "2016-06-17",
          "2016-06-20",
          "2016-06-21",
          "2016-06-23",
          "2016-06-24",
          "2016-06-27",
          "2016-06-28",
          "2016-06-29",
          "2016-07-01",
          "2016-07-04",
          "2016-07-05",
          "2016-07-06",
          "2016-07-07",
          "2016-07-11",
          "2016-07-12",
          "2016-07-13",
          "2016-07-14",
          "2016-07-15"
         ],
         "y": [
          22.07,
          9.29,
          7.86,
          15.52,
          15.34,
          11.99,
          13.23,
          18.35,
          29.85,
          25.85,
          26.34,
          25.32,
          19.02,
          16.469998999999998,
          21.139999,
          29.040001,
          19.75,
          14.34,
          13.29,
          12.41,
          7.53,
          8.5,
          21.9,
          5.44,
          27.139999,
          21.459999,
          17.1,
          10.55,
          16.950001,
          17.870001000000002,
          26.75,
          13.27,
          26.82,
          29.940001000000002,
          29.85,
          4.93,
          13.56,
          16.889999,
          17.440001000000002,
          11.9,
          19.309998999999998,
          7.26,
          21.07,
          8.79,
          26.35,
          15.91,
          15.57,
          20.01,
          6.54,
          16.25,
          14.35,
          17.129998999999998,
          15.46,
          27.780001000000002,
          30.889999,
          31.07,
          21.41,
          29.66,
          7.96,
          24.940001000000002,
          13.61,
          27.59,
          12.48,
          4.64,
          30.280001000000002,
          15.47,
          15.9,
          18.51,
          15.41,
          21.469998999999998,
          22.959999,
          29.6,
          22.809998999999998,
          8.62,
          21.24,
          14,
          9,
          13.54,
          29.9,
          25.73,
          27.950001,
          10.05,
          25.530001000000002,
          24.82,
          16.1,
          13.6,
          19.129998999999998,
          17.030001000000002,
          17.530001000000002,
          15.75,
          13.85,
          11.54,
          12.43,
          16.25,
          28.639999,
          29.57,
          16.309998999999998,
          27.99,
          9.7,
          16.77,
          22.469998999999998,
          17.25,
          29.139999,
          27.389999,
          8.31,
          22.209999,
          15.77,
          13.07,
          19.67,
          26.290001,
          19.219998999999998,
          15.24,
          27.030001000000002,
          13.04,
          18.43,
          16.549999,
          15.87,
          24.799999,
          26.360001,
          19.870001000000002,
          16.280001000000002,
          16.370001000000002,
          26.129998999999998,
          25.299999,
          8.17,
          14.03,
          31.049999,
          14.48,
          14.89,
          28.02,
          20.75,
          16.120001000000002,
          16.16,
          28.790001,
          10.63,
          16.219998999999998,
          28.030001000000002,
          7.86,
          15.72,
          15.58,
          28,
          20.08,
          15.9,
          23.33,
          27.889999,
          29.93,
          13.42,
          18.42,
          15.96,
          10.77,
          18.48,
          26.690001000000002,
          5.74,
          12.99,
          15.93,
          22.76,
          19.129998999999998,
          15.47,
          18.290001,
          15.8,
          8.08,
          7.99,
          12.12,
          9.21,
          21.77,
          26.92,
          18.09,
          13.97,
          15.77,
          10.37,
          27.4,
          29.549999,
          15.25,
          21.940001000000002,
          18.93,
          23.450001,
          31.23,
          13.85,
          25.92,
          13.35,
          19.34,
          14.49,
          15.1,
          24.700001,
          27.26,
          7.8,
          15.82,
          15.15,
          15.49,
          17.07,
          17.879998999999998,
          26.17,
          27.639999,
          7.54,
          26.799999,
          15.8,
          14.99,
          25.530001000000002,
          16.02,
          25.42,
          25.85,
          13.66,
          20.82,
          19.969998999999998,
          18.4
         ]
        }
       ],
       "layout": {
        "autosize": true,
        "template": {
         "data": {
          "bar": [
           {
            "error_x": {
             "color": "#2a3f5f"
            },
            "error_y": {
             "color": "#2a3f5f"
            },
            "marker": {
             "line": {
              "color": "#E5ECF6",
              "width": 0.5
             }
            },
            "type": "bar"
           }
          ],
          "barpolar": [
           {
            "marker": {
             "line": {
              "color": "#E5ECF6",
              "width": 0.5
             }
            },
            "type": "barpolar"
           }
          ],
          "carpet": [
           {
            "aaxis": {
             "endlinecolor": "#2a3f5f",
             "gridcolor": "white",
             "linecolor": "white",
             "minorgridcolor": "white",
             "startlinecolor": "#2a3f5f"
            },
            "baxis": {
             "endlinecolor": "#2a3f5f",
             "gridcolor": "white",
             "linecolor": "white",
             "minorgridcolor": "white",
             "startlinecolor": "#2a3f5f"
            },
            "type": "carpet"
           }
          ],
          "choropleth": [
           {
            "colorbar": {
             "outlinewidth": 0,
             "ticks": ""
            },
            "type": "choropleth"
           }
          ],
          "contour": [
           {
            "colorbar": {
             "outlinewidth": 0,
             "ticks": ""
            },
            "colorscale": [
             [
              0,
              "#0d0887"
             ],
             [
              0.1111111111111111,
              "#46039f"
             ],
             [
              0.2222222222222222,
              "#7201a8"
             ],
             [
              0.3333333333333333,
              "#9c179e"
             ],
             [
              0.4444444444444444,
              "#bd3786"
             ],
             [
              0.5555555555555556,
              "#d8576b"
             ],
             [
              0.6666666666666666,
              "#ed7953"
             ],
             [
              0.7777777777777778,
              "#fb9f3a"
             ],
             [
              0.8888888888888888,
              "#fdca26"
             ],
             [
              1,
              "#f0f921"
             ]
            ],
            "type": "contour"
           }
          ],
          "contourcarpet": [
           {
            "colorbar": {
             "outlinewidth": 0,
             "ticks": ""
            },
            "type": "contourcarpet"
           }
          ],
          "heatmap": [
           {
            "colorbar": {
             "outlinewidth": 0,
             "ticks": ""
            },
            "colorscale": [
             [
              0,
              "#0d0887"
             ],
             [
              0.1111111111111111,
              "#46039f"
             ],
             [
              0.2222222222222222,
              "#7201a8"
             ],
             [
              0.3333333333333333,
              "#9c179e"
             ],
             [
              0.4444444444444444,
              "#bd3786"
             ],
             [
              0.5555555555555556,
              "#d8576b"
             ],
             [
              0.6666666666666666,
              "#ed7953"
             ],
             [
              0.7777777777777778,
              "#fb9f3a"
             ],
             [
              0.8888888888888888,
              "#fdca26"
             ],
             [
              1,
              "#f0f921"
             ]
            ],
            "type": "heatmap"
           }
          ],
          "heatmapgl": [
           {
            "colorbar": {
             "outlinewidth": 0,
             "ticks": ""
            },
            "colorscale": [
             [
              0,
              "#0d0887"
             ],
             [
              0.1111111111111111,
              "#46039f"
             ],
             [
              0.2222222222222222,
              "#7201a8"
             ],
             [
              0.3333333333333333,
              "#9c179e"
             ],
             [
              0.4444444444444444,
              "#bd3786"
             ],
             [
              0.5555555555555556,
              "#d8576b"
             ],
             [
              0.6666666666666666,
              "#ed7953"
             ],
             [
              0.7777777777777778,
              "#fb9f3a"
             ],
             [
              0.8888888888888888,
              "#fdca26"
             ],
             [
              1,
              "#f0f921"
             ]
            ],
            "type": "heatmapgl"
           }
          ],
          "histogram": [
           {
            "marker": {
             "colorbar": {
              "outlinewidth": 0,
              "ticks": ""
             }
            },
            "type": "histogram"
           }
          ],
          "histogram2d": [
           {
            "colorbar": {
             "outlinewidth": 0,
             "ticks": ""
            },
            "colorscale": [
             [
              0,
              "#0d0887"
             ],
             [
              0.1111111111111111,
              "#46039f"
             ],
             [
              0.2222222222222222,
              "#7201a8"
             ],
             [
              0.3333333333333333,
              "#9c179e"
             ],
             [
              0.4444444444444444,
              "#bd3786"
             ],
             [
              0.5555555555555556,
              "#d8576b"
             ],
             [
              0.6666666666666666,
              "#ed7953"
             ],
             [
              0.7777777777777778,
              "#fb9f3a"
             ],
             [
              0.8888888888888888,
              "#fdca26"
             ],
             [
              1,
              "#f0f921"
             ]
            ],
            "type": "histogram2d"
           }
          ],
          "histogram2dcontour": [
           {
            "colorbar": {
             "outlinewidth": 0,
             "ticks": ""
            },
            "colorscale": [
             [
              0,
              "#0d0887"
             ],
             [
              0.1111111111111111,
              "#46039f"
             ],
             [
              0.2222222222222222,
              "#7201a8"
             ],
             [
              0.3333333333333333,
              "#9c179e"
             ],
             [
              0.4444444444444444,
              "#bd3786"
             ],
             [
              0.5555555555555556,
              "#d8576b"
             ],
             [
              0.6666666666666666,
              "#ed7953"
             ],
             [
              0.7777777777777778,
              "#fb9f3a"
             ],
             [
              0.8888888888888888,
              "#fdca26"
             ],
             [
              1,
              "#f0f921"
             ]
            ],
            "type": "histogram2dcontour"
           }
          ],
          "mesh3d": [
           {
            "colorbar": {
             "outlinewidth": 0,
             "ticks": ""
            },
            "type": "mesh3d"
           }
          ],
          "parcoords": [
           {
            "line": {
             "colorbar": {
              "outlinewidth": 0,
              "ticks": ""
             }
            },
            "type": "parcoords"
           }
          ],
          "pie": [
           {
            "automargin": true,
            "type": "pie"
           }
          ],
          "scatter": [
           {
            "marker": {
             "colorbar": {
              "outlinewidth": 0,
              "ticks": ""
             }
            },
            "type": "scatter"
           }
          ],
          "scatter3d": [
           {
            "line": {
             "colorbar": {
              "outlinewidth": 0,
              "ticks": ""
             }
            },
            "marker": {
             "colorbar": {
              "outlinewidth": 0,
              "ticks": ""
             }
            },
            "type": "scatter3d"
           }
          ],
          "scattercarpet": [
           {
            "marker": {
             "colorbar": {
              "outlinewidth": 0,
              "ticks": ""
             }
            },
            "type": "scattercarpet"
           }
          ],
          "scattergeo": [
           {
            "marker": {
             "colorbar": {
              "outlinewidth": 0,
              "ticks": ""
             }
            },
            "type": "scattergeo"
           }
          ],
          "scattergl": [
           {
            "marker": {
             "colorbar": {
              "outlinewidth": 0,
              "ticks": ""
             }
            },
            "type": "scattergl"
           }
          ],
          "scattermapbox": [
           {
            "marker": {
             "colorbar": {
              "outlinewidth": 0,
              "ticks": ""
             }
            },
            "type": "scattermapbox"
           }
          ],
          "scatterpolar": [
           {
            "marker": {
             "colorbar": {
              "outlinewidth": 0,
              "ticks": ""
             }
            },
            "type": "scatterpolar"
           }
          ],
          "scatterpolargl": [
           {
            "marker": {
             "colorbar": {
              "outlinewidth": 0,
              "ticks": ""
             }
            },
            "type": "scatterpolargl"
           }
          ],
          "scatterternary": [
           {
            "marker": {
             "colorbar": {
              "outlinewidth": 0,
              "ticks": ""
             }
            },
            "type": "scatterternary"
           }
          ],
          "surface": [
           {
            "colorbar": {
             "outlinewidth": 0,
             "ticks": ""
            },
            "colorscale": [
             [
              0,
              "#0d0887"
             ],
             [
              0.1111111111111111,
              "#46039f"
             ],
             [
              0.2222222222222222,
              "#7201a8"
             ],
             [
              0.3333333333333333,
              "#9c179e"
             ],
             [
              0.4444444444444444,
              "#bd3786"
             ],
             [
              0.5555555555555556,
              "#d8576b"
             ],
             [
              0.6666666666666666,
              "#ed7953"
             ],
             [
              0.7777777777777778,
              "#fb9f3a"
             ],
             [
              0.8888888888888888,
              "#fdca26"
             ],
             [
              1,
              "#f0f921"
             ]
            ],
            "type": "surface"
           }
          ],
          "table": [
           {
            "cells": {
             "fill": {
              "color": "#EBF0F8"
             },
             "line": {
              "color": "white"
             }
            },
            "header": {
             "fill": {
              "color": "#C8D4E3"
             },
             "line": {
              "color": "white"
             }
            },
            "type": "table"
           }
          ]
         },
         "layout": {
          "annotationdefaults": {
           "arrowcolor": "#2a3f5f",
           "arrowhead": 0,
           "arrowwidth": 1
          },
          "autotypenumbers": "strict",
          "coloraxis": {
           "colorbar": {
            "outlinewidth": 0,
            "ticks": ""
           }
          },
          "colorscale": {
           "diverging": [
            [
             0,
             "#8e0152"
            ],
            [
             0.1,
             "#c51b7d"
            ],
            [
             0.2,
             "#de77ae"
            ],
            [
             0.3,
             "#f1b6da"
            ],
            [
             0.4,
             "#fde0ef"
            ],
            [
             0.5,
             "#f7f7f7"
            ],
            [
             0.6,
             "#e6f5d0"
            ],
            [
             0.7,
             "#b8e186"
            ],
            [
             0.8,
             "#7fbc41"
            ],
            [
             0.9,
             "#4d9221"
            ],
            [
             1,
             "#276419"
            ]
           ],
           "sequential": [
            [
             0,
             "#0d0887"
            ],
            [
             0.1111111111111111,
             "#46039f"
            ],
            [
             0.2222222222222222,
             "#7201a8"
            ],
            [
             0.3333333333333333,
             "#9c179e"
            ],
            [
             0.4444444444444444,
             "#bd3786"
            ],
            [
             0.5555555555555556,
             "#d8576b"
            ],
            [
             0.6666666666666666,
             "#ed7953"
            ],
            [
             0.7777777777777778,
             "#fb9f3a"
            ],
            [
             0.8888888888888888,
             "#fdca26"
            ],
            [
             1,
             "#f0f921"
            ]
           ],
           "sequentialminus": [
            [
             0,
             "#0d0887"
            ],
            [
             0.1111111111111111,
             "#46039f"
            ],
            [
             0.2222222222222222,
             "#7201a8"
            ],
            [
             0.3333333333333333,
             "#9c179e"
            ],
            [
             0.4444444444444444,
             "#bd3786"
            ],
            [
             0.5555555555555556,
             "#d8576b"
            ],
            [
             0.6666666666666666,
             "#ed7953"
            ],
            [
             0.7777777777777778,
             "#fb9f3a"
            ],
            [
             0.8888888888888888,
             "#fdca26"
            ],
            [
             1,
             "#f0f921"
            ]
           ]
          },
          "colorway": [
           "#636efa",
           "#EF553B",
           "#00cc96",
           "#ab63fa",
           "#FFA15A",
           "#19d3f3",
           "#FF6692",
           "#B6E880",
           "#FF97FF",
           "#FECB52"
          ],
          "font": {
           "color": "#2a3f5f"
          },
          "geo": {
           "bgcolor": "white",
           "lakecolor": "white",
           "landcolor": "#E5ECF6",
           "showlakes": true,
           "showland": true,
           "subunitcolor": "white"
          },
          "hoverlabel": {
           "align": "left"
          },
          "hovermode": "closest",
          "mapbox": {
           "style": "light"
          },
          "paper_bgcolor": "white",
          "plot_bgcolor": "#E5ECF6",
          "polar": {
           "angularaxis": {
            "gridcolor": "white",
            "linecolor": "white",
            "ticks": ""
           },
           "bgcolor": "#E5ECF6",
           "radialaxis": {
            "gridcolor": "white",
            "linecolor": "white",
            "ticks": ""
           }
          },
          "scene": {
           "xaxis": {
            "backgroundcolor": "#E5ECF6",
            "gridcolor": "white",
            "gridwidth": 2,
            "linecolor": "white",
            "showbackground": true,
            "ticks": "",
            "zerolinecolor": "white"
           },
           "yaxis": {
            "backgroundcolor": "#E5ECF6",
            "gridcolor": "white",
            "gridwidth": 2,
            "linecolor": "white",
            "showbackground": true,
            "ticks": "",
            "zerolinecolor": "white"
           },
           "zaxis": {
            "backgroundcolor": "#E5ECF6",
            "gridcolor": "white",
            "gridwidth": 2,
            "linecolor": "white",
            "showbackground": true,
            "ticks": "",
            "zerolinecolor": "white"
           }
          },
          "shapedefaults": {
           "line": {
            "color": "#2a3f5f"
           }
          },
          "ternary": {
           "aaxis": {
            "gridcolor": "white",
            "linecolor": "white",
            "ticks": ""
           },
           "baxis": {
            "gridcolor": "white",
            "linecolor": "white",
            "ticks": ""
           },
           "bgcolor": "#E5ECF6",
           "caxis": {
            "gridcolor": "white",
            "linecolor": "white",
            "ticks": ""
           }
          },
          "title": {
           "x": 0.05
          },
          "xaxis": {
           "automargin": true,
           "gridcolor": "white",
           "linecolor": "white",
           "ticks": "",
           "title": {
            "standoff": 15
           },
           "zerolinecolor": "white",
           "zerolinewidth": 2
          },
          "yaxis": {
           "automargin": true,
           "gridcolor": "white",
           "linecolor": "white",
           "ticks": "",
           "title": {
            "standoff": 15
           },
           "zerolinecolor": "white",
           "zerolinewidth": 2
          }
         }
        },
        "title": {
         "text": "Valores Reais",
         "x": 0.5
        },
        "xaxis": {
         "range": [
          "2015-07-15",
          "2016-07-15"
         ],
         "type": "date"
        },
        "yaxis": {
         "autorange": true,
         "range": [
          3.1627777777777775,
          32.70722222222222
         ],
         "type": "linear"
        }
       }
      },
      "image/png": "[encoded data removed]",
      "text/html": [
       "<div>                            <div id=\"135ed032-90b9-4866-ae8c-a7cc8483491e\" class=\"plotly-graph-div\" style=\"height:525px; width:100%;\"></div>            <script type=\"text/javascript\">                require([\"plotly\"], function(Plotly) {                    window.PLOTLYENV=window.PLOTLYENV || {};                                    if (document.getElementById(\"135ed032-90b9-4866-ae8c-a7cc8483491e\")) {                    Plotly.newPlot(                        \"135ed032-90b9-4866-ae8c-a7cc8483491e\",                        [{\"line\": {\"color\": \"#FF5733\"}, \"name\": \"Valores Reais\", \"opacity\": 0.8, \"type\": \"scatter\", \"x\": [\"2015-07-15\", \"2015-07-16\", \"2015-07-20\", \"2015-07-21\", \"2015-07-22\", \"2015-07-23\", \"2015-07-24\", \"2015-07-28\", \"2015-07-29\", \"2015-07-30\", \"2015-07-31\", \"2015-08-03\", \"2015-08-05\", \"2015-08-06\", \"2015-08-07\", \"2015-08-10\", \"2015-08-11\", \"2015-08-13\", \"2015-08-14\", \"2015-08-17\", \"2015-08-18\", \"2015-08-19\", \"2015-08-21\", \"2015-08-24\", \"2015-08-25\", \"2015-08-26\", \"2015-08-27\", \"2015-08-31\", \"2015-09-01\", \"2015-09-02\", \"2015-09-03\", \"2015-09-08\", \"2015-09-09\", \"2015-09-10\", \"2015-09-11\", \"2015-09-14\", \"2015-09-16\", \"2015-09-17\", \"2015-09-18\", \"2015-09-21\", \"2015-09-22\", \"2015-09-24\", \"2015-09-25\", \"2015-09-28\", \"2015-09-29\", \"2015-09-30\", \"2015-10-02\", \"2015-10-05\", \"2015-10-06\", \"2015-10-07\", \"2015-10-08\", \"2015-10-13\", \"2015-10-14\", \"2015-10-15\", \"2015-10-16\", \"2015-10-19\", \"2015-10-21\", \"2015-10-22\", \"2015-10-23\", \"2015-10-26\", \"2015-10-27\", \"2015-10-29\", \"2015-10-30\", \"2015-11-03\", \"2015-11-04\", \"2015-11-05\", \"2015-11-09\", \"2015-11-10\", \"2015-11-11\", \"2015-11-12\", \"2015-11-13\", \"2015-11-17\", \"2015-11-18\", \"2015-11-19\", \"2015-11-23\", \"2015-11-24\", \"2015-11-26\", \"2015-11-27\", \"2015-11-30\", \"2015-12-01\", \"2015-12-02\", \"2015-12-04\", \"2015-12-07\", \"2015-12-08\", \"2015-12-09\", \"2015-12-11\", \"2015-12-14\", \"2015-12-15\", \"2015-12-16\", \"2015-12-17\", \"2015-12-21\", \"2015-12-22\", \"2015-12-23\", \"2015-12-28\", \"2015-12-29\", \"2016-01-04\", \"2016-01-05\", \"2016-01-06\", \"2016-01-07\", \"2016-01-08\", \"2016-01-12\", \"2016-01-13\", \"2016-01-14\", \"2016-01-15\", \"2016-01-19\", \"2016-01-20\", \"2016-01-21\", \"2016-01-22\", \"2016-01-27\", \"2016-01-28\", \"2016-01-29\", \"2016-02-01\", \"2016-02-02\", \"2016-02-04\", \"2016-02-05\", \"2016-02-10\", \"2016-02-11\", \"2016-02-12\", \"2016-02-17\", \"2016-02-18\", \"2016-02-19\", \"2016-02-22\", \"2016-02-24\", \"2016-02-25\", \"2016-02-26\", \"2016-02-29\", \"2016-03-01\", \"2016-03-03\", \"2016-03-04\", \"2016-03-07\", \"2016-03-08\", \"2016-03-09\", \"2016-03-11\", \"2016-03-14\", \"2016-03-15\", \"2016-03-16\", \"2016-03-17\", \"2016-03-22\", \"2016-03-23\", \"2016-03-24\", \"2016-03-28\", \"2016-03-30\", \"2016-03-31\", \"2016-04-01\", \"2016-04-04\", \"2016-04-05\", \"2016-04-07\", \"2016-04-08\", \"2016-04-11\", \"2016-04-12\", \"2016-04-13\", \"2016-04-15\", \"2016-04-18\", \"2016-04-19\", \"2016-04-20\", \"2016-04-22\", \"2016-04-26\", \"2016-04-27\", \"2016-04-28\", \"2016-04-29\", \"2016-05-02\", \"2016-05-04\", \"2016-05-05\", \"2016-05-06\", \"2016-05-09\", \"2016-05-11\", \"2016-05-12\", \"2016-05-13\", \"2016-05-16\", \"2016-05-17\", \"2016-05-19\", \"2016-05-20\", \"2016-05-23\", \"2016-05-24\", \"2016-05-25\", \"2016-05-30\", \"2016-05-31\", \"2016-06-01\", \"2016-06-02\", \"2016-06-03\", \"2016-06-07\", \"2016-06-08\", \"2016-06-09\", \"2016-06-10\", \"2016-06-13\", \"2016-06-15\", \"2016-06-16\", \"2016-06-17\", \"2016-06-20\", \"2016-06-21\", \"2016-06-23\", \"2016-06-24\", \"2016-06-27\", \"2016-06-28\", \"2016-06-29\", \"2016-07-01\", \"2016-07-04\", \"2016-07-05\", \"2016-07-06\", \"2016-07-07\", \"2016-07-11\", \"2016-07-12\", \"2016-07-13\", \"2016-07-14\", \"2016-07-15\"], \"y\": [22.07, 9.29, 7.86, 15.52, 15.34, 11.99, 13.23, 18.35, 29.85, 25.85, 26.34, 25.32, 19.02, 16.469998999999998, 21.139999, 29.040001, 19.75, 14.34, 13.29, 12.41, 7.53, 8.5, 21.9, 5.44, 27.139999, 21.459999, 17.1, 10.55, 16.950001, 17.870001000000002, 26.75, 13.27, 26.82, 29.940001000000002, 29.85, 4.93, 13.56, 16.889999, 17.440001000000002, 11.9, 19.309998999999998, 7.26, 21.07, 8.79, 26.35, 15.91, 15.57, 20.01, 6.54, 16.25, 14.35, 17.129998999999998, 15.46, 27.780001000000002, 30.889999, 31.07, 21.41, 29.66, 7.96, 24.940001000000002, 13.61, 27.59, 12.48, 4.64, 30.280001000000002, 15.47, 15.9, 18.51, 15.41, 21.469998999999998, 22.959999, 29.6, 22.809998999999998, 8.62, 21.24, 14.0, 9.0, 13.54, 29.9, 25.73, 27.950001, 10.05, 25.530001000000002, 24.82, 16.1, 13.6, 19.129998999999998, 17.030001000000002, 17.530001000000002, 15.75, 13.85, 11.54, 12.43, 16.25, 28.639999, 29.57, 16.309998999999998, 27.99, 9.7, 16.77, 22.469998999999998, 17.25, 29.139999, 27.389999, 8.31, 22.209999, 15.77, 13.07, 19.67, 26.290001, 19.219998999999998, 15.24, 27.030001000000002, 13.04, 18.43, 16.549999, 15.87, 24.799999, 26.360001, 19.870001000000002, 16.280001000000002, 16.370001000000002, 26.129998999999998, 25.299999, 8.17, 14.03, 31.049999, 14.48, 14.89, 28.02, 20.75, 16.120001000000002, 16.16, 28.790001, 10.63, 16.219998999999998, 28.030001000000002, 7.86, 15.72, 15.58, 28.0, 20.08, 15.9, 23.33, 27.889999, 29.93, 13.42, 18.42, 15.96, 10.77, 18.48, 26.690001000000002, 5.74, 12.99, 15.93, 22.76, 19.129998999999998, 15.47, 18.290001, 15.8, 8.08, 7.99, 12.12, 9.21, 21.77, 26.92, 18.09, 13.97, 15.77, 10.37, 27.4, 29.549999, 15.25, 21.940001000000002, 18.93, 23.450001, 31.23, 13.85, 25.92, 13.35, 19.34, 14.49, 15.1, 24.700001, 27.26, 7.8, 15.82, 15.15, 15.49, 17.07, 17.879998999999998, 26.17, 27.639999, 7.54, 26.799999, 15.8, 14.99, 25.530001000000002, 16.02, 25.42, 25.85, 13.66, 20.82, 19.969998999999998, 18.4]}],                        {\"template\": {\"data\": {\"bar\": [{\"error_x\": {\"color\": \"#2a3f5f\"}, \"error_y\": {\"color\": \"#2a3f5f\"}, \"marker\": {\"line\": {\"color\": \"#E5ECF6\", \"width\": 0.5}}, \"type\": \"bar\"}], \"barpolar\": [{\"marker\": {\"line\": {\"color\": \"#E5ECF6\", \"width\": 0.5}}, \"type\": \"barpolar\"}], \"carpet\": [{\"aaxis\": {\"endlinecolor\": \"#2a3f5f\", \"gridcolor\": \"white\", \"linecolor\": \"white\", \"minorgridcolor\": \"white\", \"startlinecolor\": \"#2a3f5f\"}, \"baxis\": {\"endlinecolor\": \"#2a3f5f\", \"gridcolor\": \"white\", \"linecolor\": \"white\", \"minorgridcolor\": \"white\", \"startlinecolor\": \"#2a3f5f\"}, \"type\": \"carpet\"}], \"choropleth\": [{\"colorbar\": {\"outlinewidth\": 0, \"ticks\": \"\"}, \"type\": \"choropleth\"}], \"contour\": [{\"colorbar\": {\"outlinewidth\": 0, \"ticks\": \"\"}, \"colorscale\": [[0.0, \"#0d0887\"], [0.1111111111111111, \"#46039f\"], [0.2222222222222222, \"#7201a8\"], [0.3333333333333333, \"#9c179e\"], [0.4444444444444444, \"#bd3786\"], [0.5555555555555556, \"#d8576b\"], [0.6666666666666666, \"#ed7953\"], [0.7777777777777778, \"#fb9f3a\"], [0.8888888888888888, \"#fdca26\"], [1.0, \"#f0f921\"]], \"type\": \"contour\"}], \"contourcarpet\": [{\"colorbar\": {\"outlinewidth\": 0, \"ticks\": \"\"}, \"type\": \"contourcarpet\"}], \"heatmap\": [{\"colorbar\": {\"outlinewidth\": 0, \"ticks\": \"\"}, \"colorscale\": [[0.0, \"#0d0887\"], [0.1111111111111111, \"#46039f\"], [0.2222222222222222, \"#7201a8\"], [0.3333333333333333, \"#9c179e\"], [0.4444444444444444, \"#bd3786\"], [0.5555555555555556, \"#d8576b\"], [0.6666666666666666, \"#ed7953\"], [0.7777777777777778, \"#fb9f3a\"], [0.8888888888888888, \"#fdca26\"], [1.0, \"#f0f921\"]], \"type\": \"heatmap\"}], \"heatmapgl\": [{\"colorbar\": {\"outlinewidth\": 0, \"ticks\": \"\"}, \"colorscale\": [[0.0, \"#0d0887\"], [0.1111111111111111, \"#46039f\"], [0.2222222222222222, \"#7201a8\"], [0.3333333333333333, \"#9c179e\"], [0.4444444444444444, \"#bd3786\"], [0.5555555555555556, \"#d8576b\"], [0.6666666666666666, \"#ed7953\"], [0.7777777777777778, \"#fb9f3a\"], [0.8888888888888888, \"#fdca26\"], [1.0, \"#f0f921\"]], \"type\": \"heatmapgl\"}], \"histogram\": [{\"marker\": {\"colorbar\": {\"outlinewidth\": 0, \"ticks\": \"\"}}, \"type\": \"histogram\"}], \"histogram2d\": [{\"colorbar\": {\"outlinewidth\": 0, \"ticks\": \"\"}, \"colorscale\": [[0.0, \"#0d0887\"], [0.1111111111111111, \"#46039f\"], [0.2222222222222222, \"#7201a8\"], [0.3333333333333333, \"#9c179e\"], [0.4444444444444444, \"#bd3786\"], [0.5555555555555556, \"#d8576b\"], [0.6666666666666666, \"#ed7953\"], [0.7777777777777778, \"#fb9f3a\"], [0.8888888888888888, \"#fdca26\"], [1.0, \"#f0f921\"]], \"type\": \"histogram2d\"}], \"histogram2dcontour\": [{\"colorbar\": {\"outlinewidth\": 0, \"ticks\": \"\"}, \"colorscale\": [[0.0, \"#0d0887\"], [0.1111111111111111, \"#46039f\"], [0.2222222222222222, \"#7201a8\"], [0.3333333333333333, \"#9c179e\"], [0.4444444444444444, \"#bd3786\"], [0.5555555555555556, \"#d8576b\"], [0.6666666666666666, \"#ed7953\"], [0.7777777777777778, \"#fb9f3a\"], [0.8888888888888888, \"#fdca26\"], [1.0, \"#f0f921\"]], \"type\": \"histogram2dcontour\"}], \"mesh3d\": [{\"colorbar\": {\"outlinewidth\": 0, \"ticks\": \"\"}, \"type\": \"mesh3d\"}], \"parcoords\": [{\"line\": {\"colorbar\": {\"outlinewidth\": 0, \"ticks\": \"\"}}, \"type\": \"parcoords\"}], \"pie\": [{\"automargin\": true, \"type\": \"pie\"}], \"scatter\": [{\"marker\": {\"colorbar\": {\"outlinewidth\": 0, \"ticks\": \"\"}}, \"type\": \"scatter\"}], \"scatter3d\": [{\"line\": {\"colorbar\": {\"outlinewidth\": 0, \"ticks\": \"\"}}, \"marker\": {\"colorbar\": {\"outlinewidth\": 0, \"ticks\": \"\"}}, \"type\": \"scatter3d\"}], \"scattercarpet\": [{\"marker\": {\"colorbar\": {\"outlinewidth\": 0, \"ticks\": \"\"}}, \"type\": \"scattercarpet\"}], \"scattergeo\": [{\"marker\": {\"colorbar\": {\"outlinewidth\": 0, \"ticks\": \"\"}}, \"type\": \"scattergeo\"}], \"scattergl\": [{\"marker\": {\"colorbar\": {\"outlinewidth\": 0, \"ticks\": \"\"}}, \"type\": \"scattergl\"}], \"scattermapbox\": [{\"marker\": {\"colorbar\": {\"outlinewidth\": 0, \"ticks\": \"\"}}, \"type\": \"scattermapbox\"}], \"scatterpolar\": [{\"marker\": {\"colorbar\": {\"outlinewidth\": 0, \"ticks\": \"\"}}, \"type\": \"scatterpolar\"}], \"scatterpolargl\": [{\"marker\": {\"colorbar\": {\"outlinewidth\": 0, \"ticks\": \"\"}}, \"type\": \"scatterpolargl\"}], \"scatterternary\": [{\"marker\": {\"colorbar\": {\"outlinewidth\": 0, \"ticks\": \"\"}}, \"type\": \"scatterternary\"}], \"surface\": [{\"colorbar\": {\"outlinewidth\": 0, \"ticks\": \"\"}, \"colorscale\": [[0.0, \"#0d0887\"], [0.1111111111111111, \"#46039f\"], [0.2222222222222222, \"#7201a8\"], [0.3333333333333333, \"#9c179e\"], [0.4444444444444444, \"#bd3786\"], [0.5555555555555556, \"#d8576b\"], [0.6666666666666666, \"#ed7953\"], [0.7777777777777778, \"#fb9f3a\"], [0.8888888888888888, \"#fdca26\"], [1.0, \"#f0f921\"]], \"type\": \"surface\"}], \"table\": [{\"cells\": {\"fill\": {\"color\": \"#EBF0F8\"}, \"line\": {\"color\": \"white\"}}, \"header\": {\"fill\": {\"color\": \"#C8D4E3\"}, \"line\": {\"color\": \"white\"}}, \"type\": \"table\"}]}, \"layout\": {\"annotationdefaults\": {\"arrowcolor\": \"#2a3f5f\", \"arrowhead\": 0, \"arrowwidth\": 1}, \"autotypenumbers\": \"strict\", \"coloraxis\": {\"colorbar\": {\"outlinewidth\": 0, \"ticks\": \"\"}}, \"colorscale\": {\"diverging\": [[0, \"#8e0152\"], [0.1, \"#c51b7d\"], [0.2, \"#de77ae\"], [0.3, \"#f1b6da\"], [0.4, \"#fde0ef\"], [0.5, \"#f7f7f7\"], [0.6, \"#e6f5d0\"], [0.7, \"#b8e186\"], [0.8, \"#7fbc41\"], [0.9, \"#4d9221\"], [1, \"#276419\"]], \"sequential\": [[0.0, \"#0d0887\"], [0.1111111111111111, \"#46039f\"], [0.2222222222222222, \"#7201a8\"], [0.3333333333333333, \"#9c179e\"], [0.4444444444444444, \"#bd3786\"], [0.5555555555555556, \"#d8576b\"], [0.6666666666666666, \"#ed7953\"], [0.7777777777777778, \"#fb9f3a\"], [0.8888888888888888, \"#fdca26\"], [1.0, \"#f0f921\"]], \"sequentialminus\": [[0.0, \"#0d0887\"], [0.1111111111111111, \"#46039f\"], [0.2222222222222222, \"#7201a8\"], [0.3333333333333333, \"#9c179e\"], [0.4444444444444444, \"#bd3786\"], [0.5555555555555556, \"#d8576b\"], [0.6666666666666666, \"#ed7953\"], [0.7777777777777778, \"#fb9f3a\"], [0.8888888888888888, \"#fdca26\"], [1.0, \"#f0f921\"]]}, \"colorway\": [\"#636efa\", \"#EF553B\", \"#00cc96\", \"#ab63fa\", \"#FFA15A\", \"#19d3f3\", \"#FF6692\", \"#B6E880\", \"#FF97FF\", \"#FECB52\"], \"font\": {\"color\": \"#2a3f5f\"}, \"geo\": {\"bgcolor\": \"white\", \"lakecolor\": \"white\", \"landcolor\": \"#E5ECF6\", \"showlakes\": true, \"showland\": true, \"subunitcolor\": \"white\"}, \"hoverlabel\": {\"align\": \"left\"}, \"hovermode\": \"closest\", \"mapbox\": {\"style\": \"light\"}, \"paper_bgcolor\": \"white\", \"plot_bgcolor\": \"#E5ECF6\", \"polar\": {\"angularaxis\": {\"gridcolor\": \"white\", \"linecolor\": \"white\", \"ticks\": \"\"}, \"bgcolor\": \"#E5ECF6\", \"radialaxis\": {\"gridcolor\": \"white\", \"linecolor\": \"white\", \"ticks\": \"\"}}, \"scene\": {\"xaxis\": {\"backgroundcolor\": \"#E5ECF6\", \"gridcolor\": \"white\", \"gridwidth\": 2, \"linecolor\": \"white\", \"showbackground\": true, \"ticks\": \"\", \"zerolinecolor\": \"white\"}, \"yaxis\": {\"backgroundcolor\": \"#E5ECF6\", \"gridcolor\": \"white\", \"gridwidth\": 2, \"linecolor\": \"white\", \"showbackground\": true, \"ticks\": \"\", \"zerolinecolor\": \"white\"}, \"zaxis\": {\"backgroundcolor\": \"#E5ECF6\", \"gridcolor\": \"white\", \"gridwidth\": 2, \"linecolor\": \"white\", \"showbackground\": true, \"ticks\": \"\", \"zerolinecolor\": \"white\"}}, \"shapedefaults\": {\"line\": {\"color\": \"#2a3f5f\"}}, \"ternary\": {\"aaxis\": {\"gridcolor\": \"white\", \"linecolor\": \"white\", \"ticks\": \"\"}, \"baxis\": {\"gridcolor\": \"white\", \"linecolor\": \"white\", \"ticks\": \"\"}, \"bgcolor\": \"#E5ECF6\", \"caxis\": {\"gridcolor\": \"white\", \"linecolor\": \"white\", \"ticks\": \"\"}}, \"title\": {\"x\": 0.05}, \"xaxis\": {\"automargin\": true, \"gridcolor\": \"white\", \"linecolor\": \"white\", \"ticks\": \"\", \"title\": {\"standoff\": 15}, \"zerolinecolor\": \"white\", \"zerolinewidth\": 2}, \"yaxis\": {\"automargin\": true, \"gridcolor\": \"white\", \"linecolor\": \"white\", \"ticks\": \"\", \"title\": {\"standoff\": 15}, \"zerolinecolor\": \"white\", \"zerolinewidth\": 2}}}, \"title\": {\"text\": \"Valores Reais\", \"x\": 0.5}, \"xaxis\": {\"range\": [\"2015-07-15\", \"2016-07-15\"]}},                        {\"responsive\": true}                    ).then(function(){\n",
       "                            \n",
       "var gd = document.getElementById('135ed032-90b9-4866-ae8c-a7cc8483491e');\n",
       "var x = new MutationObserver(function (mutations, observer) {{\n",
       "        var display = window.getComputedStyle(gd).display;\n",
       "        if (!display || display === 'none') {{\n",
       "            console.log([gd, 'removed!']);\n",
       "            Plotly.purge(gd);\n",
       "            observer.disconnect();\n",
       "        }}\n",
       "}});\n",
       "\n",
       "// Listen for the removal of the full notebook cells\n",
       "var notebookContainer = gd.closest('#notebook-container');\n",
       "if (notebookContainer) {{\n",
       "    x.observe(notebookContainer, {childList: true});\n",
       "}}\n",
       "\n",
       "// Listen for the clearing of the current output cell\n",
       "var outputEl = gd.closest('.output');\n",
       "if (outputEl) {{\n",
       "    x.observe(outputEl, {childList: true});\n",
       "}}\n",
       "\n",
       "                        })                };                });            </script>        </div>"
      ]
     },
     "metadata": {},
     "output_type": "display_data"
    },
    {
     "data": {
      "application/vnd.plotly.v1+json": {
       "config": {
        "linkText": "Export to plot.ly",
        "plotlyServerURL": "https://plot.ly",
        "showLink": false
       },
       "data": [
        {
         "line": {
          "color": "#3374FF"
         },
         "name": "Valores Preditos",
         "opacity": 0.8,
         "type": "scatter",
         "x": [
          "2015-07-15",
          "2015-07-16",
          "2015-07-20",
          "2015-07-21",
          "2015-07-22",
          "2015-07-23",
          "2015-07-24",
          "2015-07-28",
          "2015-07-29",
          "2015-07-30",
          "2015-07-31",
          "2015-08-03",
          "2015-08-05",
          "2015-08-06",
          "2015-08-07",
          "2015-08-10",
          "2015-08-11",
          "2015-08-13",
          "2015-08-14",
          "2015-08-17",
          "2015-08-18",
          "2015-08-19",
          "2015-08-21",
          "2015-08-24",
          "2015-08-25",
          "2015-08-26",
          "2015-08-27",
          "2015-08-31",
          "2015-09-01",
          "2015-09-02",
          "2015-09-03",
          "2015-09-08",
          "2015-09-09",
          "2015-09-10",
          "2015-09-11",
          "2015-09-14",
          "2015-09-16",
          "2015-09-17",
          "2015-09-18",
          "2015-09-21",
          "2015-09-22",
          "2015-09-24",
          "2015-09-25",
          "2015-09-28",
          "2015-09-29",
          "2015-09-30",
          "2015-10-02",
          "2015-10-05",
          "2015-10-06",
          "2015-10-07",
          "2015-10-08",
          "2015-10-13",
          "2015-10-14",
          "2015-10-15",
          "2015-10-16",
          "2015-10-19",
          "2015-10-21",
          "2015-10-22",
          "2015-10-23",
          "2015-10-26",
          "2015-10-27",
          "2015-10-29",
          "2015-10-30",
          "2015-11-03",
          "2015-11-04",
          "2015-11-05",
          "2015-11-09",
          "2015-11-10",
          "2015-11-11",
          "2015-11-12",
          "2015-11-13",
          "2015-11-17",
          "2015-11-18",
          "2015-11-19",
          "2015-11-23",
          "2015-11-24",
          "2015-11-26",
          "2015-11-27",
          "2015-11-30",
          "2015-12-01",
          "2015-12-02",
          "2015-12-04",
          "2015-12-07",
          "2015-12-08",
          "2015-12-09",
          "2015-12-11",
          "2015-12-14",
          "2015-12-15",
          "2015-12-16",
          "2015-12-17",
          "2015-12-21",
          "2015-12-22",
          "2015-12-23",
          "2015-12-28",
          "2015-12-29",
          "2016-01-04",
          "2016-01-05",
          "2016-01-06",
          "2016-01-07",
          "2016-01-08",
          "2016-01-12",
          "2016-01-13",
          "2016-01-14",
          "2016-01-15",
          "2016-01-19",
          "2016-01-20",
          "2016-01-21",
          "2016-01-22",
          "2016-01-27",
          "2016-01-28",
          "2016-01-29",
          "2016-02-01",
          "2016-02-02",
          "2016-02-04",
          "2016-02-05",
          "2016-02-10",
          "2016-02-11",
          "2016-02-12",
          "2016-02-17",
          "2016-02-18",
          "2016-02-19",
          "2016-02-22",
          "2016-02-24",
          "2016-02-25",
          "2016-02-26",
          "2016-02-29",
          "2016-03-01",
          "2016-03-03",
          "2016-03-04",
          "2016-03-07",
          "2016-03-08",
          "2016-03-09",
          "2016-03-11",
          "2016-03-14",
          "2016-03-15",
          "2016-03-16",
          "2016-03-17",
          "2016-03-22",
          "2016-03-23",
          "2016-03-24",
          "2016-03-28",
          "2016-03-30",
          "2016-03-31",
          "2016-04-01",
          "2016-04-04",
          "2016-04-05",
          "2016-04-07",
          "2016-04-08",
          "2016-04-11",
          "2016-04-12",
          "2016-04-13",
          "2016-04-15",
          "2016-04-18",
          "2016-04-19",
          "2016-04-20",
          "2016-04-22",
          "2016-04-26",
          "2016-04-27",
          "2016-04-28",
          "2016-04-29",
          "2016-05-02",
          "2016-05-04",
          "2016-05-05",
          "2016-05-06",
          "2016-05-09",
          "2016-05-11",
          "2016-05-12",
          "2016-05-13",
          "2016-05-16",
          "2016-05-17",
          "2016-05-19",
          "2016-05-20",
          "2016-05-23",
          "2016-05-24",
          "2016-05-25",
          "2016-05-30",
          "2016-05-31",
          "2016-06-01",
          "2016-06-02",
          "2016-06-03",
          "2016-06-07",
          "2016-06-08",
          "2016-06-09",
          "2016-06-10",
          "2016-06-13",
          "2016-06-15",
          "2016-06-16",
          "2016-06-17",
          "2016-06-20",
          "2016-06-21",
          "2016-06-23",
          "2016-06-24",
          "2016-06-27",
          "2016-06-28",
          "2016-06-29",
          "2016-07-01",
          "2016-07-04",
          "2016-07-05",
          "2016-07-06",
          "2016-07-07",
          "2016-07-11",
          "2016-07-12",
          "2016-07-13",
          "2016-07-14",
          "2016-07-15"
         ],
         "y": [
          21.7547500225402,
          9.229624804763708,
          7.851732750630525,
          15.493693328661829,
          15.3147284786932,
          12.055437361426302,
          13.273632420539137,
          18.445418462944048,
          30.011882214664883,
          25.92338404261076,
          26.492749493197117,
          25.429302270166577,
          19.302467669624058,
          16.550217836316858,
          21.33206259232744,
          28.930426436682534,
          19.199190680963795,
          14.212235481731083,
          13.205196683670652,
          12.456879819657495,
          7.41982917007554,
          8.48969316373896,
          21.864490943189328,
          5.511001189780647,
          26.948213911818613,
          21.42642018487168,
          16.669776425493513,
          10.261253467148652,
          17.020018950862553,
          17.95075850948937,
          26.32583863599727,
          13.266753992034609,
          27.02261121674013,
          29.881660871448748,
          29.657240732201867,
          5.049893598496405,
          13.532964589620772,
          16.93895070426249,
          17.50025675896202,
          11.975445720283933,
          19.215596292239088,
          7.632785325519939,
          20.83214846597928,
          8.780774392903327,
          26.497959303732014,
          15.74712444743192,
          15.551622104367246,
          20.015627441854996,
          6.685673120881005,
          16.26682210761772,
          14.421974944087912,
          16.949400774192444,
          15.213556034212447,
          27.71119861276315,
          30.820810767147165,
          30.919191194758596,
          21.464646113776247,
          29.635392967313223,
          8.073037873428335,
          25.159286400654906,
          13.509977099822528,
          27.53954688421072,
          12.478490354986098,
          4.636018969452056,
          30.189681030755843,
          15.354093880755658,
          15.86441570638748,
          18.653916337685875,
          15.3379690248797,
          21.30926219336153,
          22.893716536896346,
          29.46256483121792,
          22.7903516418713,
          8.393718716097279,
          21.12637908417985,
          14.010922894271589,
          8.907937329955052,
          13.337081142743719,
          29.997083419787398,
          25.87200441587783,
          27.794511940116237,
          10.0163287452351,
          25.6859930849597,
          24.598629504822735,
          15.982914823025002,
          13.6755109472066,
          19.176237550258083,
          16.675860732038274,
          17.335502268037626,
          15.849909543330316,
          13.851149573665062,
          11.385557627107376,
          12.452290379593158,
          16.322143211179775,
          28.74811026527734,
          29.57446498855974,
          16.253006736796216,
          27.983381729449288,
          9.804756962483959,
          16.838435301205436,
          22.515400795979616,
          17.53382236141781,
          28.85790714480898,
          27.439423439648404,
          8.295837452420606,
          22.346033778846376,
          15.78774316819721,
          12.196671475759432,
          19.7059749793905,
          26.411550070155354,
          19.16841209581532,
          15.237865102794215,
          27.175393902535376,
          13.070581192619747,
          18.48378399456767,
          16.312383925537922,
          15.784392560551384,
          24.536442176898003,
          26.3631724177855,
          19.83226933649997,
          16.327596221497476,
          16.302536194837618,
          25.810302026175744,
          25.218250908588196,
          8.42929292184282,
          14.043207668126731,
          31.07889820000178,
          14.585005069405929,
          14.891923514675849,
          28.06986627270041,
          20.99608576652651,
          16.150361268976173,
          16.453998651880237,
          28.970467280283838,
          10.808209128584327,
          16.269278296194305,
          27.88114365759139,
          7.90843617047657,
          15.2211342910747,
          15.818641277269844,
          28.068326305599886,
          20.01751761032374,
          15.915731597528769,
          23.332245557997766,
          27.93489858213895,
          29.972569919651185,
          13.445503869929444,
          18.484093194421774,
          15.991117490968069,
          10.667623308463602,
          18.382372306052396,
          26.512620754084217,
          5.749982499567225,
          13.052662197250157,
          15.932132799854227,
          22.772329287837614,
          19.11207874149146,
          15.434521028459214,
          18.22282383406277,
          15.696352412348825,
          8.132029696063752,
          8.018106847542024,
          12.212190927512319,
          9.080765834329165,
          21.637723062716017,
          27.038611105509133,
          18.17341401899709,
          13.965450274029745,
          15.664069124900658,
          10.415933481673365,
          27.41835688793454,
          29.58626935272968,
          15.289467164191585,
          21.51529600590844,
          18.506136395228253,
          23.67373876519976,
          31.030768750829278,
          13.937220110551412,
          26.026361528367758,
          13.353108843104074,
          19.397641116095443,
          14.258017978794207,
          15.203221102423381,
          24.60857319055573,
          27.40404329627576,
          7.783785169724335,
          15.71918322221809,
          15.109906143466311,
          15.467762128757382,
          17.08461698811948,
          17.806035306451534,
          25.716326207390516,
          27.685200942112854,
          7.523270199543211,
          26.891413529142316,
          15.773073730776694,
          15.045384951090345,
          25.405792634134727,
          16.059085463753778,
          25.25210891467742,
          25.739891346897355,
          13.670359952351442,
          20.45823355533703,
          19.686797462123195,
          18.401252304567503
         ]
        }
       ],
       "layout": {
        "autosize": true,
        "template": {
         "data": {
          "bar": [
           {
            "error_x": {
             "color": "#2a3f5f"
            },
            "error_y": {
             "color": "#2a3f5f"
            },
            "marker": {
             "line": {
              "color": "#E5ECF6",
              "width": 0.5
             }
            },
            "type": "bar"
           }
          ],
          "barpolar": [
           {
            "marker": {
             "line": {
              "color": "#E5ECF6",
              "width": 0.5
             }
            },
            "type": "barpolar"
           }
          ],
          "carpet": [
           {
            "aaxis": {
             "endlinecolor": "#2a3f5f",
             "gridcolor": "white",
             "linecolor": "white",
             "minorgridcolor": "white",
             "startlinecolor": "#2a3f5f"
            },
            "baxis": {
             "endlinecolor": "#2a3f5f",
             "gridcolor": "white",
             "linecolor": "white",
             "minorgridcolor": "white",
             "startlinecolor": "#2a3f5f"
            },
            "type": "carpet"
           }
          ],
          "choropleth": [
           {
            "colorbar": {
             "outlinewidth": 0,
             "ticks": ""
            },
            "type": "choropleth"
           }
          ],
          "contour": [
           {
            "colorbar": {
             "outlinewidth": 0,
             "ticks": ""
            },
            "colorscale": [
             [
              0,
              "#0d0887"
             ],
             [
              0.1111111111111111,
              "#46039f"
             ],
             [
              0.2222222222222222,
              "#7201a8"
             ],
             [
              0.3333333333333333,
              "#9c179e"
             ],
             [
              0.4444444444444444,
              "#bd3786"
             ],
             [
              0.5555555555555556,
              "#d8576b"
             ],
             [
              0.6666666666666666,
              "#ed7953"
             ],
             [
              0.7777777777777778,
              "#fb9f3a"
             ],
             [
              0.8888888888888888,
              "#fdca26"
             ],
             [
              1,
              "#f0f921"
             ]
            ],
            "type": "contour"
           }
          ],
          "contourcarpet": [
           {
            "colorbar": {
             "outlinewidth": 0,
             "ticks": ""
            },
            "type": "contourcarpet"
           }
          ],
          "heatmap": [
           {
            "colorbar": {
             "outlinewidth": 0,
             "ticks": ""
            },
            "colorscale": [
             [
              0,
              "#0d0887"
             ],
             [
              0.1111111111111111,
              "#46039f"
             ],
             [
              0.2222222222222222,
              "#7201a8"
             ],
             [
              0.3333333333333333,
              "#9c179e"
             ],
             [
              0.4444444444444444,
              "#bd3786"
             ],
             [
              0.5555555555555556,
              "#d8576b"
             ],
             [
              0.6666666666666666,
              "#ed7953"
             ],
             [
              0.7777777777777778,
              "#fb9f3a"
             ],
             [
              0.8888888888888888,
              "#fdca26"
             ],
             [
              1,
              "#f0f921"
             ]
            ],
            "type": "heatmap"
           }
          ],
          "heatmapgl": [
           {
            "colorbar": {
             "outlinewidth": 0,
             "ticks": ""
            },
            "colorscale": [
             [
              0,
              "#0d0887"
             ],
             [
              0.1111111111111111,
              "#46039f"
             ],
             [
              0.2222222222222222,
              "#7201a8"
             ],
             [
              0.3333333333333333,
              "#9c179e"
             ],
             [
              0.4444444444444444,
              "#bd3786"
             ],
             [
              0.5555555555555556,
              "#d8576b"
             ],
             [
              0.6666666666666666,
              "#ed7953"
             ],
             [
              0.7777777777777778,
              "#fb9f3a"
             ],
             [
              0.8888888888888888,
              "#fdca26"
             ],
             [
              1,
              "#f0f921"
             ]
            ],
            "type": "heatmapgl"
           }
          ],
          "histogram": [
           {
            "marker": {
             "colorbar": {
              "outlinewidth": 0,
              "ticks": ""
             }
            },
            "type": "histogram"
           }
          ],
          "histogram2d": [
           {
            "colorbar": {
             "outlinewidth": 0,
             "ticks": ""
            },
            "colorscale": [
             [
              0,
              "#0d0887"
             ],
             [
              0.1111111111111111,
              "#46039f"
             ],
             [
              0.2222222222222222,
              "#7201a8"
             ],
             [
              0.3333333333333333,
              "#9c179e"
             ],
             [
              0.4444444444444444,
              "#bd3786"
             ],
             [
              0.5555555555555556,
              "#d8576b"
             ],
             [
              0.6666666666666666,
              "#ed7953"
             ],
             [
              0.7777777777777778,
              "#fb9f3a"
             ],
             [
              0.8888888888888888,
              "#fdca26"
             ],
             [
              1,
              "#f0f921"
             ]
            ],
            "type": "histogram2d"
           }
          ],
          "histogram2dcontour": [
           {
            "colorbar": {
             "outlinewidth": 0,
             "ticks": ""
            },
            "colorscale": [
             [
              0,
              "#0d0887"
             ],
             [
              0.1111111111111111,
              "#46039f"
             ],
             [
              0.2222222222222222,
              "#7201a8"
             ],
             [
              0.3333333333333333,
              "#9c179e"
             ],
             [
              0.4444444444444444,
              "#bd3786"
             ],
             [
              0.5555555555555556,
              "#d8576b"
             ],
             [
              0.6666666666666666,
              "#ed7953"
             ],
             [
              0.7777777777777778,
              "#fb9f3a"
             ],
             [
              0.8888888888888888,
              "#fdca26"
             ],
             [
              1,
              "#f0f921"
             ]
            ],
            "type": "histogram2dcontour"
           }
          ],
          "mesh3d": [
           {
            "colorbar": {
             "outlinewidth": 0,
             "ticks": ""
            },
            "type": "mesh3d"
           }
          ],
          "parcoords": [
           {
            "line": {
             "colorbar": {
              "outlinewidth": 0,
              "ticks": ""
             }
            },
            "type": "parcoords"
           }
          ],
          "pie": [
           {
            "automargin": true,
            "type": "pie"
           }
          ],
          "scatter": [
           {
            "marker": {
             "colorbar": {
              "outlinewidth": 0,
              "ticks": ""
             }
            },
            "type": "scatter"
           }
          ],
          "scatter3d": [
           {
            "line": {
             "colorbar": {
              "outlinewidth": 0,
              "ticks": ""
             }
            },
            "marker": {
             "colorbar": {
              "outlinewidth": 0,
              "ticks": ""
             }
            },
            "type": "scatter3d"
           }
          ],
          "scattercarpet": [
           {
            "marker": {
             "colorbar": {
              "outlinewidth": 0,
              "ticks": ""
             }
            },
            "type": "scattercarpet"
           }
          ],
          "scattergeo": [
           {
            "marker": {
             "colorbar": {
              "outlinewidth": 0,
              "ticks": ""
             }
            },
            "type": "scattergeo"
           }
          ],
          "scattergl": [
           {
            "marker": {
             "colorbar": {
              "outlinewidth": 0,
              "ticks": ""
             }
            },
            "type": "scattergl"
           }
          ],
          "scattermapbox": [
           {
            "marker": {
             "colorbar": {
              "outlinewidth": 0,
              "ticks": ""
             }
            },
            "type": "scattermapbox"
           }
          ],
          "scatterpolar": [
           {
            "marker": {
             "colorbar": {
              "outlinewidth": 0,
              "ticks": ""
             }
            },
            "type": "scatterpolar"
           }
          ],
          "scatterpolargl": [
           {
            "marker": {
             "colorbar": {
              "outlinewidth": 0,
              "ticks": ""
             }
            },
            "type": "scatterpolargl"
           }
          ],
          "scatterternary": [
           {
            "marker": {
             "colorbar": {
              "outlinewidth": 0,
              "ticks": ""
             }
            },
            "type": "scatterternary"
           }
          ],
          "surface": [
           {
            "colorbar": {
             "outlinewidth": 0,
             "ticks": ""
            },
            "colorscale": [
             [
              0,
              "#0d0887"
             ],
             [
              0.1111111111111111,
              "#46039f"
             ],
             [
              0.2222222222222222,
              "#7201a8"
             ],
             [
              0.3333333333333333,
              "#9c179e"
             ],
             [
              0.4444444444444444,
              "#bd3786"
             ],
             [
              0.5555555555555556,
              "#d8576b"
             ],
             [
              0.6666666666666666,
              "#ed7953"
             ],
             [
              0.7777777777777778,
              "#fb9f3a"
             ],
             [
              0.8888888888888888,
              "#fdca26"
             ],
             [
              1,
              "#f0f921"
             ]
            ],
            "type": "surface"
           }
          ],
          "table": [
           {
            "cells": {
             "fill": {
              "color": "#EBF0F8"
             },
             "line": {
              "color": "white"
             }
            },
            "header": {
             "fill": {
              "color": "#C8D4E3"
             },
             "line": {
              "color": "white"
             }
            },
            "type": "table"
           }
          ]
         },
         "layout": {
          "annotationdefaults": {
           "arrowcolor": "#2a3f5f",
           "arrowhead": 0,
           "arrowwidth": 1
          },
          "autotypenumbers": "strict",
          "coloraxis": {
           "colorbar": {
            "outlinewidth": 0,
            "ticks": ""
           }
          },
          "colorscale": {
           "diverging": [
            [
             0,
             "#8e0152"
            ],
            [
             0.1,
             "#c51b7d"
            ],
            [
             0.2,
             "#de77ae"
            ],
            [
             0.3,
             "#f1b6da"
            ],
            [
             0.4,
             "#fde0ef"
            ],
            [
             0.5,
             "#f7f7f7"
            ],
            [
             0.6,
             "#e6f5d0"
            ],
            [
             0.7,
             "#b8e186"
            ],
            [
             0.8,
             "#7fbc41"
            ],
            [
             0.9,
             "#4d9221"
            ],
            [
             1,
             "#276419"
            ]
           ],
           "sequential": [
            [
             0,
             "#0d0887"
            ],
            [
             0.1111111111111111,
             "#46039f"
            ],
            [
             0.2222222222222222,
             "#7201a8"
            ],
            [
             0.3333333333333333,
             "#9c179e"
            ],
            [
             0.4444444444444444,
             "#bd3786"
            ],
            [
             0.5555555555555556,
             "#d8576b"
            ],
            [
             0.6666666666666666,
             "#ed7953"
            ],
            [
             0.7777777777777778,
             "#fb9f3a"
            ],
            [
             0.8888888888888888,
             "#fdca26"
            ],
            [
             1,
             "#f0f921"
            ]
           ],
           "sequentialminus": [
            [
             0,
             "#0d0887"
            ],
            [
             0.1111111111111111,
             "#46039f"
            ],
            [
             0.2222222222222222,
             "#7201a8"
            ],
            [
             0.3333333333333333,
             "#9c179e"
            ],
            [
             0.4444444444444444,
             "#bd3786"
            ],
            [
             0.5555555555555556,
             "#d8576b"
            ],
            [
             0.6666666666666666,
             "#ed7953"
            ],
            [
             0.7777777777777778,
             "#fb9f3a"
            ],
            [
             0.8888888888888888,
             "#fdca26"
            ],
            [
             1,
             "#f0f921"
            ]
           ]
          },
          "colorway": [
           "#636efa",
           "#EF553B",
           "#00cc96",
           "#ab63fa",
           "#FFA15A",
           "#19d3f3",
           "#FF6692",
           "#B6E880",
           "#FF97FF",
           "#FECB52"
          ],
          "font": {
           "color": "#2a3f5f"
          },
          "geo": {
           "bgcolor": "white",
           "lakecolor": "white",
           "landcolor": "#E5ECF6",
           "showlakes": true,
           "showland": true,
           "subunitcolor": "white"
          },
          "hoverlabel": {
           "align": "left"
          },
          "hovermode": "closest",
          "mapbox": {
           "style": "light"
          },
          "paper_bgcolor": "white",
          "plot_bgcolor": "#E5ECF6",
          "polar": {
           "angularaxis": {
            "gridcolor": "white",
            "linecolor": "white",
            "ticks": ""
           },
           "bgcolor": "#E5ECF6",
           "radialaxis": {
            "gridcolor": "white",
            "linecolor": "white",
            "ticks": ""
           }
          },
          "scene": {
           "xaxis": {
            "backgroundcolor": "#E5ECF6",
            "gridcolor": "white",
            "gridwidth": 2,
            "linecolor": "white",
            "showbackground": true,
            "ticks": "",
            "zerolinecolor": "white"
           },
           "yaxis": {
            "backgroundcolor": "#E5ECF6",
            "gridcolor": "white",
            "gridwidth": 2,
            "linecolor": "white",
            "showbackground": true,
            "ticks": "",
            "zerolinecolor": "white"
           },
           "zaxis": {
            "backgroundcolor": "#E5ECF6",
            "gridcolor": "white",
            "gridwidth": 2,
            "linecolor": "white",
            "showbackground": true,
            "ticks": "",
            "zerolinecolor": "white"
           }
          },
          "shapedefaults": {
           "line": {
            "color": "#2a3f5f"
           }
          },
          "ternary": {
           "aaxis": {
            "gridcolor": "white",
            "linecolor": "white",
            "ticks": ""
           },
           "baxis": {
            "gridcolor": "white",
            "linecolor": "white",
            "ticks": ""
           },
           "bgcolor": "#E5ECF6",
           "caxis": {
            "gridcolor": "white",
            "linecolor": "white",
            "ticks": ""
           }
          },
          "title": {
           "x": 0.05
          },
          "xaxis": {
           "automargin": true,
           "gridcolor": "white",
           "linecolor": "white",
           "ticks": "",
           "title": {
            "standoff": 15
           },
           "zerolinecolor": "white",
           "zerolinewidth": 2
          },
          "yaxis": {
           "automargin": true,
           "gridcolor": "white",
           "linecolor": "white",
           "ticks": "",
           "title": {
            "standoff": 15
           },
           "zerolinecolor": "white",
           "zerolinewidth": 2
          }
         }
        },
        "title": {
         "text": "Valores preditos",
         "x": 0.5
        },
        "xaxis": {
         "range": [
          "2015-07-15",
          "2016-07-15"
         ],
         "type": "date"
        },
        "yaxis": {
         "autorange": true,
         "range": [
          3.1669701233104046,
          32.547947046143435
         ],
         "type": "linear"
        }
       }
      },
      "image/png": "[encoded data removed]",
      "text/html": [
       "<div>                            <div id=\"6b9da815-18cf-441e-a2c9-2a105ad10873\" class=\"plotly-graph-div\" style=\"height:525px; width:100%;\"></div>            <script type=\"text/javascript\">                require([\"plotly\"], function(Plotly) {                    window.PLOTLYENV=window.PLOTLYENV || {};                                    if (document.getElementById(\"6b9da815-18cf-441e-a2c9-2a105ad10873\")) {                    Plotly.newPlot(                        \"6b9da815-18cf-441e-a2c9-2a105ad10873\",                        [{\"line\": {\"color\": \"#3374FF\"}, \"name\": \"Valores Preditos\", \"opacity\": 0.8, \"type\": \"scatter\", \"x\": [\"2015-07-15\", \"2015-07-16\", \"2015-07-20\", \"2015-07-21\", \"2015-07-22\", \"2015-07-23\", \"2015-07-24\", \"2015-07-28\", \"2015-07-29\", \"2015-07-30\", \"2015-07-31\", \"2015-08-03\", \"2015-08-05\", \"2015-08-06\", \"2015-08-07\", \"2015-08-10\", \"2015-08-11\", \"2015-08-13\", \"2015-08-14\", \"2015-08-17\", \"2015-08-18\", \"2015-08-19\", \"2015-08-21\", \"2015-08-24\", \"2015-08-25\", \"2015-08-26\", \"2015-08-27\", \"2015-08-31\", \"2015-09-01\", \"2015-09-02\", \"2015-09-03\", \"2015-09-08\", \"2015-09-09\", \"2015-09-10\", \"2015-09-11\", \"2015-09-14\", \"2015-09-16\", \"2015-09-17\", \"2015-09-18\", \"2015-09-21\", \"2015-09-22\", \"2015-09-24\", \"2015-09-25\", \"2015-09-28\", \"2015-09-29\", \"2015-09-30\", \"2015-10-02\", \"2015-10-05\", \"2015-10-06\", \"2015-10-07\", \"2015-10-08\", \"2015-10-13\", \"2015-10-14\", \"2015-10-15\", \"2015-10-16\", \"2015-10-19\", \"2015-10-21\", \"2015-10-22\", \"2015-10-23\", \"2015-10-26\", \"2015-10-27\", \"2015-10-29\", \"2015-10-30\", \"2015-11-03\", \"2015-11-04\", \"2015-11-05\", \"2015-11-09\", \"2015-11-10\", \"2015-11-11\", \"2015-11-12\", \"2015-11-13\", \"2015-11-17\", \"2015-11-18\", \"2015-11-19\", \"2015-11-23\", \"2015-11-24\", \"2015-11-26\", \"2015-11-27\", \"2015-11-30\", \"2015-12-01\", \"2015-12-02\", \"2015-12-04\", \"2015-12-07\", \"2015-12-08\", \"2015-12-09\", \"2015-12-11\", \"2015-12-14\", \"2015-12-15\", \"2015-12-16\", \"2015-12-17\", \"2015-12-21\", \"2015-12-22\", \"2015-12-23\", \"2015-12-28\", \"2015-12-29\", \"2016-01-04\", \"2016-01-05\", \"2016-01-06\", \"2016-01-07\", \"2016-01-08\", \"2016-01-12\", \"2016-01-13\", \"2016-01-14\", \"2016-01-15\", \"2016-01-19\", \"2016-01-20\", \"2016-01-21\", \"2016-01-22\", \"2016-01-27\", \"2016-01-28\", \"2016-01-29\", \"2016-02-01\", \"2016-02-02\", \"2016-02-04\", \"2016-02-05\", \"2016-02-10\", \"2016-02-11\", \"2016-02-12\", \"2016-02-17\", \"2016-02-18\", \"2016-02-19\", \"2016-02-22\", \"2016-02-24\", \"2016-02-25\", \"2016-02-26\", \"2016-02-29\", \"2016-03-01\", \"2016-03-03\", \"2016-03-04\", \"2016-03-07\", \"2016-03-08\", \"2016-03-09\", \"2016-03-11\", \"2016-03-14\", \"2016-03-15\", \"2016-03-16\", \"2016-03-17\", \"2016-03-22\", \"2016-03-23\", \"2016-03-24\", \"2016-03-28\", \"2016-03-30\", \"2016-03-31\", \"2016-04-01\", \"2016-04-04\", \"2016-04-05\", \"2016-04-07\", \"2016-04-08\", \"2016-04-11\", \"2016-04-12\", \"2016-04-13\", \"2016-04-15\", \"2016-04-18\", \"2016-04-19\", \"2016-04-20\", \"2016-04-22\", \"2016-04-26\", \"2016-04-27\", \"2016-04-28\", \"2016-04-29\", \"2016-05-02\", \"2016-05-04\", \"2016-05-05\", \"2016-05-06\", \"2016-05-09\", \"2016-05-11\", \"2016-05-12\", \"2016-05-13\", \"2016-05-16\", \"2016-05-17\", \"2016-05-19\", \"2016-05-20\", \"2016-05-23\", \"2016-05-24\", \"2016-05-25\", \"2016-05-30\", \"2016-05-31\", \"2016-06-01\", \"2016-06-02\", \"2016-06-03\", \"2016-06-07\", \"2016-06-08\", \"2016-06-09\", \"2016-06-10\", \"2016-06-13\", \"2016-06-15\", \"2016-06-16\", \"2016-06-17\", \"2016-06-20\", \"2016-06-21\", \"2016-06-23\", \"2016-06-24\", \"2016-06-27\", \"2016-06-28\", \"2016-06-29\", \"2016-07-01\", \"2016-07-04\", \"2016-07-05\", \"2016-07-06\", \"2016-07-07\", \"2016-07-11\", \"2016-07-12\", \"2016-07-13\", \"2016-07-14\", \"2016-07-15\"], \"y\": [21.7547500225402, 9.229624804763708, 7.851732750630525, 15.493693328661829, 15.3147284786932, 12.055437361426302, 13.273632420539137, 18.445418462944048, 30.011882214664883, 25.92338404261076, 26.492749493197117, 25.429302270166577, 19.302467669624058, 16.550217836316858, 21.33206259232744, 28.930426436682534, 19.199190680963795, 14.212235481731083, 13.205196683670652, 12.456879819657495, 7.41982917007554, 8.48969316373896, 21.864490943189328, 5.511001189780647, 26.948213911818613, 21.42642018487168, 16.669776425493513, 10.261253467148652, 17.020018950862553, 17.95075850948937, 26.32583863599727, 13.266753992034609, 27.02261121674013, 29.881660871448748, 29.657240732201867, 5.049893598496405, 13.532964589620772, 16.93895070426249, 17.50025675896202, 11.975445720283933, 19.215596292239088, 7.632785325519939, 20.83214846597928, 8.780774392903327, 26.497959303732014, 15.74712444743192, 15.551622104367246, 20.015627441854996, 6.685673120881005, 16.26682210761772, 14.421974944087912, 16.949400774192444, 15.213556034212447, 27.71119861276315, 30.820810767147165, 30.919191194758596, 21.464646113776247, 29.635392967313223, 8.073037873428335, 25.159286400654906, 13.509977099822528, 27.53954688421072, 12.478490354986098, 4.636018969452056, 30.189681030755843, 15.354093880755658, 15.86441570638748, 18.653916337685875, 15.3379690248797, 21.30926219336153, 22.893716536896346, 29.46256483121792, 22.7903516418713, 8.393718716097279, 21.12637908417985, 14.010922894271589, 8.907937329955052, 13.337081142743719, 29.997083419787398, 25.87200441587783, 27.794511940116237, 10.0163287452351, 25.6859930849597, 24.598629504822735, 15.982914823025002, 13.6755109472066, 19.176237550258083, 16.675860732038274, 17.335502268037626, 15.849909543330316, 13.851149573665062, 11.385557627107376, 12.452290379593158, 16.322143211179775, 28.74811026527734, 29.57446498855974, 16.253006736796216, 27.983381729449288, 9.804756962483959, 16.838435301205436, 22.515400795979616, 17.53382236141781, 28.85790714480898, 27.439423439648404, 8.295837452420606, 22.346033778846376, 15.78774316819721, 12.196671475759432, 19.7059749793905, 26.411550070155354, 19.16841209581532, 15.237865102794215, 27.175393902535376, 13.070581192619747, 18.48378399456767, 16.312383925537922, 15.784392560551384, 24.536442176898003, 26.3631724177855, 19.83226933649997, 16.327596221497476, 16.302536194837618, 25.810302026175744, 25.218250908588196, 8.42929292184282, 14.043207668126731, 31.07889820000178, 14.585005069405929, 14.891923514675849, 28.06986627270041, 20.99608576652651, 16.150361268976173, 16.453998651880237, 28.970467280283838, 10.808209128584327, 16.269278296194305, 27.88114365759139, 7.90843617047657, 15.2211342910747, 15.818641277269844, 28.068326305599886, 20.01751761032374, 15.915731597528769, 23.332245557997766, 27.93489858213895, 29.972569919651185, 13.445503869929444, 18.484093194421774, 15.991117490968069, 10.667623308463602, 18.382372306052396, 26.512620754084217, 5.749982499567225, 13.052662197250157, 15.932132799854227, 22.772329287837614, 19.11207874149146, 15.434521028459214, 18.22282383406277, 15.696352412348825, 8.132029696063752, 8.018106847542024, 12.212190927512319, 9.080765834329165, 21.637723062716017, 27.038611105509133, 18.17341401899709, 13.965450274029745, 15.664069124900658, 10.415933481673365, 27.41835688793454, 29.58626935272968, 15.289467164191585, 21.51529600590844, 18.506136395228253, 23.67373876519976, 31.030768750829278, 13.937220110551412, 26.026361528367758, 13.353108843104074, 19.397641116095443, 14.258017978794207, 15.203221102423381, 24.60857319055573, 27.40404329627576, 7.783785169724335, 15.71918322221809, 15.109906143466311, 15.467762128757382, 17.08461698811948, 17.806035306451534, 25.716326207390516, 27.685200942112854, 7.523270199543211, 26.891413529142316, 15.773073730776694, 15.045384951090345, 25.405792634134727, 16.059085463753778, 25.25210891467742, 25.739891346897355, 13.670359952351442, 20.45823355533703, 19.686797462123195, 18.401252304567503]}],                        {\"template\": {\"data\": {\"bar\": [{\"error_x\": {\"color\": \"#2a3f5f\"}, \"error_y\": {\"color\": \"#2a3f5f\"}, \"marker\": {\"line\": {\"color\": \"#E5ECF6\", \"width\": 0.5}}, \"type\": \"bar\"}], \"barpolar\": [{\"marker\": {\"line\": {\"color\": \"#E5ECF6\", \"width\": 0.5}}, \"type\": \"barpolar\"}], \"carpet\": [{\"aaxis\": {\"endlinecolor\": \"#2a3f5f\", \"gridcolor\": \"white\", \"linecolor\": \"white\", \"minorgridcolor\": \"white\", \"startlinecolor\": \"#2a3f5f\"}, \"baxis\": {\"endlinecolor\": \"#2a3f5f\", \"gridcolor\": \"white\", \"linecolor\": \"white\", \"minorgridcolor\": \"white\", \"startlinecolor\": \"#2a3f5f\"}, \"type\": \"carpet\"}], \"choropleth\": [{\"colorbar\": {\"outlinewidth\": 0, \"ticks\": \"\"}, \"type\": \"choropleth\"}], \"contour\": [{\"colorbar\": {\"outlinewidth\": 0, \"ticks\": \"\"}, \"colorscale\": [[0.0, \"#0d0887\"], [0.1111111111111111, \"#46039f\"], [0.2222222222222222, \"#7201a8\"], [0.3333333333333333, \"#9c179e\"], [0.4444444444444444, \"#bd3786\"], [0.5555555555555556, \"#d8576b\"], [0.6666666666666666, \"#ed7953\"], [0.7777777777777778, \"#fb9f3a\"], [0.8888888888888888, \"#fdca26\"], [1.0, \"#f0f921\"]], \"type\": \"contour\"}], \"contourcarpet\": [{\"colorbar\": {\"outlinewidth\": 0, \"ticks\": \"\"}, \"type\": \"contourcarpet\"}], \"heatmap\": [{\"colorbar\": {\"outlinewidth\": 0, \"ticks\": \"\"}, \"colorscale\": [[0.0, \"#0d0887\"], [0.1111111111111111, \"#46039f\"], [0.2222222222222222, \"#7201a8\"], [0.3333333333333333, \"#9c179e\"], [0.4444444444444444, \"#bd3786\"], [0.5555555555555556, \"#d8576b\"], [0.6666666666666666, \"#ed7953\"], [0.7777777777777778, \"#fb9f3a\"], [0.8888888888888888, \"#fdca26\"], [1.0, \"#f0f921\"]], \"type\": \"heatmap\"}], \"heatmapgl\": [{\"colorbar\": {\"outlinewidth\": 0, \"ticks\": \"\"}, \"colorscale\": [[0.0, \"#0d0887\"], [0.1111111111111111, \"#46039f\"], [0.2222222222222222, \"#7201a8\"], [0.3333333333333333, \"#9c179e\"], [0.4444444444444444, \"#bd3786\"], [0.5555555555555556, \"#d8576b\"], [0.6666666666666666, \"#ed7953\"], [0.7777777777777778, \"#fb9f3a\"], [0.8888888888888888, \"#fdca26\"], [1.0, \"#f0f921\"]], \"type\": \"heatmapgl\"}], \"histogram\": [{\"marker\": {\"colorbar\": {\"outlinewidth\": 0, \"ticks\": \"\"}}, \"type\": \"histogram\"}], \"histogram2d\": [{\"colorbar\": {\"outlinewidth\": 0, \"ticks\": \"\"}, \"colorscale\": [[0.0, \"#0d0887\"], [0.1111111111111111, \"#46039f\"], [0.2222222222222222, \"#7201a8\"], [0.3333333333333333, \"#9c179e\"], [0.4444444444444444, \"#bd3786\"], [0.5555555555555556, \"#d8576b\"], [0.6666666666666666, \"#ed7953\"], [0.7777777777777778, \"#fb9f3a\"], [0.8888888888888888, \"#fdca26\"], [1.0, \"#f0f921\"]], \"type\": \"histogram2d\"}], \"histogram2dcontour\": [{\"colorbar\": {\"outlinewidth\": 0, \"ticks\": \"\"}, \"colorscale\": [[0.0, \"#0d0887\"], [0.1111111111111111, \"#46039f\"], [0.2222222222222222, \"#7201a8\"], [0.3333333333333333, \"#9c179e\"], [0.4444444444444444, \"#bd3786\"], [0.5555555555555556, \"#d8576b\"], [0.6666666666666666, \"#ed7953\"], [0.7777777777777778, \"#fb9f3a\"], [0.8888888888888888, \"#fdca26\"], [1.0, \"#f0f921\"]], \"type\": \"histogram2dcontour\"}], \"mesh3d\": [{\"colorbar\": {\"outlinewidth\": 0, \"ticks\": \"\"}, \"type\": \"mesh3d\"}], \"parcoords\": [{\"line\": {\"colorbar\": {\"outlinewidth\": 0, \"ticks\": \"\"}}, \"type\": \"parcoords\"}], \"pie\": [{\"automargin\": true, \"type\": \"pie\"}], \"scatter\": [{\"marker\": {\"colorbar\": {\"outlinewidth\": 0, \"ticks\": \"\"}}, \"type\": \"scatter\"}], \"scatter3d\": [{\"line\": {\"colorbar\": {\"outlinewidth\": 0, \"ticks\": \"\"}}, \"marker\": {\"colorbar\": {\"outlinewidth\": 0, \"ticks\": \"\"}}, \"type\": \"scatter3d\"}], \"scattercarpet\": [{\"marker\": {\"colorbar\": {\"outlinewidth\": 0, \"ticks\": \"\"}}, \"type\": \"scattercarpet\"}], \"scattergeo\": [{\"marker\": {\"colorbar\": {\"outlinewidth\": 0, \"ticks\": \"\"}}, \"type\": \"scattergeo\"}], \"scattergl\": [{\"marker\": {\"colorbar\": {\"outlinewidth\": 0, \"ticks\": \"\"}}, \"type\": \"scattergl\"}], \"scattermapbox\": [{\"marker\": {\"colorbar\": {\"outlinewidth\": 0, \"ticks\": \"\"}}, \"type\": \"scattermapbox\"}], \"scatterpolar\": [{\"marker\": {\"colorbar\": {\"outlinewidth\": 0, \"ticks\": \"\"}}, \"type\": \"scatterpolar\"}], \"scatterpolargl\": [{\"marker\": {\"colorbar\": {\"outlinewidth\": 0, \"ticks\": \"\"}}, \"type\": \"scatterpolargl\"}], \"scatterternary\": [{\"marker\": {\"colorbar\": {\"outlinewidth\": 0, \"ticks\": \"\"}}, \"type\": \"scatterternary\"}], \"surface\": [{\"colorbar\": {\"outlinewidth\": 0, \"ticks\": \"\"}, \"colorscale\": [[0.0, \"#0d0887\"], [0.1111111111111111, \"#46039f\"], [0.2222222222222222, \"#7201a8\"], [0.3333333333333333, \"#9c179e\"], [0.4444444444444444, \"#bd3786\"], [0.5555555555555556, \"#d8576b\"], [0.6666666666666666, \"#ed7953\"], [0.7777777777777778, \"#fb9f3a\"], [0.8888888888888888, \"#fdca26\"], [1.0, \"#f0f921\"]], \"type\": \"surface\"}], \"table\": [{\"cells\": {\"fill\": {\"color\": \"#EBF0F8\"}, \"line\": {\"color\": \"white\"}}, \"header\": {\"fill\": {\"color\": \"#C8D4E3\"}, \"line\": {\"color\": \"white\"}}, \"type\": \"table\"}]}, \"layout\": {\"annotationdefaults\": {\"arrowcolor\": \"#2a3f5f\", \"arrowhead\": 0, \"arrowwidth\": 1}, \"autotypenumbers\": \"strict\", \"coloraxis\": {\"colorbar\": {\"outlinewidth\": 0, \"ticks\": \"\"}}, \"colorscale\": {\"diverging\": [[0, \"#8e0152\"], [0.1, \"#c51b7d\"], [0.2, \"#de77ae\"], [0.3, \"#f1b6da\"], [0.4, \"#fde0ef\"], [0.5, \"#f7f7f7\"], [0.6, \"#e6f5d0\"], [0.7, \"#b8e186\"], [0.8, \"#7fbc41\"], [0.9, \"#4d9221\"], [1, \"#276419\"]], \"sequential\": [[0.0, \"#0d0887\"], [0.1111111111111111, \"#46039f\"], [0.2222222222222222, \"#7201a8\"], [0.3333333333333333, \"#9c179e\"], [0.4444444444444444, \"#bd3786\"], [0.5555555555555556, \"#d8576b\"], [0.6666666666666666, \"#ed7953\"], [0.7777777777777778, \"#fb9f3a\"], [0.8888888888888888, \"#fdca26\"], [1.0, \"#f0f921\"]], \"sequentialminus\": [[0.0, \"#0d0887\"], [0.1111111111111111, \"#46039f\"], [0.2222222222222222, \"#7201a8\"], [0.3333333333333333, \"#9c179e\"], [0.4444444444444444, \"#bd3786\"], [0.5555555555555556, \"#d8576b\"], [0.6666666666666666, \"#ed7953\"], [0.7777777777777778, \"#fb9f3a\"], [0.8888888888888888, \"#fdca26\"], [1.0, \"#f0f921\"]]}, \"colorway\": [\"#636efa\", \"#EF553B\", \"#00cc96\", \"#ab63fa\", \"#FFA15A\", \"#19d3f3\", \"#FF6692\", \"#B6E880\", \"#FF97FF\", \"#FECB52\"], \"font\": {\"color\": \"#2a3f5f\"}, \"geo\": {\"bgcolor\": \"white\", \"lakecolor\": \"white\", \"landcolor\": \"#E5ECF6\", \"showlakes\": true, \"showland\": true, \"subunitcolor\": \"white\"}, \"hoverlabel\": {\"align\": \"left\"}, \"hovermode\": \"closest\", \"mapbox\": {\"style\": \"light\"}, \"paper_bgcolor\": \"white\", \"plot_bgcolor\": \"#E5ECF6\", \"polar\": {\"angularaxis\": {\"gridcolor\": \"white\", \"linecolor\": \"white\", \"ticks\": \"\"}, \"bgcolor\": \"#E5ECF6\", \"radialaxis\": {\"gridcolor\": \"white\", \"linecolor\": \"white\", \"ticks\": \"\"}}, \"scene\": {\"xaxis\": {\"backgroundcolor\": \"#E5ECF6\", \"gridcolor\": \"white\", \"gridwidth\": 2, \"linecolor\": \"white\", \"showbackground\": true, \"ticks\": \"\", \"zerolinecolor\": \"white\"}, \"yaxis\": {\"backgroundcolor\": \"#E5ECF6\", \"gridcolor\": \"white\", \"gridwidth\": 2, \"linecolor\": \"white\", \"showbackground\": true, \"ticks\": \"\", \"zerolinecolor\": \"white\"}, \"zaxis\": {\"backgroundcolor\": \"#E5ECF6\", \"gridcolor\": \"white\", \"gridwidth\": 2, \"linecolor\": \"white\", \"showbackground\": true, \"ticks\": \"\", \"zerolinecolor\": \"white\"}}, \"shapedefaults\": {\"line\": {\"color\": \"#2a3f5f\"}}, \"ternary\": {\"aaxis\": {\"gridcolor\": \"white\", \"linecolor\": \"white\", \"ticks\": \"\"}, \"baxis\": {\"gridcolor\": \"white\", \"linecolor\": \"white\", \"ticks\": \"\"}, \"bgcolor\": \"#E5ECF6\", \"caxis\": {\"gridcolor\": \"white\", \"linecolor\": \"white\", \"ticks\": \"\"}}, \"title\": {\"x\": 0.05}, \"xaxis\": {\"automargin\": true, \"gridcolor\": \"white\", \"linecolor\": \"white\", \"ticks\": \"\", \"title\": {\"standoff\": 15}, \"zerolinecolor\": \"white\", \"zerolinewidth\": 2}, \"yaxis\": {\"automargin\": true, \"gridcolor\": \"white\", \"linecolor\": \"white\", \"ticks\": \"\", \"title\": {\"standoff\": 15}, \"zerolinecolor\": \"white\", \"zerolinewidth\": 2}}}, \"title\": {\"text\": \"Valores preditos\", \"x\": 0.5}, \"xaxis\": {\"range\": [\"2015-07-15\", \"2016-07-15\"]}},                        {\"responsive\": true}                    ).then(function(){\n",
       "                            \n",
       "var gd = document.getElementById('6b9da815-18cf-441e-a2c9-2a105ad10873');\n",
       "var x = new MutationObserver(function (mutations, observer) {{\n",
       "        var display = window.getComputedStyle(gd).display;\n",
       "        if (!display || display === 'none') {{\n",
       "            console.log([gd, 'removed!']);\n",
       "            Plotly.purge(gd);\n",
       "            observer.disconnect();\n",
       "        }}\n",
       "}});\n",
       "\n",
       "// Listen for the removal of the full notebook cells\n",
       "var notebookContainer = gd.closest('#notebook-container');\n",
       "if (notebookContainer) {{\n",
       "    x.observe(notebookContainer, {childList: true});\n",
       "}}\n",
       "\n",
       "// Listen for the clearing of the current output cell\n",
       "var outputEl = gd.closest('.output');\n",
       "if (outputEl) {{\n",
       "    x.observe(outputEl, {childList: true});\n",
       "}}\n",
       "\n",
       "                        })                };                });            </script>        </div>"
      ]
     },
     "metadata": {},
     "output_type": "display_data"
    }
   ],
   "source": [
    "'''\n",
    "    Modelo para análise e predição do valor máximo do ativo PETR4.\n",
    "'''\n",
    "\n",
    "import pandas as pandas\n",
    "import scipy as sp\n",
    "import numpy as np\n",
    "import matplotlib.pyplot as plt\n",
    "import plotly.graph_objects as go\n",
    "import plotly.offline as py\n",
    "import statsmodels.formula.api as sm\n",
    "import time\n",
    "\n",
    "from scipy import stats\n",
    "from plotly.offline import plot, iplot, init_notebook_mode\n",
    "init_notebook_mode(connected=True)\n",
    "\n",
    "from sklearn.model_selection import train_test_split\n",
    "from sklearn.linear_model import LinearRegression\n",
    "from sklearn.metrics import mean_squared_error\n",
    "from datetime import datetime\n",
    "\n",
    "################### Análise dos Dados Dollar USDBRL=X.csv #######################\n",
    "dataFrameDollar = pandas.read_csv (\"../dataset/USDBRL=X.csv\", sep=',')\n",
    "print('oi')\n",
    "print(dataFrameDollar[\"Close\"].count())\n",
    "print(dataFrameDollar[\"Open\"].count())\n",
    "dataFrameDollar.head()\n",
    "dataFrameDollar.isnull().sum()\n",
    "dataFrameDollar = dataFrameDollar.dropna()\n",
    "dataFrameDollar.shape\n",
    "dataFrameDollar.describe()\n",
    "\n",
    "\n",
    "################### Análise dos Dados Crude Oil Sep 20 (CL=F) #######################\n",
    "dataFrameOleoCru = pandas.read_csv (\"../dataset/CL=F.csv\", sep=',')\n",
    "print('oi')\n",
    "print(dataFrameOleoCru[\"Close\"].count())\n",
    "print(dataFrameOleoCru[\"Open\"].count())\n",
    "dataFrameOleoCru.head()\n",
    "dataFrameOleoCru.isnull().sum()\n",
    "dataFrameOleoCru = dataFrameOleoCru.dropna()\n",
    "dataFrameOleoCru.shape\n",
    "dataFrameOleoCru.describe()\n",
    "\n",
    "\n",
    "################### Análise dos Dados ativo Petr4 #######################\n",
    "dataFramePetr4 = pandas.read_csv (\"../dataset/PETR4.SA.csv\", sep=',')\n",
    "\n",
    "dataFramePetr4[\"clClose\"] = dataFrameOleoCru[\"Close\"]\n",
    "\n",
    "dataFramePetr4.head()\n",
    "dataFramePetr4.tail()\n",
    "dataFramePetr4.isnull().sum()\n",
    "dataFramePetr4 = dataFramePetr4.dropna()\n",
    "dataFramePetr4.shape\n",
    "print(dataFramePetr4.describe())\n",
    "\n",
    "dictionary_plot_values = [\n",
    "                            ('Open',    dataFramePetr4.Date, dataFramePetr4.Open,   \"PETR4 Open\",      '#FFFF00', \"Ativo Petr4 Open\",      '2015-07-15', '2020-07-14'),\n",
    "                            ('High',    dataFramePetr4.Date, dataFramePetr4.High,   \"PETR4 High\",      '#17BECF', \"Ativo Petr4 High\",      '2015-07-15', '2020-07-14'),\n",
    "                            ('Close',   dataFramePetr4.Date,dataFramePetr4.Close,   \"PETR4 Close\",     '#ADFF2F', \"Ativo Petr4 Close\",     '2015-07-15', '2020-07-14'),\n",
    "                            ('Low',     dataFramePetr4.Date,dataFramePetr4.Low,     \"PETR4 Low\",       '#FF1493', \"Ativo Petr4 Low\",       '2015-07-15', '2020-07-14'),\n",
    "                            ('clClose', dataFramePetr4.Date,dataFramePetr4.clClose, \"Preço do Barril\", '#FF0000', \"Preço do Barril Close\", '2015-07-15', '2020-07-14')\n",
    "                         ]\n",
    "\n",
    "def plotDataSet(column_date, column_type, name_, color_code, title_name, datefrom, dateUntil):\n",
    "   \n",
    "    type_column = go.Scatter( x=column_date, y=column_type, name = name_, line = dict(color = color_code), opacity = 0.8)\n",
    "    data = [type_column]\n",
    "    layout = dict(title = title_name,title_x= 0.5,xaxis = dict(range = [datefrom, dateUntil]))\n",
    "    fig = dict(data=data, layout=layout)\n",
    "    py.iplot(fig, filename = name_)\n",
    "   \n",
    "def convertDateToTimeStamp(dateIn, dataFramePetr4):\n",
    "   \n",
    "    dataPetr4 = dateIn\n",
    "    arrayDate = []\n",
    "    arrayDateReplace = []\n",
    "    cont = 0\n",
    "    for date in dataPetr4:\n",
    "        dt = datetime.strptime(date, '%Y-%m-%d')\n",
    "        ts = time.mktime(dt.timetuple())\n",
    "        arrayDate.insert(cont,ts)\n",
    "        date = date.replace('-','')\n",
    "        arrayDateReplace.insert(cont, date)\n",
    "        cont+=1\n",
    "       \n",
    "    dataFramePetr4['timeStamp'] = arrayDate\n",
    "    print(dataFramePetr4['timeStamp'])\n",
    "    dataFramePetr4['dateReplace'] = arrayDateReplace\n",
    "       \n",
    "def candleSticks(dataFramePetr4):\n",
    "    datasetUmAno = dataFramePetr4.head(180)\n",
    "    data = go.Candlestick(x=datasetUmAno.Date, open=datasetUmAno.Open, high=datasetUmAno.High, low=datasetUmAno.Low, close=datasetUmAno.Close)\n",
    "    data = [data]\n",
    "    py.offline.iplot(data, filename='Candlestick Petr4')\n",
    "\n",
    "def linearRegression(dataFramePetr4):\n",
    "    regression = sm.ols(formula='clClose~Open+High+Low+Close', data=dataFramePetr4).fit()\n",
    "    print(regression.summary())\n",
    "    return regression\n",
    "\n",
    "def areThereCorrelation(dataFramePetr4, dataFrameDollar, name_1, name_2):\n",
    "    print('--------------------------------------------------------------')\n",
    "    print(name_1 + '\\n')\n",
    "    print('\\n')   \n",
    "    print('Low   :' + str(dataFramePetr4[\"Low\"].corr(dataFrameDollar[\"Low\"])))  \n",
    "    print('Open  :' + str(dataFramePetr4[\"Open\"].corr(dataFrameDollar[\"Open\"])))  \n",
    "    print('High  :' + str(dataFramePetr4[\"High\"].corr(dataFrameDollar[\"High\"])))\n",
    "    print('Close :' + str(dataFramePetr4[\"Close\"].corr(dataFrameDollar[\"Close\"])))\n",
    "\n",
    "    print('\\n')\n",
    "    print(name_2 + '\\n')\n",
    "\n",
    "    print('Open sec :' + str(dataFramePetr4[\"Open\"].corr(dataFrameDollar[\"Close\"])))  \n",
    "    print('High sec :' + str(dataFramePetr4[\"High\"].corr(dataFrameDollar[\"Low\"])))\n",
    "    \n",
    "    print('\\n')\n",
    "    print('\\n')\n",
    "    \n",
    "    print('--------------------------------------------------------------')\n",
    "\n",
    "\n",
    "def correlationChart(x, y):\n",
    "    #plt.scatter(x,y,color='b')\n",
    "    plt.plot(x,y,zorder=1)\n",
    "    plt.scatter(x,y,zorder=2)\n",
    "    plt.xlabel('Petr4 preço Máximo')\n",
    "    plt.ylabel('CL=F valor Fechamento')\n",
    "    plt.axis([min(x),max(x),min(y),max(y)])\n",
    "    plt.autoscale('False')\n",
    "    plt.show()\n",
    "\n",
    "def prepareToTestAndTrainingBases(dataFramePetr4):\n",
    "    dataTrainingWithoutMax  = dataFramePetr4;\n",
    "    dataTrainingWithoutMax  = dataTrainingWithoutMax.drop(columns=['High'])\n",
    "    dataTrainingWithoutMax  = dataTrainingWithoutMax.drop(columns=['Date'])\n",
    "    print(dataTrainingWithoutMax.describe())\n",
    "\n",
    "    #Atribuindo apenas o valor máximo\n",
    "    dataTrainingHigh = dataFramePetr4[\"High\"]\n",
    "\n",
    "    #Dividindo as bases em teste e treino\n",
    "    X_dataTrainning, X_dataTest, y_dataTrainning, y_dataTest = train_test_split(dataTrainingWithoutMax, dataTrainingHigh,test_size=0.2, random_state=0)\n",
    "\n",
    "    print(\" ---------------- Treino ------------------ \")\n",
    "    print(X_dataTrainning)\n",
    "    print(y_dataTrainning)\n",
    "    print(\"Teste\")\n",
    "    print(\" ---------------- X_dataTest ------------------ \")\n",
    "    print(y_dataTest)\n",
    "    print(X_dataTest)\n",
    "   \n",
    "    #Regressão Linear\n",
    "    linearRegressionModel = LinearRegression()\n",
    "    linearRegressionModel.fit(X_dataTrainning, y_dataTrainning)\n",
    "    print(linearRegressionModel.coef_)\n",
    "   \n",
    "    #Validação e acertividade do modelo\n",
    "    RMSE = mean_squared_error(y_dataTest, linearRegressionModel.predict(X_dataTest))**0.5\n",
    "    print(\"Acertividade do modelo : \" + str(RMSE))\n",
    "   \n",
    "    X_predict = linearRegressionModel.predict(X_dataTest)\n",
    "   \n",
    "    plotDataSet(dataFramePetr4['Date'][:205], y_dataTest, 'Valores Reais', '#FF5733', 'Valores Reais','2015-07-15', '2016-07-15')\n",
    "    plotDataSet(dataFramePetr4['Date'][:205], X_predict, 'Valores Preditos', '#3374FF', 'Valores preditos','2015-07-15', '2016-07-15')\n",
    "   \n",
    "    return X_predict\n",
    "\n",
    "if __name__ == '__main__':\n",
    "   \n",
    "    #for plot_values in dictionary_plot_values:\n",
    "        #plotDataSet(plot_values[1], plot_values[2], plot_values[3], plot_values[4], plot_values[5], plot_values[6], plot_values[7])\n",
    "   \n",
    "    #convertDateToTimeStamp(dataFramePetr4[\"Date\"], dataFramePetr4)    \n",
    "    candleSticks(dataFramePetr4)    \n",
    "    candleSticks(dataFrameOleoCru)\n",
    "    #linearRegression(dataFramePetr4)\n",
    "    areThereCorrelation(dataFramePetr4,dataFrameDollar, 'PETR4', 'Dollar')\n",
    "    areThereCorrelation(dataFramePetr4,dataFrameOleoCru, 'PETR4', 'CL=F')\n",
    "    correlationChart(dataFramePetr4.High[:365], dataFramePetr4.clClose[:365])\n",
    "    prepareToTestAndTrainingBases(dataFramePetr4)\n",
    "\n"
   ]
  },
  {
   "cell_type": "code",
   "execution_count": null,
   "metadata": {},
   "outputs": [],
   "source": []
  },
  {
   "cell_type": "code",
   "execution_count": null,
   "metadata": {},
   "outputs": [],
   "source": []
  },
  {
   "cell_type": "code",
   "execution_count": null,
   "metadata": {},
   "outputs": [],
   "source": []
  },
  {
   "cell_type": "code",
   "execution_count": null,
   "metadata": {},
   "outputs": [],
   "source": []
  }
 ],
 "metadata": {
  "kernelspec": {
   "display_name": "Python 3",
   "language": "python",
   "name": "python3"
  },
  "language_info": {
   "codemirror_mode": {
    "name": "ipython",
    "version": 3
   },
   "file_extension": ".py",
   "mimetype": "text/x-python",
   "name": "python",
   "nbconvert_exporter": "python",
   "pygments_lexer": "ipython3",
   "version": "3.8.5"
  }
 },
 "nbformat": 4,
 "nbformat_minor": 4
}
